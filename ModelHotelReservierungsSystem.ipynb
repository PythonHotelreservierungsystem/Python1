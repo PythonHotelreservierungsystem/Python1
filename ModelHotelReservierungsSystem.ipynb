{
 "cells": [
  {
   "metadata": {},
   "cell_type": "code",
   "outputs": [],
   "execution_count": null,
   "source": [
    "from Demos.security.set_file_audit import admin_sid\n",
    "\n",
    "print(\"Hello World\")"
   ],
   "id": "2df2b91cc1152265"
  },
  {
   "metadata": {},
   "cell_type": "code",
   "outputs": [],
   "execution_count": null,
   "source": [
    "from model.address import Address\n",
    "\n",
    "new_address = Address(11, \"Bachstrasse 12\", \"Olten\", 4600)\n",
    "\n",
    "print(new_address)"
   ],
   "id": "f2dde1fe1ee1d8b4"
  },
  {
   "metadata": {
    "ExecuteTime": {
     "end_time": "2025-05-12T13:05:26.385074Z",
     "start_time": "2025-05-12T13:05:26.360860Z"
    }
   },
   "cell_type": "code",
   "source": [
    "from model.admin import Admin\n",
    "\n",
    "new_admin = Admin(4, \"jst\", \"Start123*\", \"test@fhnw.ch\")\n",
    "\n",
    "print(new_admin)"
   ],
   "id": "897f85451158e635",
   "outputs": [
    {
     "name": "stdout",
     "output_type": "stream",
     "text": [
      "<model.admin.Admin object at 0x0000026DBA421640>\n"
     ]
    }
   ],
   "execution_count": 1
  }
 ],
 "metadata": {
  "kernelspec": {
   "display_name": "Python 3",
   "language": "python",
   "name": "python3"
  },
  "language_info": {
   "codemirror_mode": {
    "name": "ipython",
    "version": 2
   },
   "file_extension": ".py",
   "mimetype": "text/x-python",
   "name": "python",
   "nbconvert_exporter": "python",
   "pygments_lexer": "ipython2",
   "version": "2.7.6"
  }
 },
 "nbformat": 4,
 "nbformat_minor": 5
}
