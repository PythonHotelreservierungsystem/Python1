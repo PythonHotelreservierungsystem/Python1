{
 "cells": [
  {
   "metadata": {},
   "cell_type": "code",
   "outputs": [],
   "execution_count": null,
   "source": [
    "from Demos.security.set_file_audit import admin_sid\n",
    "\n",
    "print(\"Hello World\")"
   ],
   "id": "f72339bfe0dbe4d9"
  },
  {
   "metadata": {
    "ExecuteTime": {
     "end_time": "2025-05-14T18:08:07.682580Z",
     "start_time": "2025-05-14T18:08:07.670974Z"
    }
   },
   "cell_type": "code",
   "source": [
    "from model.address import Address\n",
    "\n",
    "new_address = Address(11, \"Bachstrasse 12\", \"Olten\", 4600)\n",
    "\n",
    "print(new_address)"
   ],
   "id": "ed69c2ab476450a3",
   "outputs": [
    {
     "name": "stdout",
     "output_type": "stream",
     "text": [
      "Address(id=11, street=Bachstrasse 12, city=Olten, zip_code=4600)\n"
     ]
    }
   ],
   "execution_count": 21
  },
  {
   "metadata": {
    "ExecuteTime": {
     "end_time": "2025-05-14T18:08:09.840611Z",
     "start_time": "2025-05-14T18:08:09.830584Z"
    }
   },
   "cell_type": "code",
   "source": [
    "from model.admin import Admin\n",
    "\n",
    "new_admin = Admin(4, \"jst\", \"Start123*\", \"test@fhnw.ch\")\n",
    "\n",
    "print(new_admin)"
   ],
   "id": "b4acb3ef706ef40d",
   "outputs": [
    {
     "name": "stdout",
     "output_type": "stream",
     "text": [
      "<model.admin.Admin object at 0x000001A955F14470>\n"
     ]
    }
   ],
   "execution_count": 22
  },
  {
   "metadata": {
    "ExecuteTime": {
     "end_time": "2025-05-19T08:46:59.694281Z",
     "start_time": "2025-05-19T08:46:59.678478Z"
    }
   },
   "cell_type": "code",
   "source": [
    "from model.facility import Facility\n",
    "\n",
    "new_facility = Facility(56, \"test\")\n",
    "\n",
    "print(new_facility)"
   ],
   "id": "f861800dff266684",
   "outputs": [
    {
     "name": "stdout",
     "output_type": "stream",
     "text": [
      "<model.facility.Facility object at 0x000002D52EF6BC50>\n"
     ]
    }
   ],
   "execution_count": 2
  }
 ],
 "metadata": {
  "kernelspec": {
   "display_name": "Python 3",
   "language": "python",
   "name": "python3"
  },
  "language_info": {
   "codemirror_mode": {
    "name": "ipython",
    "version": 2
   },
   "file_extension": ".py",
   "mimetype": "text/x-python",
   "name": "python",
   "nbconvert_exporter": "python",
   "pygments_lexer": "ipython2",
   "version": "2.7.6"
  }
 },
 "nbformat": 4,
 "nbformat_minor": 5
}
