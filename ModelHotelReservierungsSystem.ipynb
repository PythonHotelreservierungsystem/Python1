{
 "cells": [
  {
   "metadata": {},
   "cell_type": "code",
   "outputs": [],
   "execution_count": null,
   "source": [
    "from Demos.security.set_file_audit import admin_sid\n",
    "\n",
    "print(\"Hello World\")"
   ],
   "id": "f72339bfe0dbe4d9"
  },
  {
   "metadata": {
    "ExecuteTime": {
     "end_time": "2025-05-14T18:08:07.682580Z",
     "start_time": "2025-05-14T18:08:07.670974Z"
    }
   },
   "cell_type": "code",
   "source": [
    "from model.address import Address\n",
    "\n",
    "new_address = Address(11, \"Bachstrasse 12\", \"Olten\", 4600)\n",
    "\n",
    "print(new_address)"
   ],
   "id": "ed69c2ab476450a3",
   "outputs": [
    {
     "name": "stdout",
     "output_type": "stream",
     "text": [
      "Address(id=11, street=Bachstrasse 12, city=Olten, zip_code=4600)\n"
     ]
    }
   ],
   "execution_count": 21
  },
  {
   "metadata": {
    "ExecuteTime": {
     "end_time": "2025-05-14T18:08:09.840611Z",
     "start_time": "2025-05-14T18:08:09.830584Z"
    }
   },
   "cell_type": "code",
   "source": [
    "from model.admin import Admin\n",
    "\n",
    "new_admin = Admin(4, \"jst\", \"Start123*\", \"test@fhnw.ch\")\n",
    "\n",
    "print(new_admin)"
   ],
   "id": "b4acb3ef706ef40d",
   "outputs": [
    {
     "name": "stdout",
     "output_type": "stream",
     "text": [
      "<model.admin.Admin object at 0x000001A955F14470>\n"
     ]
    }
   ],
   "execution_count": 22
  },
  {
   "metadata": {
    "ExecuteTime": {
     "end_time": "2025-05-14T18:29:58.847738Z",
     "start_time": "2025-05-14T18:29:58.746851Z"
    }
   },
   "cell_type": "code",
   "source": [
    "from model.booking import Booking\n",
    "new_booking = Booking(1001, 2025-7-25, 2025-7-30, False,\n",
    "                      450.0, 2)\n",
    "print(new_booking)"
   ],
   "id": "3fa8515b9cac3f6f",
   "outputs": [
    {
     "ename": "TypeError",
     "evalue": "'<' not supported between instances of 'int' and 'datetime.date'",
     "output_type": "error",
     "traceback": [
      "\u001B[31m---------------------------------------------------------------------------\u001B[39m",
      "\u001B[31mTypeError\u001B[39m                                 Traceback (most recent call last)",
      "\u001B[36mCell\u001B[39m\u001B[36m \u001B[39m\u001B[32mIn[24]\u001B[39m\u001B[32m, line 2\u001B[39m\n\u001B[32m      1\u001B[39m \u001B[38;5;28;01mfrom\u001B[39;00m\u001B[38;5;250m \u001B[39m\u001B[34;01mmodel\u001B[39;00m\u001B[34;01m.\u001B[39;00m\u001B[34;01mbooking\u001B[39;00m\u001B[38;5;250m \u001B[39m\u001B[38;5;28;01mimport\u001B[39;00m Booking\n\u001B[32m----> \u001B[39m\u001B[32m2\u001B[39m new_booking = \u001B[43mBooking\u001B[49m\u001B[43m(\u001B[49m\u001B[32;43m1001\u001B[39;49m\u001B[43m,\u001B[49m\u001B[43m \u001B[49m\u001B[32;43m2025\u001B[39;49m\u001B[43m-\u001B[49m\u001B[32;43m7\u001B[39;49m\u001B[43m-\u001B[49m\u001B[32;43m25\u001B[39;49m\u001B[43m,\u001B[49m\u001B[43m \u001B[49m\u001B[32;43m2025\u001B[39;49m\u001B[43m-\u001B[49m\u001B[32;43m7\u001B[39;49m\u001B[43m-\u001B[49m\u001B[32;43m30\u001B[39;49m\u001B[43m,\u001B[49m\u001B[43m \u001B[49m\u001B[38;5;28;43;01mFalse\u001B[39;49;00m\u001B[43m,\u001B[49m\n\u001B[32m      3\u001B[39m \u001B[43m                      \u001B[49m\u001B[32;43m450.0\u001B[39;49m\u001B[43m,\u001B[49m\u001B[43m \u001B[49m\u001B[32;43m2\u001B[39;49m\u001B[43m)\u001B[49m\n\u001B[32m      4\u001B[39m \u001B[38;5;28mprint\u001B[39m(new_booking)\n",
      "\u001B[36mFile \u001B[39m\u001B[32m~\\PycharmProjects\\Python1\\model\\booking.py:12\u001B[39m, in \u001B[36m__init__\u001B[39m\u001B[34m(self, booking_id, checkin_date, checkout_date, is_cancelled, total_amount, guest)\u001B[39m\n\u001B[32m     10\u001B[39m \u001B[38;5;28mself\u001B[39m.__booking_id = booking_id\n\u001B[32m     11\u001B[39m \u001B[38;5;28mself\u001B[39m.checkin_date = checkin_date\n\u001B[32m---> \u001B[39m\u001B[32m12\u001B[39m \u001B[38;5;28mself\u001B[39m.checkout_date = checkout_date\n\u001B[32m     13\u001B[39m \u001B[38;5;28mself\u001B[39m.is_cancelled = is_cancelled\n\u001B[32m     14\u001B[39m \u001B[38;5;28mself\u001B[39m.total_amount = total_amount\n",
      "\u001B[36mFile \u001B[39m\u001B[32m~\\PycharmProjects\\Python1\\model\\booking.py:30\u001B[39m, in \u001B[36mcheckin_date\u001B[39m\u001B[34m(self, value)\u001B[39m\n\u001B[32m     28\u001B[39m \u001B[38;5;129m@property\u001B[39m\n\u001B[32m     29\u001B[39m \u001B[38;5;28;01mdef\u001B[39;00m\u001B[38;5;250m \u001B[39m\u001B[34mcheckout_date\u001B[39m(\u001B[38;5;28mself\u001B[39m):\n\u001B[32m---> \u001B[39m\u001B[32m30\u001B[39m     \u001B[38;5;28;01mreturn\u001B[39;00m \u001B[38;5;28mself\u001B[39m.__checkout_date\n",
      "\u001B[31mTypeError\u001B[39m: '<' not supported between instances of 'int' and 'datetime.date'"
     ]
    }
   ],
   "execution_count": 24
  },
  {
   "metadata": {},
   "cell_type": "code",
   "outputs": [
    {
     "name": "stdout",
     "output_type": "stream",
     "text": [
      "<model.facility.Facility object at 0x0000018B12FA69F0>\n"
     ]
    }
   ],
   "execution_count": 2,
   "source": [
    "from model.facility import Facility\n",
    "\n",
    "new_facility = Facility(56, \"test\")\n",
    "\n",
    "print(new_facility)"
   ],
   "id": "f861800dff266684"
  },
  {
   "metadata": {
    "ExecuteTime": {
     "end_time": "2025-05-14T18:02:15.731530Z",
     "start_time": "2025-05-14T18:02:15.587097Z"
    }
   },
   "cell_type": "code",
   "source": [
    "from model.guest import Guest\n",
    "\n",
    "new_guest = Guest(102, \"Max\", \"Mustermann\", \"test@fhnw.ch\")\n",
    "print(new_guest)\n"
   ],
   "id": "2e795595f1fc1670",
   "outputs": [
    {
     "ename": "ValueError",
     "evalue": "Ungültige Adresse",
     "output_type": "error",
     "traceback": [
      "\u001B[31m---------------------------------------------------------------------------\u001B[39m",
      "\u001B[31mValueError\u001B[39m                                Traceback (most recent call last)",
      "\u001B[36mCell\u001B[39m\u001B[36m \u001B[39m\u001B[32mIn[20]\u001B[39m\u001B[32m, line 3\u001B[39m\n\u001B[32m      1\u001B[39m \u001B[38;5;28;01mfrom\u001B[39;00m\u001B[38;5;250m \u001B[39m\u001B[34;01mmodel\u001B[39;00m\u001B[34;01m.\u001B[39;00m\u001B[34;01mguest\u001B[39;00m\u001B[38;5;250m \u001B[39m\u001B[38;5;28;01mimport\u001B[39;00m Guest\n\u001B[32m----> \u001B[39m\u001B[32m3\u001B[39m new_guest = \u001B[43mGuest\u001B[49m\u001B[43m(\u001B[49m\u001B[32;43m102\u001B[39;49m\u001B[43m,\u001B[49m\u001B[43m \u001B[49m\u001B[33;43m\"\u001B[39;49m\u001B[33;43mMax\u001B[39;49m\u001B[33;43m\"\u001B[39;49m\u001B[43m,\u001B[49m\u001B[43m \u001B[49m\u001B[33;43m\"\u001B[39;49m\u001B[33;43mMustermann\u001B[39;49m\u001B[33;43m\"\u001B[39;49m\u001B[43m,\u001B[49m\u001B[43m \u001B[49m\u001B[33;43m\"\u001B[39;49m\u001B[33;43mtest@fhnw.ch\u001B[39;49m\u001B[33;43m\"\u001B[39;49m\u001B[43m)\u001B[49m\n\u001B[32m      4\u001B[39m \u001B[38;5;28mprint\u001B[39m(new_guest)\n",
      "\u001B[36mFile \u001B[39m\u001B[32m~\\PycharmProjects\\Python1\\model\\guest.py:12\u001B[39m, in \u001B[36mGuest.__init__\u001B[39m\u001B[34m(self, guest_id, firstname, lastname, email)\u001B[39m\n\u001B[32m     10\u001B[39m \u001B[38;5;28mself\u001B[39m.lastname = lastname\n\u001B[32m     11\u001B[39m \u001B[38;5;28mself\u001B[39m.email = email\n\u001B[32m---> \u001B[39m\u001B[32m12\u001B[39m \u001B[38;5;28;43mself\u001B[39;49m\u001B[43m.\u001B[49m\u001B[43maddress\u001B[49m = [] \u001B[38;5;66;03m# Association mit address\u001B[39;00m\n\u001B[32m     13\u001B[39m \u001B[38;5;28mself\u001B[39m.bookings = []\n",
      "\u001B[36mFile \u001B[39m\u001B[32m~\\PycharmProjects\\Python1\\model\\guest.py:69\u001B[39m, in \u001B[36mGuest.address\u001B[39m\u001B[34m(self, value)\u001B[39m\n\u001B[32m     67\u001B[39m     \u001B[38;5;28mself\u001B[39m.__address = value\n\u001B[32m     68\u001B[39m \u001B[38;5;28;01melse\u001B[39;00m:\n\u001B[32m---> \u001B[39m\u001B[32m69\u001B[39m     \u001B[38;5;28;01mraise\u001B[39;00m \u001B[38;5;167;01mValueError\u001B[39;00m(\u001B[33m\"\u001B[39m\u001B[33mUngültige Adresse\u001B[39m\u001B[33m\"\u001B[39m)\n",
      "\u001B[31mValueError\u001B[39m: Ungültige Adresse"
     ]
    }
   ],
   "execution_count": 20
  },
  {
   "metadata": {
    "ExecuteTime": {
     "end_time": "2025-05-14T18:30:48.011076Z",
     "start_time": "2025-05-14T18:30:47.954518Z"
    }
   },
   "cell_type": "code",
   "source": [
    "from model.hotel import Hotel\n",
    "\n",
    "new_hotel = Hotel(101, \"test\")\n",
    "\n",
    "print(new_hotel)"
   ],
   "id": "983ba81176b1ad06",
   "outputs": [
    {
     "ename": "TypeError",
     "evalue": "Hotel.__init__() missing 2 required positional arguments: 'stars' and 'address'",
     "output_type": "error",
     "traceback": [
      "\u001B[31m---------------------------------------------------------------------------\u001B[39m",
      "\u001B[31mTypeError\u001B[39m                                 Traceback (most recent call last)",
      "\u001B[36mCell\u001B[39m\u001B[36m \u001B[39m\u001B[32mIn[25]\u001B[39m\u001B[32m, line 3\u001B[39m\n\u001B[32m      1\u001B[39m \u001B[38;5;28;01mfrom\u001B[39;00m\u001B[38;5;250m \u001B[39m\u001B[34;01mmodel\u001B[39;00m\u001B[34;01m.\u001B[39;00m\u001B[34;01mhotel\u001B[39;00m\u001B[38;5;250m \u001B[39m\u001B[38;5;28;01mimport\u001B[39;00m Hotel\n\u001B[32m----> \u001B[39m\u001B[32m3\u001B[39m new_hotel = \u001B[43mHotel\u001B[49m\u001B[43m(\u001B[49m\u001B[32;43m101\u001B[39;49m\u001B[43m,\u001B[49m\u001B[43m \u001B[49m\u001B[33;43m\"\u001B[39;49m\u001B[33;43mtest\u001B[39;49m\u001B[33;43m\"\u001B[39;49m\u001B[43m)\u001B[49m\n\u001B[32m      5\u001B[39m \u001B[38;5;28mprint\u001B[39m(new_hotel)\n",
      "\u001B[31mTypeError\u001B[39m: Hotel.__init__() missing 2 required positional arguments: 'stars' and 'address'"
     ]
    }
   ],
   "execution_count": 25
  },
  {
   "metadata": {
    "ExecuteTime": {
     "end_time": "2025-05-14T18:32:27.270343Z",
     "start_time": "2025-05-14T18:32:27.260381Z"
    }
   },
   "cell_type": "code",
   "source": [
    "from model.invoice import Invoice\n",
    "\n",
    "new_invoice = Invoice(66,2025-04-2025, 440.0, [])\n",
    "\n",
    "print(new_invoice)"
   ],
   "id": "72646acecff42510",
   "outputs": [
    {
     "ename": "SyntaxError",
     "evalue": "leading zeros in decimal integer literals are not permitted; use an 0o prefix for octal integers (3930105880.py, line 3)",
     "output_type": "error",
     "traceback": [
      "  \u001B[36mCell\u001B[39m\u001B[36m \u001B[39m\u001B[32mIn[26]\u001B[39m\u001B[32m, line 3\u001B[39m\n\u001B[31m    \u001B[39m\u001B[31mnew_invoice = Invoice(66,2025-04-2025, 440.0, [])\u001B[39m\n                                  ^\n\u001B[31mSyntaxError\u001B[39m\u001B[31m:\u001B[39m leading zeros in decimal integer literals are not permitted; use an 0o prefix for octal integers\n"
     ]
    }
   ],
   "execution_count": 26
  },
  {
   "metadata": {
    "ExecuteTime": {
     "end_time": "2025-05-14T18:33:12.894828Z",
     "start_time": "2025-05-14T18:33:12.828165Z"
    }
   },
   "cell_type": "code",
   "source": [
    "from model.room import Room\n",
    "\n",
    "new_room = Room(330,330, 50.0, False)\n",
    "print(new_room)"
   ],
   "id": "245a2ae7d278dc2b",
   "outputs": [
    {
     "ename": "TypeError",
     "evalue": "Room.__init__() missing 2 required positional arguments: 'hotel' and 'facilities'",
     "output_type": "error",
     "traceback": [
      "\u001B[31m---------------------------------------------------------------------------\u001B[39m",
      "\u001B[31mTypeError\u001B[39m                                 Traceback (most recent call last)",
      "\u001B[36mCell\u001B[39m\u001B[36m \u001B[39m\u001B[32mIn[27]\u001B[39m\u001B[32m, line 3\u001B[39m\n\u001B[32m      1\u001B[39m \u001B[38;5;28;01mfrom\u001B[39;00m\u001B[38;5;250m \u001B[39m\u001B[34;01mmodel\u001B[39;00m\u001B[34;01m.\u001B[39;00m\u001B[34;01mroom\u001B[39;00m\u001B[38;5;250m \u001B[39m\u001B[38;5;28;01mimport\u001B[39;00m Room\n\u001B[32m----> \u001B[39m\u001B[32m3\u001B[39m new_room = \u001B[43mRoom\u001B[49m\u001B[43m(\u001B[49m\u001B[32;43m330\u001B[39;49m\u001B[43m,\u001B[49m\u001B[32;43m330\u001B[39;49m\u001B[43m,\u001B[49m\u001B[43m \u001B[49m\u001B[32;43m50.0\u001B[39;49m\u001B[43m,\u001B[49m\u001B[43m \u001B[49m\u001B[38;5;28;43;01mFalse\u001B[39;49;00m\u001B[43m)\u001B[49m\n\u001B[32m      4\u001B[39m \u001B[38;5;28mprint\u001B[39m(new_room)\n",
      "\u001B[31mTypeError\u001B[39m: Room.__init__() missing 2 required positional arguments: 'hotel' and 'facilities'"
     ]
    }
   ],
   "execution_count": 27
  },
  {
   "metadata": {},
   "cell_type": "code",
   "outputs": [],
   "execution_count": null,
   "source": [
    "from model.room_type import RoomType\n",
    "\n",
    "new_room_type = RoomType()\n",
    "print(new_room_type)"
   ],
   "id": "4de0402ae0c1ce4a"
  }
 ],
 "metadata": {
  "kernelspec": {
   "display_name": "Python 3",
   "language": "python",
   "name": "python3"
  },
  "language_info": {
   "codemirror_mode": {
    "name": "ipython",
    "version": 2
   },
   "file_extension": ".py",
   "mimetype": "text/x-python",
   "name": "python",
   "nbconvert_exporter": "python",
   "pygments_lexer": "ipython2",
   "version": "2.7.6"
  }
 },
 "nbformat": 4,
 "nbformat_minor": 5
}
