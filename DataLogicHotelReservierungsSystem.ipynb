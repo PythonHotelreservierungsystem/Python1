{
 "cells": [
  {
   "cell_type": "code",
   "id": "initial_id",
   "metadata": {
    "collapsed": true,
    "jupyter": {
     "is_executing": true
    }
   },
   "source": [
    "import pandas as pd\n",
    "\n",
    "from data_access import BookingDataAccess\n",
    "# 1. Hole dir alle Buchungen mit eingebettetem Hotel\n",
    "bookings = booking_da.show_bookings_with_hotels()\n",
    "\n",
    "# 2. Baue eine Liste von Zeilen ([Booking-ID, Gastname, Hotelname, Check-In, Check-Out])\n",
    "data = []\n",
    "for b in bookings:\n",
    "    data.append({\n",
    "       \"Booking-ID\": b.id,\n",
    "        \"Gast\": b.guest_name,\n",
    "        \"Hotel\": b.hotel.name,\n",
    "        \"Check-In\": b.check_in_date,\n",
    "        \"Check-Out\": b.check_out_date\n",
    "    })\n",
    "\n",
    "# 3. Gib die Tabelle in der Konsole aus\n",
    "df = pd.DataFrame(data)\n",
    "print(df)"
   ],
   "outputs": [],
   "execution_count": null
  }
 ],
 "metadata": {
  "kernelspec": {
   "display_name": "Python 3",
   "language": "python",
   "name": "python3"
  },
  "language_info": {
   "codemirror_mode": {
    "name": "ipython",
    "version": 2
   },
   "file_extension": ".py",
   "mimetype": "text/x-python",
   "name": "python",
   "nbconvert_exporter": "python",
   "pygments_lexer": "ipython2",
   "version": "2.7.6"
  }
 },
 "nbformat": 4,
 "nbformat_minor": 5
}
