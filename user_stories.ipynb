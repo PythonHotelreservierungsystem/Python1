{
 "cells": [
  {
   "metadata": {
    "ExecuteTime": {
     "end_time": "2025-06-05T13:51:08.054203Z",
     "start_time": "2025-06-05T13:51:08.050331Z"
    }
   },
   "cell_type": "code",
   "source": [
    "import os\n",
    "import sys\n",
    "\n",
    "proj_root = os.path.abspath(os.getcwd())\n",
    "if proj_root not in sys.path:\n",
    "    sys.path.insert(0, proj_root)"
   ],
   "id": "923b55e9423edc3",
   "outputs": [],
   "execution_count": 1
  },
  {
   "metadata": {
    "ExecuteTime": {
     "end_time": "2025-06-05T13:51:10.648609Z",
     "start_time": "2025-06-05T13:51:10.631773Z"
    }
   },
   "cell_type": "code",
   "source": [
    "# Zelle 2: HotelManager importieren und Instanz erstellen\n",
    "\n",
    "from business_logic.hotel_manager import HotelManager\n",
    "from data_access.hotel_data_access import HotelDataAccess\n",
    "\n",
    "import model\n",
    "from model import hotel\n",
    "\n",
    "# Pfad zur SQLite-Datenbank:\n",
    "db_path = os.path.join(proj_root, \"database\", \"hotel_reservation_sample.db\")\n",
    "\n",
    "# HotelManager mit dem Datenbankpfad erzeugen\n",
    "manager = HotelManager(HotelDataAccess(db_path))"
   ],
   "id": "65e7ed9e74b2e6ba",
   "outputs": [],
   "execution_count": 2
  },
  {
   "metadata": {},
   "cell_type": "markdown",
   "source": [
    "1. Als Gast möchte ich die verfügbaren Hotels durchsuchen, damit\n",
    "ich dasjenige auswählen kann, welches meinen Wünschen\n",
    "entspricht. Wünsche sind:\n"
   ],
   "id": "bc60409963280a3c"
  },
  {
   "metadata": {},
   "cell_type": "markdown",
   "source": [
    "1.1. Ich möchte alle Hotels in einer Stadt durchsuchen,\n",
    "damit ich das Hotel nach meinem bevorzugten Standort\n",
    "(Stadt) auswählen kann.\n"
   ],
   "id": "7c4b926815a27e7a"
  },
  {
   "metadata": {
    "ExecuteTime": {
     "end_time": "2025-06-05T13:51:12.571274Z",
     "start_time": "2025-06-05T13:51:12.565515Z"
    }
   },
   "cell_type": "code",
   "source": [
    "# DAO auf die DB zeigen lassen\n",
    "dao = HotelDataAccess(\"database/hotel_reservation_sample.db\")\n",
    "manager = HotelManager(dao)\n",
    "\n",
    "# nach Stadt filtern im String\n",
    "hotels_in_WunschStadt = manager.show_hotels_by_city(\"Zürich\")\n",
    "\n",
    "if not hotels_in_WunschStadt:\n",
    "    print(\"Keine Hotels in dieser Stadt gefunden.\")\n",
    "else:\n",
    "    for h in hotels_in_WunschStadt:\n",
    "        print(f\"{h.name} – {h.address.street}, {h.address.zip_code}\")"
   ],
   "id": "a65026be23045a64",
   "outputs": [
    {
     "name": "stdout",
     "output_type": "stream",
     "text": [
      "Hotel Baur au Lac – Bahnhofstrasse 1, 8001\n"
     ]
    }
   ],
   "execution_count": 3
  },
  {
   "metadata": {},
   "cell_type": "markdown",
   "source": [
    "1.2. Ich möchte alle Hotels in einer Stadt nach der\n",
    "Anzahl der Sterne (z.B. mindestens 4 Sterne) durchsuchen."
   ],
   "id": "302efa6d33ffcaea"
  },
  {
   "metadata": {
    "ExecuteTime": {
     "end_time": "2025-06-05T13:51:15.518374Z",
     "start_time": "2025-06-05T13:51:15.512520Z"
    }
   },
   "cell_type": "code",
   "source": [
    "dao = HotelDataAccess(\"database/hotel_reservation_sample.db\")\n",
    "manager = HotelManager(dao)\n",
    "\n",
    "# Stadt und min_stars angeben\n",
    "city = \"Basel\"\n",
    "min_stars = 5\n",
    "\n",
    "# 3) Methode aufrufen\n",
    "result = manager.show_hotels_by_city_and_min_stars(city, min_stars)\n",
    "\n",
    "# 4) Ausgabe, falls Treffer vorhanden\n",
    "if result:\n",
    "    print(f\"Gefundene Hotels in '{city}' mit mindestens {min_stars} Sternen:\")\n",
    "    for h in result:\n",
    "        print(f\"  • {h.name} ({h.stars} Sterne) – {h.address.street}, {h.address.zip_code}\")"
   ],
   "id": "bb02af4fbaab340b",
   "outputs": [
    {
     "name": "stdout",
     "output_type": "stream",
     "text": [
      "Gefundene Hotels in 'Basel' mit mindestens 5 Sternen:\n",
      "  • Les Trois Rois (5 Sterne) – Freiestrasse 10, 4051\n"
     ]
    }
   ],
   "execution_count": 4
  },
  {
   "metadata": {},
   "cell_type": "markdown",
   "source": [
    "1.3. Ich möchte alle Hotels in einer Stadt durchsuchen,\n",
    "die Zimmer haben, die meiner Gästezahl entsprechen (nur 1\n",
    "Zimmer pro Buchung)"
   ],
   "id": "f39a82e6f5d5a7ae"
  },
  {
   "metadata": {},
   "cell_type": "code",
   "outputs": [],
   "execution_count": null,
   "source": "",
   "id": "b6bddd967c5f1fd1"
  }
 ],
 "metadata": {
  "kernelspec": {
   "display_name": "Python 3",
   "language": "python",
   "name": "python3"
  },
  "language_info": {
   "codemirror_mode": {
    "name": "ipython",
    "version": 2
   },
   "file_extension": ".py",
   "mimetype": "text/x-python",
   "name": "python",
   "nbconvert_exporter": "python",
   "pygments_lexer": "ipython2",
   "version": "2.7.6"
  }
 },
 "nbformat": 4,
 "nbformat_minor": 5
}
