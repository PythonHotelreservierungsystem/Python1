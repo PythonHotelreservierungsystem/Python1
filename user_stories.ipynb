{
 "cells": [
  {
   "metadata": {},
   "cell_type": "raw",
   "source": [
    "Initialisiert das Projektverzeichnis mittels `os` und `sys` (fügt das aktuelle Arbeitsverzeichnis dem PYTHONPATH hinzu), um lokale Module laden zu können.\n",
    "Importiert `matplotlib.pyplot` für Visualisierungen."
   ],
   "id": "ab04fe3e9f2dc4be"
  },
  {
   "metadata": {
    "ExecuteTime": {
     "end_time": "2025-06-14T19:56:00.317307Z",
     "start_time": "2025-06-14T19:56:00.038723Z"
    }
   },
   "cell_type": "code",
   "source": [
    "import os\n",
    "import sys\n",
    "import matplotlib.pyplot as plt\n",
    "\n",
    "\n",
    "proj_root = os.path.abspath(os.getcwd())\n",
    "if proj_root not in sys.path:\n",
    "    sys.path.insert(0, proj_root)"
   ],
   "id": "5ca3e59b174461d6",
   "outputs": [],
   "execution_count": 1
  },
  {
   "metadata": {},
   "cell_type": "markdown",
   "source": [
    "Lädt die Modelle (`model`, `Admin`, `Address`), alle Data-Access-Klassen für Hotel-, Raum-, Buchungs-, Rechnungs- und Nutzerdaten sowie die Business-Logic-Manager (Hotel, Admin, Room, Booking, Invoice).\n",
    "Stellt so sicher, dass Datenbankzugriff und Geschäftslogik im Skript komplett verfügbar sind."
   ],
   "id": "869cad855e97b398"
  },
  {
   "metadata": {
    "ExecuteTime": {
     "end_time": "2025-06-14T19:56:06.815429Z",
     "start_time": "2025-06-14T19:56:06.811557Z"
    }
   },
   "cell_type": "code",
   "source": [
    "#Notwendige Model Imports\n",
    "import model\n",
    "from model import Admin\n",
    "from model import Address\n",
    "#Notwendige DataAccess Imports\n",
    "from data_access.hotel_data_access import HotelDataAccess\n",
    "from data_access.room_data_access import RoomDataAccess\n",
    "from data_access.booking_data_access import BookingDataAccess\n",
    "from data_access.facility_data_access import FacilityDataAccess\n",
    "from data_access.invoice_data_access import InvoiceDataAccess\n",
    "from data_access.admin_data_access import AdminDataAccess\n",
    "from data_access.address_data_access import AddressDataAccess\n",
    "from data_access.guest_data_access import GuestDataAccess\n",
    "from data_access.room_type_data_access import RoomTypeDataAccess\n",
    "#Notwendige BusinessLogic Imports\n",
    "from business_logic.hotel_manager import HotelManager\n",
    "from business_logic.admin_manager import AdminManager\n",
    "from business_logic.room_manager import RoomManager\n",
    "from business_logic.booking_analyse_manager import BookingAnalyticsManager\n",
    "from business_logic.booking_manager import BookingManager\n",
    "from business_logic.invoice_manager import InvoiceManager\n",
    "# Notwendiges Datumformat Import\n",
    "from datetime import date, datetime"
   ],
   "id": "850e295bcb476811",
   "outputs": [],
   "execution_count": 3
  },
  {
   "metadata": {},
   "cell_type": "markdown",
   "source": [
    "Erzeugt den vollständigen Pfad zur SQLite-Datenbank „hotel_reservation_sample.db“ im Projekt-Unterordner.\n",
    "Dieser `db_path` wird an alle DataAccess-Klassen übergeben, um eine konsistente DB-Verbindung aufzubauen."
   ],
   "id": "62c1d794fdef8ee2"
  },
  {
   "metadata": {
    "ExecuteTime": {
     "end_time": "2025-06-14T19:56:09.679142Z",
     "start_time": "2025-06-14T19:56:09.677081Z"
    }
   },
   "cell_type": "code",
   "source": [
    "# Pfad zur SQLite-Datenbank\n",
    "db_path = os.path.join(proj_root, \"database\", \"hotel_reservation_sample.db\")"
   ],
   "id": "b6805428dc10cf93",
   "outputs": [],
   "execution_count": 4
  },
  {
   "metadata": {},
   "cell_type": "markdown",
   "source": [
    "Erstellt alle DataAccess-Objekte (Hotel, Room, Booking, Facility, Address, Invoice, Admin, Guest, RoomType) mit demselben `db_path` für konsistente SQLite-Verbindungen.\n",
    "So steht im weiteren Verlauf des Notebooks jederzeit ein zentraler Datenbankzugriff zur Verfügung."
   ],
   "id": "260dd0e1f11f94ce"
  },
  {
   "metadata": {
    "ExecuteTime": {
     "end_time": "2025-06-14T19:56:11.505757Z",
     "start_time": "2025-06-14T19:56:11.503185Z"
    }
   },
   "cell_type": "code",
   "source": [
    "# DataAccess-Objekte erzeugen\n",
    "hotel_dao = HotelDataAccess(db_path)\n",
    "room_dao = RoomDataAccess(db_path)\n",
    "booking_dao = BookingDataAccess(db_path)\n",
    "facility_dao = FacilityDataAccess(db_path)\n",
    "address_da = AddressDataAccess(db_path)\n",
    "invoice_dao = InvoiceDataAccess(db_path)\n",
    "admin_dao = AdminDataAccess(db_path)\n",
    "guest_da = GuestDataAccess(db_path)\n",
    "room_type_dao = RoomTypeDataAccess(db_path)"
   ],
   "id": "d7202ca2754cb7bf",
   "outputs": [],
   "execution_count": 5
  },
  {
   "metadata": {},
   "cell_type": "markdown",
   "source": "Erzeugt Manager Instanzen, in die die zuvor konfigurierten DAO-Objekte injiziert werden, damit zum Beispiel beim HotelManager alle Hotel- und Raum-bezogenen Geschäftsprozesse dieselbe Datenbankverbindung nutzen.\n",
   "id": "a8ec4ebac74df6fa"
  },
  {
   "metadata": {
    "ExecuteTime": {
     "end_time": "2025-06-14T19:56:13.687958Z",
     "start_time": "2025-06-14T19:56:13.684737Z"
    }
   },
   "cell_type": "code",
   "source": [
    "manager = HotelManager(hotel_data_access=hotel_dao, room_data_access=room_dao)\n",
    "\n",
    "room_manager = RoomManager(room_data_access=room_dao, facility_data_access=facility_dao)\n",
    "\n",
    "booking_manager = BookingManager(booking_da=booking_dao, room_manager=room_manager)\n",
    "\n",
    "invoice_manager = InvoiceManager(invoice_data_access=invoice_dao,                                                             booking_data_access=booking_dao)\n",
    "\n",
    "admin_manager = AdminManager(admin_data_access=admin_dao,\n",
    "                             hotel_da=hotel_dao,address_da=address_da, room_da=room_dao, room_type_da=room_type_dao, booking_da=booking_dao,guest_da=guest_da, invoice_da=invoice_dao)\n",
    "\n",
    "analytics = BookingAnalyticsManager(booking_dao, room_dao)"
   ],
   "id": "c39b45ce30f0015a",
   "outputs": [],
   "execution_count": 6
  },
  {
   "metadata": {},
   "cell_type": "markdown",
   "source": "Neuen Admin erstellen",
   "id": "ab2a2227a29363bf"
  },
  {
   "metadata": {},
   "cell_type": "code",
   "outputs": [],
   "execution_count": null,
   "source": [
    "admin = Admin(\n",
    "    admin_id=1,\n",
    "    username=\"Yannick44\",\n",
    "    password=\"Password9?\",\n",
    "    email=\"cesco8@gmail.com\",\n",
    "    vorname=\"Cesco\",\n",
    "    nachname=\"Meggiolaro\"\n",
    ")\n",
    "\n",
    "admin_dao.create_admin(admin)\n",
    "print(\"Admin erfolgreich erstellt.\")"
   ],
   "id": "335e7fa3f7f8615e"
  },
  {
   "metadata": {},
   "cell_type": "markdown",
   "source": "Alle Admins anzeigen",
   "id": "367b7369f95350e4"
  },
  {
   "metadata": {},
   "cell_type": "code",
   "outputs": [],
   "execution_count": null,
   "source": [
    "admins = admin_dao.get_all_admins()\n",
    "\n",
    "for admin in admins:\n",
    "    print(f\"ID: {admin.admin_id}, Username: {admin.username}, Password {admin.password} Email: {admin.email}, Vorname: {admin.vorname}, Nachname: {admin.nachname}\")"
   ],
   "id": "a7ba4fa8b4be4297"
  },
  {
   "metadata": {},
   "cell_type": "markdown",
   "source": "Admin Login für Admin User Stories",
   "id": "fb3f111a1f654a15"
  },
  {
   "metadata": {
    "ExecuteTime": {
     "end_time": "2025-06-14T19:56:22.527764Z",
     "start_time": "2025-06-14T19:56:22.524Z"
    }
   },
   "cell_type": "code",
   "source": [
    "#Beispieladmin in DB vorhanden: PW: Cesco8 & Password8?\n",
    "admin_username = \"Yannick44\"           #\n",
    "admin_password = \"Password9?\"\n",
    "\n",
    "if admin_manager.authenticate(admin_username, admin_password):\n",
    "    print(f\"Willkommen {admin_manager.get_logged_in_admin().vorname}\")\n",
    "else:\n",
    "    print(\"Login fehlgeschlagen – kein Zugriff.\")"
   ],
   "id": "196455de6eff0bf3",
   "outputs": [
    {
     "name": "stdout",
     "output_type": "stream",
     "text": [
      "Willkommen Cesco\n"
     ]
    }
   ],
   "execution_count": 7
  },
  {
   "metadata": {},
   "cell_type": "markdown",
   "source": [
    "1. Als Gast möchte ich die verfügbaren Hotels durchsuchen, damit\n",
    "ich dasjenige auswählen kann, welches meinen Wünschen\n",
    "entspricht. Wünsche sind:\n"
   ],
   "id": "a9e68171174ce689"
  },
  {
   "metadata": {},
   "cell_type": "markdown",
   "source": [
    "1.1. Ich möchte alle Hotels in einer Stadt durchsuchen,\n",
    "damit ich das Hotel nach meinem bevorzugten Standort\n",
    "(Stadt) auswählen kann.\n"
   ],
   "id": "607e9522e86ab2a2"
  },
  {
   "metadata": {
    "ExecuteTime": {
     "end_time": "2025-06-14T15:39:23.454184Z",
     "start_time": "2025-06-14T15:39:23.447153Z"
    }
   },
   "cell_type": "code",
   "source": [
    "# nach Stadt filtern im String\n",
    "hotels_in_WunschStadt = manager.show_hotels_by_city(\"Basel\")\n",
    "\n",
    "if not hotels_in_WunschStadt:\n",
    "    print(\"Keine Hotels in dieser Stadt gefunden.\")\n",
    "else:\n",
    "    for h in hotels_in_WunschStadt:\n",
    "        print(f\"{h.name} – {h.address.street}, {h.address.zip_code}, {h.address.city}\")"
   ],
   "id": "7492781505e675d0",
   "outputs": [
    {
     "name": "stdout",
     "output_type": "stream",
     "text": [
      "Les Trois Rois – Freiestrasse 10, 4051, Basel\n"
     ]
    }
   ],
   "execution_count": 9
  },
  {
   "metadata": {},
   "cell_type": "markdown",
   "source": [
    "1.2. Ich möchte alle Hotels in einer Stadt nach der\n",
    "Anzahl der Sterne (z.B. mindestens 4 Sterne) durchsuchen."
   ],
   "id": "dde35cf008e839a8"
  },
  {
   "metadata": {
    "ExecuteTime": {
     "end_time": "2025-06-11T21:29:11.357309Z",
     "start_time": "2025-06-11T21:29:11.350731Z"
    }
   },
   "cell_type": "code",
   "source": [
    "# Stadt und min_stars angeben\n",
    "city = \"Basel\"\n",
    "min_stars = 5\n",
    "\n",
    "# 3) Methode aufrufen\n",
    "result = manager.show_hotels_by_city_and_min_stars(city, min_stars)\n",
    "\n",
    "# 4) Ausgabe, falls Treffer vorhanden\n",
    "if result:\n",
    "    print(f\"Gefundene Hotels in '{city}' mit mindestens {min_stars} Sternen:\")\n",
    "    for h in result:\n",
    "        print(f\"  • {h.name} ({h.stars} Sterne) – {h.address.street}, {h.address.zip_code}\")"
   ],
   "id": "327f2f3e71dbc73d",
   "outputs": [
    {
     "name": "stdout",
     "output_type": "stream",
     "text": [
      "Gefundene Hotels in 'Basel' mit mindestens 5 Sternen:\n",
      "  • Les Trois Rois (5 Sterne) – Freiestrasse 10, 4051\n"
     ]
    }
   ],
   "execution_count": 12
  },
  {
   "metadata": {},
   "cell_type": "markdown",
   "source": [
    "1.3. Ich möchte alle Hotels in einer Stadt durchsuchen,\n",
    "die Zimmer haben, die meiner Gästezahl entsprechen (nur 1\n",
    "Zimmer pro Buchung)"
   ],
   "id": "d40857007c773232"
  },
  {
   "metadata": {
    "ExecuteTime": {
     "end_time": "2025-06-11T21:29:13.289202Z",
     "start_time": "2025-06-11T21:29:13.279922Z"
    }
   },
   "cell_type": "code",
   "source": [
    "# 1) Stadt und Gästeanzahl angeben\n",
    "city = \"zürich\"\n",
    "guest_count = 1\n",
    "\n",
    "# 2) Methode aufrufen\n",
    "result = manager.find_hotels_by_city_and_guests(city, guest_count)\n",
    "\n",
    "# 3 Ausgabe, falls Treffer vorhanden\n",
    "if result:\n",
    "    print(f\"Gefundene Hotels in '{city}' mit Zimmern für mindestens {guest_count} Gäste:\")\n",
    "    for h in result:\n",
    "        print(f\"  • {h.name} – {h.address.street}, {h.address.zip_code}\")\n",
    "else:\n",
    "    print(f\"Keine Hotels in '{city}' mit Zimmern für mindestens {guest_count} Gäste gefunden.\")"
   ],
   "id": "d1478199de257a23",
   "outputs": [
    {
     "name": "stdout",
     "output_type": "stream",
     "text": [
      "Gefundene Hotels in 'zürich' mit Zimmern für mindestens 1 Gäste:\n",
      "  • Hotel Baur au Lac – Bahnhofstrasse 1, 8001\n"
     ]
    }
   ],
   "execution_count": 13
  },
  {
   "metadata": {},
   "cell_type": "markdown",
   "source": [
    "1.4. Ich möchte alle Hotels in einer Stadt durchsuchen,\n",
    "die während meines Aufenthaltes (\"von\" (check_in_date)\n",
    "und \"bis\" (check_out_date)) Zimmer zur Verfügung haben,\n",
    "damit ich nur relevante Ergebnisse sehe."
   ],
   "id": "19c84115927bd3ed"
  },
  {
   "metadata": {
    "ExecuteTime": {
     "end_time": "2025-06-11T21:29:16.157388Z",
     "start_time": "2025-06-11T21:29:16.145575Z"
    }
   },
   "cell_type": "code",
   "source": [
    "# Abfrageparameter definieren\n",
    "city = \"Genève\"                 ## Beispiel Buchung in DB in Genève ist von 2025, 8, 20 bis  2025, 8, 22\n",
    "check_in = date(2025, 8, 1)\n",
    "check_out = date(2025, 8, 17)\n",
    "\n",
    "# Verfügbare Hotels abrufen\n",
    "verfuegbare_hotels = manager.find_available_hotels_by_city_and_dates(city, check_in, check_out, booking_dao)\n",
    "\n",
    "# Ausgabe der Ergebnisse\n",
    "if verfuegbare_hotels:\n",
    "    print(f\"Verfügbare Hotels in '{city}' vom {check_in} bis {check_out}:\")\n",
    "    for h in verfuegbare_hotels:\n",
    "        print(f\"{h.name} – {h.address.street}, {h.address.zip_code}\")\n",
    "else:\n",
    "    print(f\"Keine verfügbaren Hotels in '{city}' vom {check_in} bis {check_out}.\")"
   ],
   "id": "8459bd14fc4b12f1",
   "outputs": [
    {
     "name": "stdout",
     "output_type": "stream",
     "text": [
      "Verfügbare Hotels in 'Genève' vom 2025-08-01 bis 2025-08-17:\n",
      "Four Seasons Hôtel des Bergues – Rue du Rhône 42, 1204\n"
     ]
    }
   ],
   "execution_count": 14
  },
  {
   "metadata": {},
   "cell_type": "markdown",
   "source": [
    "1.5. Ich möchte Wünsche kombinieren können, z.B. die\n",
    "verfügbaren Zimmer zusammen mit meiner Gästezahl und der\n",
    "mindest Anzahl Sterne.\n"
   ],
   "id": "4e8113644198b315"
  },
  {
   "metadata": {
    "ExecuteTime": {
     "end_time": "2025-06-11T09:24:24.334313Z",
     "start_time": "2025-06-11T09:24:24.322556Z"
    }
   },
   "cell_type": "code",
   "source": [
    "# Parameter definieren --> Hotel in Genf hat 5 Sterne, Room für max 4 Leute uund booking von 2025-8-20 - 2025-8-22\n",
    "stadt = \"Genève\"\n",
    "check_in = datetime(2025, 8, 23)\n",
    "check_out = datetime(2025, 8, 24)\n",
    "min_sterne = 4\n",
    "gaesteanzahl = 2\n",
    "\n",
    "# Methode aufrufen\n",
    "verfuegbare_hotels = manager.find_hotels_by_criteria(\n",
    "    city=stadt,\n",
    "    check_in_date=check_in,\n",
    "    check_out_date=check_out,\n",
    "    min_stars=min_sterne,\n",
    "    guest_count=gaesteanzahl,\n",
    "    booking_da=booking_dao\n",
    ")\n",
    "\n",
    "# Ausgabe\n",
    "if verfuegbare_hotels:\n",
    "    print(f\"Verfügbare Hotels in '{stadt}' vom {check_in.date()} bis {check_out.date()} (mind. {min_sterne} Sterne, für {gaesteanzahl} Gäste):\")\n",
    "    for hotel in verfuegbare_hotels:\n",
    "        print(f\"  • {hotel.name} – {hotel.address.street}, {hotel.address.zip_code} {hotel.address.city}\")\n",
    "else:\n",
    "    print(f\"Keine passenden Hotels in '{stadt}' für die angegebenen Kriterien gefunden.\")"
   ],
   "id": "262e7376dd804c2d",
   "outputs": [
    {
     "name": "stdout",
     "output_type": "stream",
     "text": [
      "Verfügbare Hotels in 'Genève' vom 2025-08-23 bis 2025-08-24 (mind. 4 Sterne, für 2 Gäste):\n",
      "  • Four Seasons Hôtel des Bergues – Rue du Rhône 42, 1204 Genève\n"
     ]
    }
   ],
   "execution_count": 8
  },
  {
   "metadata": {},
   "cell_type": "markdown",
   "source": [
    "1.6. Ich möchte die folgenden Informationen pro Hotel\n",
    "sehen: Name, Adresse, Anzahl der Sterne."
   ],
   "id": "f1f7fe43815d2117"
  },
  {
   "metadata": {
    "ExecuteTime": {
     "end_time": "2025-06-11T09:24:24.373784Z",
     "start_time": "2025-06-11T09:24:24.369251Z"
    }
   },
   "cell_type": "code",
   "source": [
    "infos = manager.show_all_hotel_infos()\n",
    "\n",
    "print(\"Verfügbare Hotels:\")\n",
    "for eintrag in infos:\n",
    "    print(\" •\", eintrag)\n"
   ],
   "id": "a8095f450c67e75a",
   "outputs": [
    {
     "name": "stdout",
     "output_type": "stream",
     "text": [
      "Verfügbare Hotels:\n",
      " • Hotel Baur au Lac – Bahnhofstrasse 1, 8001 Zürich (5 Sterne)\n",
      " • Four Seasons Hôtel des Bergues – Rue du Rhône 42, 1204 Genève (5 Sterne)\n",
      " • Grand Hotel National – Pilatusstrasse 15, 6003 Luzern (5 Sterne)\n",
      " • Bellevue Palace – Marktgasse 59, 3011 Bern (5 Sterne)\n",
      " • Les Trois Rois – Freiestrasse 10, 4051 Basel (5 Sterne)\n",
      " • Hotel Bernblick – Lindenweg 8, 3012 Däniken (3 Sterne)\n"
     ]
    }
   ],
   "execution_count": 9
  },
  {
   "metadata": {},
   "cell_type": "markdown",
   "source": [
    "2. Als Gast möchte ich Details zu verschiedenen Zimmertypen\n",
    "(Single, Double, Suite usw.), die in einem Hotel verfügbar\n",
    "sind, sehen, einschliesslich der maximalen Anzahl von Gästen\n",
    "für dieses Zimmer, Beschreibung, Preis und Ausstattung, um eine\n",
    "fundierte Entscheidung zu treffen."
   ],
   "id": "67a772bcf7a3f615"
  },
  {
   "metadata": {},
   "cell_type": "markdown",
   "source": [
    "2.1. Ich möchte die folgenden Informationen pro Zimmer\n",
    "sehen: Zimmertyp, max. Anzahl der Gäste, Beschreibung,\n",
    "Ausstattung, Preis pro Nacht und Gesamtpreis.\n"
   ],
   "id": "6004f0e8138dfa65"
  },
  {
   "metadata": {
    "ExecuteTime": {
     "end_time": "2025-06-11T09:24:24.428122Z",
     "start_time": "2025-06-11T09:24:24.414792Z"
    }
   },
   "cell_type": "code",
   "source": [
    "# Optional: Check-in und Check-out setzen (für Gesamtpreisberechnung)\n",
    "check_in = date(2025, 7, 11)\n",
    "check_out = date(2025, 7, 15)\n",
    "\n",
    "# Zimmerdetails abrufen\n",
    "room_infos = room_manager.show_room_details()\n",
    "\n",
    "# Ausgabe\n",
    "for room in room_infos:\n",
    "    ausstattung = \", \".join([f.facility_name for f in room.facilities])\n",
    "\n",
    "    print(f\"Zimmer {room.room_number} – {room.room_type.description}\")\n",
    "    print(f\"  Max. Gäste     : {room.room_type.max_guests}\")\n",
    "    print(f\"  Ausstattung    : {ausstattung if ausstattung else 'Keine'}\")\n",
    "\n",
    "    # Preis pro Nacht\n",
    "    print(f\"  Preis pro Nacht: {room.price_per_night:.2f} CHF\")\n",
    "\n",
    "    # Optional: Gesamtpreis berechnen, wenn Check-in/Check-out gesetzt\n",
    "    if check_in and check_out and check_out > check_in:\n",
    "        nächte = (check_out - check_in).days\n",
    "        gesamtpreis = room.price_per_night * nächte\n",
    "        print(f\"  Gesamtpreis    : {gesamtpreis:.2f} CHF für {nächte} Nächte\")\n",
    "\n",
    "    print(\"-\" * 60)"
   ],
   "id": "687ad165e35b5cea",
   "outputs": [
    {
     "name": "stdout",
     "output_type": "stream",
     "text": [
      "Zimmer 101 – Single\n",
      "  Max. Gäste     : 1\n",
      "  Ausstattung    : WiFi, TV\n",
      "  Preis pro Nacht: 250.00 CHF\n",
      "  Gesamtpreis    : 1000.00 CHF für 4 Nächte\n",
      "------------------------------------------------------------\n",
      "Zimmer 102 – Double\n",
      "  Max. Gäste     : 2\n",
      "  Ausstattung    : WiFi\n",
      "  Preis pro Nacht: 400.00 CHF\n",
      "  Gesamtpreis    : 1600.00 CHF für 4 Nächte\n",
      "------------------------------------------------------------\n",
      "Zimmer 201 – Suite\n",
      "  Max. Gäste     : 4\n",
      "  Ausstattung    : Air Conditioning\n",
      "  Preis pro Nacht: 650.00 CHF\n",
      "  Gesamtpreis    : 2600.00 CHF für 4 Nächte\n",
      "------------------------------------------------------------\n",
      "Zimmer 301 – Family Room\n",
      "  Max. Gäste     : 5\n",
      "  Ausstattung    : Mini Bar\n",
      "  Preis pro Nacht: 900.00 CHF\n",
      "  Gesamtpreis    : 3600.00 CHF für 4 Nächte\n",
      "------------------------------------------------------------\n",
      "Zimmer 401 – Penthouse\n",
      "  Max. Gäste     : 6\n",
      "  Ausstattung    : Keine\n",
      "  Preis pro Nacht: 1500.00 CHF\n",
      "  Gesamtpreis    : 6000.00 CHF für 4 Nächte\n",
      "------------------------------------------------------------\n"
     ]
    }
   ],
   "execution_count": 10
  },
  {
   "metadata": {},
   "cell_type": "markdown",
   "source": [
    "2.2. Ich möchte nur die verfügbaren Zimmer sehen, sofern\n",
    "ich meinen Aufenthalt (von – bis) spezifiziert habe.\n"
   ],
   "id": "7c8dd808f5e96b2e"
  },
  {
   "metadata": {
    "ExecuteTime": {
     "end_time": "2025-06-11T09:24:24.497166Z",
     "start_time": "2025-06-11T09:24:24.485554Z"
    }
   },
   "cell_type": "code",
   "source": [
    "check_in = date(2025, 8, 20)\n",
    "check_out = date(2025, 8, 22)\n",
    "\n",
    "verfuegbare_zimmer = room_manager.find_available_rooms_by_dates(\n",
    "    check_in_date=check_in,\n",
    "    check_out_date=check_out,\n",
    "    booking_dao=booking_dao\n",
    ")\n",
    "\n",
    "for room in verfuegbare_zimmer:\n",
    "    ausstattung = \", \".join([f.facility_name for f in room.facilities])\n",
    "    print(f\"Zimmer {room.room_number} – {room.room_type.description}\")\n",
    "    print(f\"  Hotel: {room.hotel.name}, Adresse: {room.hotel.address.street} {room.hotel.address.city}\")\n",
    "    print(f\"  Max. Gäste     : {room.room_type.max_guests}\")\n",
    "    print(f\"  Ausstattung    : {ausstattung if ausstattung else 'Keine'}\")\n",
    "    print(f\"  Preis pro Nacht: {room.price_per_night:.2f} CHF\")\n",
    "\n",
    "    # Optional: Gesamtpreis berechnen\n",
    "    if check_in and check_out and check_out > check_in:\n",
    "        nächte = (check_out - check_in).days\n",
    "        gesamtpreis = room.price_per_night * nächte\n",
    "        print(f\"  Gesamtpreis    : {gesamtpreis:.2f} CHF für {nächte} Nächte\")\n",
    "\n",
    "    print(\"-\" * 60)"
   ],
   "id": "e36a65872ac031b8",
   "outputs": [
    {
     "name": "stdout",
     "output_type": "stream",
     "text": [
      "Zimmer 101 – Single\n",
      "  Hotel: Hotel Baur au Lac, Adresse: Bahnhofstrasse 1 Zürich\n",
      "  Max. Gäste     : 1\n",
      "  Ausstattung    : WiFi, TV\n",
      "  Preis pro Nacht: 250.00 CHF\n",
      "  Gesamtpreis    : 500.00 CHF für 2 Nächte\n",
      "------------------------------------------------------------\n",
      "Zimmer 102 – Double\n",
      "  Hotel: Hotel Baur au Lac, Adresse: Bahnhofstrasse 1 Zürich\n",
      "  Max. Gäste     : 2\n",
      "  Ausstattung    : WiFi\n",
      "  Preis pro Nacht: 400.00 CHF\n",
      "  Gesamtpreis    : 800.00 CHF für 2 Nächte\n",
      "------------------------------------------------------------\n",
      "Zimmer 301 – Family Room\n",
      "  Hotel: Grand Hotel National, Adresse: Pilatusstrasse 15 Luzern\n",
      "  Max. Gäste     : 5\n",
      "  Ausstattung    : Mini Bar\n",
      "  Preis pro Nacht: 900.00 CHF\n",
      "  Gesamtpreis    : 1800.00 CHF für 2 Nächte\n",
      "------------------------------------------------------------\n",
      "Zimmer 401 – Penthouse\n",
      "  Hotel: Bellevue Palace, Adresse: Marktgasse 59 Bern\n",
      "  Max. Gäste     : 6\n",
      "  Ausstattung    : Keine\n",
      "  Preis pro Nacht: 1500.00 CHF\n",
      "  Gesamtpreis    : 3000.00 CHF für 2 Nächte\n",
      "------------------------------------------------------------\n"
     ]
    }
   ],
   "execution_count": 11
  },
  {
   "metadata": {},
   "cell_type": "markdown",
   "source": [
    "3. Als Admin des Buchungssystems möchte ich die Möglichkeit haben,\n",
    "Hotelinformationen zu pflegen, um aktuelle Informationen im\n",
    "System zu haben."
   ],
   "id": "3a506903addaba8a"
  },
  {
   "metadata": {},
   "cell_type": "markdown",
   "source": "3.1. Ich möchte neue Hotels zum System hinzufügen\n",
   "id": "dd163c16145d89a9"
  },
  {
   "metadata": {
    "ExecuteTime": {
     "end_time": "2025-06-14T19:56:37.629273Z",
     "start_time": "2025-06-14T19:56:37.624473Z"
    }
   },
   "cell_type": "code",
   "source": [
    "if admin_manager.get_logged_in_admin():\n",
    "    adresse = Address(\n",
    "        address_id=0,  # Wird automatisch von der DB vergeben\n",
    "        street=\"Lindenweg 8\",\n",
    "        city=\"Däniken\",\n",
    "        zip_code=3012\n",
    "    )\n",
    "    try:\n",
    "        neues_hotel = manager.create_new_hotel(\n",
    "            name=\"Hotel Bernblick\",\n",
    "            stars=3,\n",
    "            address=adresse,\n",
    "            address_da=address_da\n",
    "        )\n",
    "        print(\"Hotel wurde erfolgreich erstellt:\")\n",
    "        print(f\"Hotel-ID: {neues_hotel.hotel_id}\")\n",
    "        print(f\"Address-ID: {neues_hotel.address.address_id}\")\n",
    "        print(f\"{neues_hotel.name}, {neues_hotel.address.street}, {neues_hotel.address.zip_code} {neues_hotel.address.city}\")\n",
    "    except Exception as e:\n",
    "        print(\"Fehler beim Erstellen des Hotels:\", e)\n",
    "else:\n",
    "    print(\"Zugriff verweigert – bitte zuerst als Admin einloggen.\")"
   ],
   "id": "4ace4b99cfd8d35",
   "outputs": [
    {
     "name": "stdout",
     "output_type": "stream",
     "text": [
      "Hotel wurde erfolgreich erstellt:\n",
      "Hotel-ID: 14\n",
      "Address-ID: 6\n",
      "Hotel Bernblick, Lindenweg 8, 3012 Däniken\n"
     ]
    }
   ],
   "execution_count": 8
  },
  {
   "metadata": {},
   "cell_type": "markdown",
   "source": "3.2. Ich möchte Hotels aus dem System entfernen",
   "id": "3050303fb861f751"
  },
  {
   "metadata": {
    "ExecuteTime": {
     "end_time": "2025-06-11T20:47:19.703065Z",
     "start_time": "2025-06-11T20:47:19.696138Z"
    }
   },
   "cell_type": "code",
   "source": [
    "# Admin-Prüfung\n",
    "if admin_manager.get_logged_in_admin():\n",
    "    # Hotel-ID zum Löschen\n",
    "    hotel_id_to_delete = 19\n",
    "\n",
    "    # Vorher: Liste aller Hotels anzeigen\n",
    "    print(\"Hotels vor dem Löschen:\")\n",
    "    for h in manager.show_all_hotels_basic():\n",
    "        print(f\"Hotel-ID: {h.hotel_id} | Name: {h.name}\")\n",
    "\n",
    "    # Hotel löschen\n",
    "    erfolgreich = manager.delete_hotel(hotel_id_to_delete)\n",
    "\n",
    "    # Rückmeldung\n",
    "    if erfolgreich:\n",
    "        print(f\"\\nHotel mit ID {hotel_id_to_delete} wurde gelöscht.\")\n",
    "    else:\n",
    "        print(f\"\\nKein Hotel mit ID {hotel_id_to_delete} gefunden – nichts gelöscht.\")\n",
    "\n",
    "    # Danach: Liste nochmals anzeigen\n",
    "    print(\"\\nHotels nach dem Löschen:\")\n",
    "    for h in manager.show_all_hotels_basic():\n",
    "        print(f\"Hotel-ID: {h.hotel_id} | Name: {h.name}\")\n",
    "\n",
    "else:\n",
    "    print(\"Zugriff verweigert – bitte zuerst als Admin einloggen.\")"
   ],
   "id": "f3eac6690084a465",
   "outputs": [
    {
     "name": "stdout",
     "output_type": "stream",
     "text": [
      "Hotels vor dem Löschen:\n",
      "Hotel-ID: 1 | Name: Hotel Baur au Lac\n",
      "Hotel-ID: 2 | Name: Four Seasons Hôtel des Bergues\n",
      "Hotel-ID: 3 | Name: Grand Hotel National\n",
      "Hotel-ID: 4 | Name: Eisenarm\n",
      "Hotel-ID: 5 | Name: Les Trois Rois\n",
      "Hotel-ID: 14 | Name: Hotel Bernblick\n",
      "Hotel-ID: 15 | Name: Hotel Bernblick\n",
      "\n",
      "Kein Hotel mit ID 19 gefunden – nichts gelöscht.\n",
      "\n",
      "Hotels nach dem Löschen:\n",
      "Hotel-ID: 1 | Name: Hotel Baur au Lac\n",
      "Hotel-ID: 2 | Name: Four Seasons Hôtel des Bergues\n",
      "Hotel-ID: 3 | Name: Grand Hotel National\n",
      "Hotel-ID: 4 | Name: Eisenarm\n",
      "Hotel-ID: 5 | Name: Les Trois Rois\n",
      "Hotel-ID: 14 | Name: Hotel Bernblick\n",
      "Hotel-ID: 15 | Name: Hotel Bernblick\n"
     ]
    }
   ],
   "execution_count": 7
  },
  {
   "metadata": {},
   "cell_type": "markdown",
   "source": [
    "3.3. Ich möchte die Informationen bestimmter Hotels\n",
    "aktualisieren, z. B. den Namen, die Sterne usw.\n"
   ],
   "id": "e93f9af2afba0ae"
  },
  {
   "metadata": {
    "ExecuteTime": {
     "end_time": "2025-06-11T09:24:24.687495Z",
     "start_time": "2025-06-11T09:24:24.667964Z"
    }
   },
   "cell_type": "code",
   "source": [
    "# Admin-Prüfung\n",
    "if admin_manager.get_logged_in_admin():\n",
    "    # Hotel-ID auswählen zum Anpassen\n",
    "    hotel_id = 4\n",
    "\n",
    "    # Vorherige Daten anzeigen\n",
    "    original_hotel = next((h for h in hotel_dao.read_all_hotel() if h.hotel_id == hotel_id), None)\n",
    "\n",
    "    if not original_hotel:\n",
    "        print(f\"Hotel mit ID {hotel_id} wurde nicht gefunden.\")\n",
    "    else:\n",
    "        print(\"Vorher:\")\n",
    "        print(f\"Name: {original_hotel.name}, Sterne: {original_hotel.stars}\")\n",
    "        print(f\"Adresse: {original_hotel.address.street}, {original_hotel.address.zip_code} {original_hotel.address.city}\")\n",
    "\n",
    "        # Neue Werte definieren\n",
    "        neuer_name = \"Eisenarm\"\n",
    "        neue_sterne = 5\n",
    "        neue_adresse = model.Address(\n",
    "            address_id=original_hotel.address.address_id,\n",
    "            street=\"Gassstrassse 7\",\n",
    "            city=\"Dulliken\",\n",
    "            zip_code=4657\n",
    "        )\n",
    "        # Update durchführen\n",
    "        ok = manager.update_hotel_and_address(\n",
    "            hotel_id=hotel_id,\n",
    "            name=neuer_name,\n",
    "            stars=neue_sterne,\n",
    "            address=neue_adresse,\n",
    "            address_da=address_da\n",
    "        )\n",
    "        # Ergebnis anzeigen\n",
    "        if ok:\n",
    "            updated = next((h for h in hotel_dao.read_all_hotel() if h.hotel_id == hotel_id), None)\n",
    "            print(\"\\nNachher:\")\n",
    "            print(f\"Name: {updated.name}, Sterne: {updated.stars}\")\n",
    "            print(f\"Adresse: {updated.address.street}, {updated.address.zip_code} {updated.address.city}\")\n",
    "        else:\n",
    "            print(\"Update fehlgeschlagen.\")\n",
    "else:\n",
    "    print(\"Zugriff verweigert – bitte zuerst als Admin einloggen.\")"
   ],
   "id": "c54d42261ac9f316",
   "outputs": [
    {
     "name": "stdout",
     "output_type": "stream",
     "text": [
      "Vorher:\n",
      "Name: Bellevue Palace, Sterne: 5\n",
      "Adresse: Marktgasse 59, 3011 Bern\n",
      "\n",
      "Nachher:\n",
      "Name: Eisenarm, Sterne: 5\n",
      "Adresse: Gassstrassse 7, 4657 Dulliken\n"
     ]
    }
   ],
   "execution_count": 14
  },
  {
   "metadata": {},
   "cell_type": "markdown",
   "source": [
    "4. Als Gast möchte ich ein Zimmer in einem bestimmten Hotel\n",
    "buchen, um meinen Urlaub zu planen.\n"
   ],
   "id": "61035d7c8d8c8680"
  },
  {
   "metadata": {
    "ExecuteTime": {
     "end_time": "2025-06-11T09:30:39.106022Z",
     "start_time": "2025-06-11T09:30:39.086044Z"
    }
   },
   "cell_type": "code",
   "source": [
    "from model import Guest, Room, RoomType, Hotel, Address\n",
    "\n",
    "# Dummy-Daten (IDs müssen existieren!)\n",
    "adresse = Address(address_id=1, street=\"Teststrasse 11\", city=\"Olten\", zip_code=4600)\n",
    "hotel = Hotel(hotel_id=1, name=\"Hotel Test\", stars=3, address=adresse)\n",
    "room_type = RoomType(room_type_id=1, description=\"Standard\", max_guests=2)\n",
    "zimmer = Room(room_id=5, room_number=\"101\", price_per_night=120.0, room_type=room_type, hotel=hotel)\n",
    "gast = Guest(guest_id=1, firstname=\"Max\", lastname=\"Muster\", email=\"max@muster.ch\")\n",
    "\n",
    "check_in = date(2025, 12, 20)\n",
    "check_out = date(2025, 12, 22)\n",
    "\n",
    "# 1. Buchungen vor dem Einfügen anzeigen\n",
    "print(\"Buchungen vor dem Einfügen:\")\n",
    "for b in booking_manager.show_bookings():\n",
    "    print(f\"Booking-ID: {b.booking_id}, Room-ID: {b.room_id}, Hotel-ID: {b.hotel_id}, Check-in: {b.check_in_date}, Check-out: {b.check_out_date}\")\n",
    "\n",
    "# 2. Verfügbarkeit prüfen und ggf. buchen\n",
    "verfuegbare_zimmer = room_manager.find_available_rooms_by_dates(check_in, check_out, booking_dao)\n",
    "neue_buchung = None\n",
    "\n",
    "if any(r.room_id == zimmer.room_id for r in verfuegbare_zimmer):\n",
    "    neue_buchung = booking_dao.create_booking(\n",
    "        guest_id=gast,\n",
    "        room_id=zimmer,\n",
    "        check_in_date=check_in,\n",
    "        check_out_date=check_out,\n",
    "        is_cancelled=False,\n",
    "        total_amount=zimmer.price_per_night * (check_out - check_in).days\n",
    "    )\n",
    "    print(\"\\nNeue Buchung erfolgreich erstellt:\")\n",
    "    print(f\"Booking-ID: {neue_buchung.booking_id}, Room-ID: {neue_buchung.room_id}, Zeitraum: {check_in} bis {check_out}\")\n",
    "else:\n",
    "    print(\"\\nZimmer ist im gewünschten Zeitraum nicht verfügbar.\")\n",
    "\n",
    "# 3. Buchungen nach dem Einfügen anzeigen\n",
    "print(\"\\nBuchungen nach dem Einfügen:\")\n",
    "for b in booking_manager.show_bookings():\n",
    "    print(f\"Booking-ID: {b.booking_id}, Room-ID: {b.room_id}, Hotel-ID: {b.hotel_id}, Check-in: {b.check_in_date}, Check-out: {b.check_out_date}\")"
   ],
   "id": "9947fd4a52f06efa",
   "outputs": [
    {
     "name": "stdout",
     "output_type": "stream",
     "text": [
      "Buchungen vor dem Einfügen:\n",
      "Booking-ID: 1, Room-ID: 1, Hotel-ID: 1, Check-in: 2025-06-01, Check-out: 2025-06-05\n",
      "Booking-ID: 2, Room-ID: 2, Hotel-ID: 1, Check-in: 2025-07-10, Check-out: 2025-07-15\n",
      "Booking-ID: 3, Room-ID: 3, Hotel-ID: 2, Check-in: 2025-08-20, Check-out: 2025-08-22\n",
      "Booking-ID: 4, Room-ID: 4, Hotel-ID: 3, Check-in: 2025-09-05, Check-out: 2025-09-10\n",
      "Booking-ID: 5, Room-ID: 5, Hotel-ID: 4, Check-in: 2025-10-01, Check-out: 2025-10-07\n",
      "Booking-ID: 6, Room-ID: 1, Hotel-ID: 1, Check-in: 2025-12-17, Check-out: 2025-12-19\n",
      "Booking-ID: 7, Room-ID: 5, Hotel-ID: 4, Check-in: 2025-12-17, Check-out: 2025-12-19\n",
      "\n",
      "Neue Buchung erfolgreich erstellt:\n",
      "Booking-ID: 8, Room-ID: 5, Zeitraum: 2025-12-20 bis 2025-12-22\n",
      "\n",
      "Buchungen nach dem Einfügen:\n",
      "Booking-ID: 1, Room-ID: 1, Hotel-ID: 1, Check-in: 2025-06-01, Check-out: 2025-06-05\n",
      "Booking-ID: 2, Room-ID: 2, Hotel-ID: 1, Check-in: 2025-07-10, Check-out: 2025-07-15\n",
      "Booking-ID: 3, Room-ID: 3, Hotel-ID: 2, Check-in: 2025-08-20, Check-out: 2025-08-22\n",
      "Booking-ID: 4, Room-ID: 4, Hotel-ID: 3, Check-in: 2025-09-05, Check-out: 2025-09-10\n",
      "Booking-ID: 5, Room-ID: 5, Hotel-ID: 4, Check-in: 2025-10-01, Check-out: 2025-10-07\n",
      "Booking-ID: 6, Room-ID: 1, Hotel-ID: 1, Check-in: 2025-12-17, Check-out: 2025-12-19\n",
      "Booking-ID: 7, Room-ID: 5, Hotel-ID: 4, Check-in: 2025-12-17, Check-out: 2025-12-19\n",
      "Booking-ID: 8, Room-ID: 5, Hotel-ID: 4, Check-in: 2025-12-20, Check-out: 2025-12-22\n"
     ]
    }
   ],
   "execution_count": 10
  },
  {
   "metadata": {},
   "cell_type": "markdown",
   "source": [
    "5. Als Gast möchte ich nach meinem Aufenthalt eine Rechnung\n",
    "erhalten, damit ich einen Zahlungsnachweis habe.\n",
    "Hint: Fügt einen Eintrag in der «Invoice» Tabelle hinzu.\n"
   ],
   "id": "a9591fd65345d03c"
  },
  {
   "metadata": {
    "ExecuteTime": {
     "end_time": "2025-06-14T14:13:07.583580Z",
     "start_time": "2025-06-14T14:13:05.614390Z"
    }
   },
   "cell_type": "code",
   "source": [
    "try:\n",
    "    booking_id = int(input(\"Booking-ID eingeben: \"))\n",
    "    invoice = invoice_manager.create_invoice_for_existing_booking(booking_id)\n",
    "\n",
    "    print(\"Rechnung erfolgreich erstellt:\")\n",
    "    print(f\"Rechnungs-ID: {invoice.invoice_id}\")\n",
    "    print(f\"Zu Buchung:   {invoice.booking}\")\n",
    "    print(f\"Betrag:       {invoice.total_amount} CHF\")\n",
    "    print(f\"Rechnungsdatum: {invoice.issue_date}\")\n",
    "except Exception as e:\n",
    "    print(f\"Fehler beim Erstellen der Rechnung: {e}\")"
   ],
   "id": "1f2a53a7f561465c",
   "outputs": [
    {
     "ename": "KeyboardInterrupt",
     "evalue": "Interrupted by user",
     "output_type": "error",
     "traceback": [
      "\u001B[31m---------------------------------------------------------------------------\u001B[39m",
      "\u001B[31mKeyboardInterrupt\u001B[39m                         Traceback (most recent call last)",
      "\u001B[36mCell\u001B[39m\u001B[36m \u001B[39m\u001B[32mIn[6]\u001B[39m\u001B[32m, line 2\u001B[39m\n\u001B[32m      1\u001B[39m \u001B[38;5;28;01mtry\u001B[39;00m:\n\u001B[32m----> \u001B[39m\u001B[32m2\u001B[39m     booking_id = \u001B[38;5;28mint\u001B[39m(\u001B[38;5;28;43minput\u001B[39;49m\u001B[43m(\u001B[49m\u001B[33;43m\"\u001B[39;49m\u001B[33;43mBooking-ID eingeben: \u001B[39;49m\u001B[33;43m\"\u001B[39;49m\u001B[43m)\u001B[49m)\n\u001B[32m      3\u001B[39m     invoice = invoice_manager.create_invoice_for_existing_booking(booking_id)\n\u001B[32m      5\u001B[39m     \u001B[38;5;28mprint\u001B[39m(\u001B[33m\"\u001B[39m\u001B[33mRechnung erfolgreich erstellt:\u001B[39m\u001B[33m\"\u001B[39m)\n",
      "\u001B[36mFile \u001B[39m\u001B[32m~\\PycharmProjects\\PythonProjektarbeit\\.venv\\Lib\\site-packages\\ipykernel\\kernelbase.py:1282\u001B[39m, in \u001B[36mKernel.raw_input\u001B[39m\u001B[34m(self, prompt)\u001B[39m\n\u001B[32m   1280\u001B[39m     msg = \u001B[33m\"\u001B[39m\u001B[33mraw_input was called, but this frontend does not support input requests.\u001B[39m\u001B[33m\"\u001B[39m\n\u001B[32m   1281\u001B[39m     \u001B[38;5;28;01mraise\u001B[39;00m StdinNotImplementedError(msg)\n\u001B[32m-> \u001B[39m\u001B[32m1282\u001B[39m \u001B[38;5;28;01mreturn\u001B[39;00m \u001B[38;5;28;43mself\u001B[39;49m\u001B[43m.\u001B[49m\u001B[43m_input_request\u001B[49m\u001B[43m(\u001B[49m\n\u001B[32m   1283\u001B[39m \u001B[43m    \u001B[49m\u001B[38;5;28;43mstr\u001B[39;49m\u001B[43m(\u001B[49m\u001B[43mprompt\u001B[49m\u001B[43m)\u001B[49m\u001B[43m,\u001B[49m\n\u001B[32m   1284\u001B[39m \u001B[43m    \u001B[49m\u001B[38;5;28;43mself\u001B[39;49m\u001B[43m.\u001B[49m\u001B[43m_parent_ident\u001B[49m\u001B[43m[\u001B[49m\u001B[33;43m\"\u001B[39;49m\u001B[33;43mshell\u001B[39;49m\u001B[33;43m\"\u001B[39;49m\u001B[43m]\u001B[49m\u001B[43m,\u001B[49m\n\u001B[32m   1285\u001B[39m \u001B[43m    \u001B[49m\u001B[38;5;28;43mself\u001B[39;49m\u001B[43m.\u001B[49m\u001B[43mget_parent\u001B[49m\u001B[43m(\u001B[49m\u001B[33;43m\"\u001B[39;49m\u001B[33;43mshell\u001B[39;49m\u001B[33;43m\"\u001B[39;49m\u001B[43m)\u001B[49m\u001B[43m,\u001B[49m\n\u001B[32m   1286\u001B[39m \u001B[43m    \u001B[49m\u001B[43mpassword\u001B[49m\u001B[43m=\u001B[49m\u001B[38;5;28;43;01mFalse\u001B[39;49;00m\u001B[43m,\u001B[49m\n\u001B[32m   1287\u001B[39m \u001B[43m\u001B[49m\u001B[43m)\u001B[49m\n",
      "\u001B[36mFile \u001B[39m\u001B[32m~\\PycharmProjects\\PythonProjektarbeit\\.venv\\Lib\\site-packages\\ipykernel\\kernelbase.py:1325\u001B[39m, in \u001B[36mKernel._input_request\u001B[39m\u001B[34m(self, prompt, ident, parent, password)\u001B[39m\n\u001B[32m   1322\u001B[39m \u001B[38;5;28;01mexcept\u001B[39;00m \u001B[38;5;167;01mKeyboardInterrupt\u001B[39;00m:\n\u001B[32m   1323\u001B[39m     \u001B[38;5;66;03m# re-raise KeyboardInterrupt, to truncate traceback\u001B[39;00m\n\u001B[32m   1324\u001B[39m     msg = \u001B[33m\"\u001B[39m\u001B[33mInterrupted by user\u001B[39m\u001B[33m\"\u001B[39m\n\u001B[32m-> \u001B[39m\u001B[32m1325\u001B[39m     \u001B[38;5;28;01mraise\u001B[39;00m \u001B[38;5;167;01mKeyboardInterrupt\u001B[39;00m(msg) \u001B[38;5;28;01mfrom\u001B[39;00m\u001B[38;5;250m \u001B[39m\u001B[38;5;28;01mNone\u001B[39;00m\n\u001B[32m   1326\u001B[39m \u001B[38;5;28;01mexcept\u001B[39;00m \u001B[38;5;167;01mException\u001B[39;00m:\n\u001B[32m   1327\u001B[39m     \u001B[38;5;28mself\u001B[39m.log.warning(\u001B[33m\"\u001B[39m\u001B[33mInvalid Message:\u001B[39m\u001B[33m\"\u001B[39m, exc_info=\u001B[38;5;28;01mTrue\u001B[39;00m)\n",
      "\u001B[31mKeyboardInterrupt\u001B[39m: Interrupted by user"
     ]
    }
   ],
   "execution_count": 6
  },
  {
   "metadata": {},
   "cell_type": "markdown",
   "source": [
    "6.Als Gast möchte ich meine Buchung stornieren, damit ich nicht\n",
    "belastet werde, wenn ich das Zimmer nicht mehr benötige.\n",
    "Hint: Sorgt für die entsprechende Invoice"
   ],
   "id": "d09dd01fa6a04844"
  },
  {
   "metadata": {},
   "cell_type": "code",
   "outputs": [],
   "execution_count": null,
   "source": [
    "# Booking-ID auswählen zum anpassen\n",
    "booking_id = 5\n",
    "\n",
    "# Vorherige Daten anzeigen\n",
    "original_booking = next((b for b in booking_manager.show_bookings() if b.booking_id == booking_id), None)\n",
    "\n",
    "if not original_booking:\n",
    "    print(f\"Booking mit ID {booking_id} wurde nicht gefunden.\")\n",
    "else:\n",
    "    print(\"Vorher:\")\n",
    "    print(f\"Guest: {original_booking.guest},\")\n",
    "    print(      f\" Check-In: {original_booking.check_in_date}, Check-Out: {original_booking.check_out_date}\")\n",
    "    print(f\"Storniert?: {original_booking.is_cancelled}, Gesamtbetrag {original_booking.total_amount}\")\n",
    "    #Ausschliessen, dass die Buchung vorher storniert war\n",
    "if not original_booking.is_cancelled:\n",
    "    # Neue Werte definieren\n",
    "    cancelled = True\n",
    "    # Update durchführen\n",
    "    ok = booking_manager.update_booking(\n",
    "        booking_id=booking_id,\n",
    "        check_in_date=original_booking.check_in_date,\n",
    "        check_out_date=original_booking.check_out_date,\n",
    "        is_cancelled=cancelled,\n",
    "        total_amount=original_booking.total_amount,\n",
    "        guest_id=original_booking.guest\n",
    "    )\n",
    "    # Ergebnis anzeigen\n",
    "    if ok:\n",
    "        gelöscht = invoice_dao.delete_invoice_by_booking_id(booking_id)\n",
    "        if gelöscht:\n",
    "            print(f\"Die zugehörige Rechnung zur Buchung {booking_id} wurde gelöscht\")\n",
    "        else:\n",
    "            print(f\"Es wurde keine Rechnung zur Buchung {booking_id} gefunden.\")\n",
    "\n",
    "        updated = next((b for b in booking_manager.show_bookings() if b.booking_id == booking_id), None)\n",
    "        print(\"\\nNachher:\"),\n",
    "        print(f\"Guest-ID: {updated.guest}, Check-In: {updated.check_in_date}, Check-Out: {updated.check_out_date}\")\n",
    "        print(f\"Storniert: {updated.is_cancelled}, {updated.total_amount} CHF\")\n",
    "    else:\n",
    "        print(\"Update fehlgeschlagen.\")\n",
    "else: print(\"Buchung ist bereits storniert.\")"
   ],
   "id": "77f7de51f18d1030"
  },
  {
   "metadata": {},
   "cell_type": "markdown",
   "source": [
    "7. Als Gast möchte ich eine dynamische Preisgestaltung auf der\n",
    "Grundlage der Nachfrage sehen, damit ich ein Zimmer zum besten\n",
    "Preis buchen kann.\n",
    "Hint: Wendet in der Hochsaison höhere und in der Nebensaison\n",
    "niedrigere Tarife an\n"
   ],
   "id": "3d1e430e197330bc"
  },
  {
   "metadata": {},
   "cell_type": "code",
   "outputs": [],
   "execution_count": null,
   "source": [
    "# beispielzimmer holen\n",
    "rooms = room_manager.show_room_details()\n",
    "room = rooms[2]  # Erstes Zimmer\n",
    "\n",
    "# Zeitraum definieren\n",
    "check_in = date(2025, 7, 10)\n",
    "check_out = date(2025, 7, 15)\n",
    "\n",
    "# Preisberechnung\n",
    "base_price = room.price_per_night\n",
    "num_nights = (check_out - check_in).days\n",
    "total_base_price = base_price * num_nights\n",
    "dynamic_price = room_manager.calculate_dynamic_price(room, check_in, check_out)\n",
    "\n",
    "# Ausgabe\n",
    "print(f\"Zimmernummer: {room.room_number}\")\n",
    "print(f\"Zeitraum: {check_in} bis {check_out} ({num_nights} Nächte)\")\n",
    "print(f\"Basispreis pro Nacht: {base_price:.2f} CHF\")\n",
    "print(f\"Gesamtpreis ohne Dynamik: {total_base_price:.2f} CHF\")\n",
    "print(f\"Dynamischer Gesamtpreis: {dynamic_price:.2f} CHF\")"
   ],
   "id": "76e9c0bacd2fa9f7"
  },
  {
   "metadata": {},
   "cell_type": "markdown",
   "source": [
    "8. Als Admin des Buchungssystems möchte ich alle Buchungen aller\n",
    "Hotels sehen können, um eine Übersicht zu erhalten.\n"
   ],
   "id": "431269917a97660e"
  },
  {
   "metadata": {
    "ExecuteTime": {
     "end_time": "2025-06-14T12:51:44.616725Z",
     "start_time": "2025-06-14T12:51:44.608177Z"
    }
   },
   "cell_type": "code",
   "source": [
    "if admin_manager.get_logged_in_admin():\n",
    "    all_bookings = booking_manager.show_all_bookings_with_all_hotels()\n",
    "\n",
    "    print(f\"Es wurden {len(all_bookings)} Buchungen gefunden:\\n\")\n",
    "\n",
    "    for b in all_bookings:\n",
    "        print(f\"Buchung-ID: {b.booking_id} | \"\n",
    "              f\"Hotel-ID: {b.hotel.hotel_id if hasattr(b, 'hotel') else 'N/A'} | \"\n",
    "              f\"Hotel-Name: {b.hotel.name if hasattr(b, 'hotel') else 'N/A'} | \"\n",
    "              f\"Zimmer-Nr: {b.room.room_number if hasattr(b, 'room') else 'N/A'} | \"\n",
    "              f\"Check-In: {b.check_in_date} | \"\n",
    "              f\"Check-Out: {b.check_out_date} | \"\n",
    "              f\"Storniert: {b.is_cancelled} | \"\n",
    "              f\"Gesamtbetrag: {b.total_amount} | \"\n",
    "              f\"Gast-ID: {b.guest}\")\n",
    "else:\n",
    "    print(\"Zugriff verweigert – bitte zuerst als Admin einloggen.\")"
   ],
   "id": "df1850c76981e60d",
   "outputs": [
    {
     "name": "stdout",
     "output_type": "stream",
     "text": [
      "Es wurden 5 Buchungen gefunden:\n",
      "\n",
      "Buchung-ID: 1 | Hotel-ID: 1 | Hotel-Name: Hotel Baur au Lac | Zimmer-Nr: 101 | Check-In: 2025-06-01 | Check-Out: 2025-06-05 | Storniert: 0 | Gesamtbetrag: 1000.0 | Gast-ID: 1\n",
      "Buchung-ID: 2 | Hotel-ID: 1 | Hotel-Name: Hotel Baur au Lac | Zimmer-Nr: 102 | Check-In: 2025-07-10 | Check-Out: 2025-07-15 | Storniert: 0 | Gesamtbetrag: 2000.0 | Gast-ID: 2\n",
      "Buchung-ID: 3 | Hotel-ID: 2 | Hotel-Name: Four Seasons Hôtel des Bergues | Zimmer-Nr: 201 | Check-In: 2025-08-20 | Check-Out: 2025-08-22 | Storniert: 0 | Gesamtbetrag: 1300.0 | Gast-ID: 3\n",
      "Buchung-ID: 4 | Hotel-ID: 3 | Hotel-Name: Grand Hotel National | Zimmer-Nr: 301 | Check-In: 2025-09-05 | Check-Out: 2025-09-10 | Storniert: 1 | Gesamtbetrag: 0.0 | Gast-ID: 4\n",
      "Buchung-ID: 5 | Hotel-ID: 4 | Hotel-Name: Bellevue Palace | Zimmer-Nr: 401 | Check-In: 2025-10-01 | Check-Out: 2025-10-07 | Storniert: 0 | Gesamtbetrag: 9000.0 | Gast-ID: 5\n"
     ]
    }
   ],
   "execution_count": 6
  },
  {
   "metadata": {},
   "cell_type": "markdown",
   "source": [
    "9. Als Admin möchte ich eine Liste der Zimmer mit ihrer\n",
    "Ausstattung sehen, damit ich sie besser bewerben kann.\n",
    "\n"
   ],
   "id": "558e8cce50fb738a"
  },
  {
   "metadata": {},
   "cell_type": "code",
   "outputs": [],
   "execution_count": null,
   "source": [
    "if admin_manager.get_logged_in_admin():\n",
    "    rooms = room_manager.get_rooms_with_facilities()\n",
    "\n",
    "    for room in rooms:\n",
    "        print(f\"Zimmer {room.room_number}:\")\n",
    "        if room.facilities:\n",
    "            for facility in room.facilities:\n",
    "                print(f\"  - {facility.facility_name}\")\n",
    "        else:\n",
    "            print(\"  (Keine Ausstattung vorhanden)\")\n",
    "else:\n",
    "    print(\"Zugriff verweigert – bitte zuerst als Admin einloggen.\")"
   ],
   "id": "92fa921911dc3763"
  },
  {
   "metadata": {},
   "cell_type": "markdown",
   "source": [
    "10. Als Admin möchte ich in der Lage sein, Stammdaten zu verwalten,\n",
    "z.B. Zimmertypen, Einrichtungen, und Preise in Echtzeit zu\n",
    "aktualisieren, damit das Backend-System aktuelle Informationen\n",
    "hat."
   ],
   "id": "311259960f1ab955"
  },
  {
   "metadata": {},
   "cell_type": "markdown",
   "source": "10.1 Guest",
   "id": "f58af18819390af7"
  },
  {
   "metadata": {
    "ExecuteTime": {
     "end_time": "2025-06-11T09:24:26.476772100Z",
     "start_time": "2025-06-10T19:19:47.893836Z"
    }
   },
   "cell_type": "code",
   "source": [
    "#Guest Update\n",
    "guest_id = int(input(\"Guest-ID (wird nicht verändert): \"))\n",
    "\n",
    "print(\"\\nGäste vor dem Update:\")\n",
    "for g in guest_da.read_all_guests():\n",
    "    print(f\"Guest-ID: {g.guest_id} | Name: {g.firstname} {g.lastname} | Email: {g.email} | Telefonnummer: {g.phone_number}\")\n",
    "\n",
    "try:\n",
    "    firstname = input(\"Neuer Vorname: \")\n",
    "    lastname = input(\"Neuer Nachname: \")\n",
    "    email = input(\"Neue Email-Adresse: \")\n",
    "    phone_number = input(\"Neuer Telefonnummer: \")\n",
    "\n",
    "    updated_guest = admin_manager.update_guest_admin(\n",
    "        guest_id=guest_id,\n",
    "        firstname=firstname,\n",
    "        lastname=lastname,\n",
    "        email=email,\n",
    "        phone_number=phone_number\n",
    "    )\n",
    "    print(\"\\nGäste nach dem Update:\")\n",
    "    for g in guest_da.read_all_guests():\n",
    "        print(f\"Guest-ID: {g.guest_id} | Name: {g.firstname} {g.lastname} | Email: {g.email}| Telefonnummer: {g.phone_number}\")\n",
    "\n",
    "except Exception as e:\n",
    "    print(f\"\\n️ Fehler beim Gast-Update: {e}\")"
   ],
   "id": "bf49f2dee6dc4b3c",
   "outputs": [
    {
     "name": "stdout",
     "output_type": "stream",
     "text": [
      "\n",
      "Gäste vor dem Update:\n",
      "Guest-ID: 1 | Name: Max Muster | Email: max@example.com | Telefonnummer: None\n",
      "Guest-ID: 2 | Name: Sophie Meier | Email: sophie.meier@example.ch | Telefonnummer: None\n",
      "Guest-ID: 3 | Name: Luca Rossi | Email: luca.rossi@example.ch | Telefonnummer: None\n",
      "Guest-ID: 4 | Name: Elena Keller | Email: elena.keller@example.ch | Telefonnummer: None\n",
      "Guest-ID: 5 | Name: Marc Weber | Email: marc.weber@example.ch | Telefonnummer: None\n",
      "\n",
      "Gäste nach dem Update:\n",
      "Guest-ID: 1 | Name: Max Muster | Email: max@example.com\n",
      "Guest-ID: 2 | Name: Sophie Meier | Email: sophie.meier@example.ch\n",
      "Guest-ID: 3 | Name: Luca Rossi | Email: luca.rossi@example.ch\n",
      "Guest-ID: 4 | Name: Elena Keller | Email: elena.keller@example.ch\n",
      "Guest-ID: 5 | Name: Cesco Meggiolaro | Email: cesco.meggio@gmail.com\n"
     ]
    }
   ],
   "execution_count": 6
  },
  {
   "metadata": {},
   "cell_type": "markdown",
   "source": "10.2",
   "id": "cd7602fa538521f4"
  },
  {
   "metadata": {
    "ExecuteTime": {
     "end_time": "2025-06-14T12:41:09.219460Z",
     "start_time": "2025-06-14T12:41:07.269507Z"
    }
   },
   "cell_type": "code",
   "source": [
    "#Address\n",
    "address_id = int(input(\"Address-ID (wird nicht verändert): \"))\n",
    "street = input(\"Neue Straße: \")\n",
    "zip_code = int(input(\"Neue PLZ: \"))\n",
    "city = input(\"Neue Stadt: \")\n",
    "\n",
    "\n",
    "print(\"\\nAdressen vor dem Update:\")\n",
    "a = address_da.show_address_by_id(address_id)\n",
    "print(f\"Address-ID: {a.address_id} | {a.street}, {a.zip_code} {a.city}\")\n",
    "\n",
    "try:\n",
    "    success = admin_manager.update_address_admin(\n",
    "        address_id=address_id,\n",
    "        street=street,\n",
    "        zip_code=zip_code,\n",
    "        city=city\n",
    "    )\n",
    "\n",
    "    print(\"\\nAdressen nach dem Update:\")\n",
    "    a = address_da.show_address_by_id(address_id)\n",
    "    print(f\"Address-ID: {a.address_id} | {a.street}, {a.zip_code} {a.city}\")\n",
    "\n",
    "except Exception as e:\n",
    "    print(f\"\\n Fehler beim Adress-Update: {e}\")"
   ],
   "id": "e5442474c2fe1ce2",
   "outputs": [
    {
     "ename": "KeyboardInterrupt",
     "evalue": "Interrupted by user",
     "output_type": "error",
     "traceback": [
      "\u001B[31m---------------------------------------------------------------------------\u001B[39m",
      "\u001B[31mKeyboardInterrupt\u001B[39m                         Traceback (most recent call last)",
      "\u001B[36mCell\u001B[39m\u001B[36m \u001B[39m\u001B[32mIn[1]\u001B[39m\u001B[32m, line 2\u001B[39m\n\u001B[32m      1\u001B[39m \u001B[38;5;66;03m#Address\u001B[39;00m\n\u001B[32m----> \u001B[39m\u001B[32m2\u001B[39m address_id = \u001B[38;5;28mint\u001B[39m(\u001B[38;5;28;43minput\u001B[39;49m\u001B[43m(\u001B[49m\u001B[33;43m\"\u001B[39;49m\u001B[33;43mAddress-ID (wird nicht verändert): \u001B[39;49m\u001B[33;43m\"\u001B[39;49m\u001B[43m)\u001B[49m)\n\u001B[32m      3\u001B[39m street = \u001B[38;5;28minput\u001B[39m(\u001B[33m\"\u001B[39m\u001B[33mNeue Straße: \u001B[39m\u001B[33m\"\u001B[39m)\n\u001B[32m      4\u001B[39m zip_code = \u001B[38;5;28mint\u001B[39m(\u001B[38;5;28minput\u001B[39m(\u001B[33m\"\u001B[39m\u001B[33mNeue PLZ: \u001B[39m\u001B[33m\"\u001B[39m))\n",
      "\u001B[36mFile \u001B[39m\u001B[32m~\\PycharmProjects\\PythonProjektarbeit\\.venv\\Lib\\site-packages\\ipykernel\\kernelbase.py:1282\u001B[39m, in \u001B[36mKernel.raw_input\u001B[39m\u001B[34m(self, prompt)\u001B[39m\n\u001B[32m   1280\u001B[39m     msg = \u001B[33m\"\u001B[39m\u001B[33mraw_input was called, but this frontend does not support input requests.\u001B[39m\u001B[33m\"\u001B[39m\n\u001B[32m   1281\u001B[39m     \u001B[38;5;28;01mraise\u001B[39;00m StdinNotImplementedError(msg)\n\u001B[32m-> \u001B[39m\u001B[32m1282\u001B[39m \u001B[38;5;28;01mreturn\u001B[39;00m \u001B[38;5;28;43mself\u001B[39;49m\u001B[43m.\u001B[49m\u001B[43m_input_request\u001B[49m\u001B[43m(\u001B[49m\n\u001B[32m   1283\u001B[39m \u001B[43m    \u001B[49m\u001B[38;5;28;43mstr\u001B[39;49m\u001B[43m(\u001B[49m\u001B[43mprompt\u001B[49m\u001B[43m)\u001B[49m\u001B[43m,\u001B[49m\n\u001B[32m   1284\u001B[39m \u001B[43m    \u001B[49m\u001B[38;5;28;43mself\u001B[39;49m\u001B[43m.\u001B[49m\u001B[43m_parent_ident\u001B[49m\u001B[43m[\u001B[49m\u001B[33;43m\"\u001B[39;49m\u001B[33;43mshell\u001B[39;49m\u001B[33;43m\"\u001B[39;49m\u001B[43m]\u001B[49m\u001B[43m,\u001B[49m\n\u001B[32m   1285\u001B[39m \u001B[43m    \u001B[49m\u001B[38;5;28;43mself\u001B[39;49m\u001B[43m.\u001B[49m\u001B[43mget_parent\u001B[49m\u001B[43m(\u001B[49m\u001B[33;43m\"\u001B[39;49m\u001B[33;43mshell\u001B[39;49m\u001B[33;43m\"\u001B[39;49m\u001B[43m)\u001B[49m\u001B[43m,\u001B[49m\n\u001B[32m   1286\u001B[39m \u001B[43m    \u001B[49m\u001B[43mpassword\u001B[49m\u001B[43m=\u001B[49m\u001B[38;5;28;43;01mFalse\u001B[39;49;00m\u001B[43m,\u001B[49m\n\u001B[32m   1287\u001B[39m \u001B[43m\u001B[49m\u001B[43m)\u001B[49m\n",
      "\u001B[36mFile \u001B[39m\u001B[32m~\\PycharmProjects\\PythonProjektarbeit\\.venv\\Lib\\site-packages\\ipykernel\\kernelbase.py:1325\u001B[39m, in \u001B[36mKernel._input_request\u001B[39m\u001B[34m(self, prompt, ident, parent, password)\u001B[39m\n\u001B[32m   1322\u001B[39m \u001B[38;5;28;01mexcept\u001B[39;00m \u001B[38;5;167;01mKeyboardInterrupt\u001B[39;00m:\n\u001B[32m   1323\u001B[39m     \u001B[38;5;66;03m# re-raise KeyboardInterrupt, to truncate traceback\u001B[39;00m\n\u001B[32m   1324\u001B[39m     msg = \u001B[33m\"\u001B[39m\u001B[33mInterrupted by user\u001B[39m\u001B[33m\"\u001B[39m\n\u001B[32m-> \u001B[39m\u001B[32m1325\u001B[39m     \u001B[38;5;28;01mraise\u001B[39;00m \u001B[38;5;167;01mKeyboardInterrupt\u001B[39;00m(msg) \u001B[38;5;28;01mfrom\u001B[39;00m\u001B[38;5;250m \u001B[39m\u001B[38;5;28;01mNone\u001B[39;00m\n\u001B[32m   1326\u001B[39m \u001B[38;5;28;01mexcept\u001B[39;00m \u001B[38;5;167;01mException\u001B[39;00m:\n\u001B[32m   1327\u001B[39m     \u001B[38;5;28mself\u001B[39m.log.warning(\u001B[33m\"\u001B[39m\u001B[33mInvalid Message:\u001B[39m\u001B[33m\"\u001B[39m, exc_info=\u001B[38;5;28;01mTrue\u001B[39;00m)\n",
      "\u001B[31mKeyboardInterrupt\u001B[39m: Interrupted by user"
     ]
    }
   ],
   "execution_count": 1
  },
  {
   "metadata": {},
   "cell_type": "markdown",
   "source": "10.3",
   "id": "b30c3b54769d9b42"
  },
  {
   "metadata": {
    "ExecuteTime": {
     "end_time": "2025-06-11T09:24:26.476772100Z",
     "start_time": "2025-06-10T20:26:49.133618Z"
    }
   },
   "cell_type": "code",
   "source": [
    "#Invoice\n",
    "invoice_id = int(input(\"Rechnungs-ID (wird nicht verändert): \"))\n",
    "\n",
    "print(\"\\nRechnungen vor dem Update:\")\n",
    "for inv in invoice_dao.read_all_invoices():\n",
    "    print(f\"Invoice-ID: {inv.invoice_id} | Betrag: {inv.total_amount} | Datum: {inv.issue_date}\")\n",
    "\n",
    "try:\n",
    "    issue_date = input(\"Neues Ausstellungsdatum (YYYY-MM-DD): \")\n",
    "    total_amount = int(input(\"Neuer Gesamtbetrag: \"))\n",
    "\n",
    "    updated_invoice = admin_manager.update_invoice_admin(\n",
    "        invoice_id=invoice_id,\n",
    "        issue_date=issue_date,\n",
    "        total_amount=total_amount\n",
    "    )\n",
    "    print(\"\\nRechnungen nach dem Update:\")\n",
    "    for inv in invoice_dao.read_all_invoices():\n",
    "        print(f\"Invoice-ID: {inv.invoice_id} | Betrag: {inv.total_amount} | Datum: {inv.issue_date}\")\n",
    "\n",
    "except Exception as e:\n",
    "    print(f\"\\n Fehler beim Rechnungs-Update: {e}\")"
   ],
   "id": "141f5b595914b5fb",
   "outputs": [
    {
     "name": "stdout",
     "output_type": "stream",
     "text": [
      "\n",
      "Rechnungen vor dem Update:\n"
     ]
    },
    {
     "ename": "ValueError",
     "evalue": "Issue Date darf nicht in der Vergangenheit liegen",
     "output_type": "error",
     "traceback": [
      "\u001B[0;31m---------------------------------------------------------------------------\u001B[0m",
      "\u001B[0;31mValueError\u001B[0m                                Traceback (most recent call last)",
      "Cell \u001B[0;32mIn[11], line 5\u001B[0m\n\u001B[1;32m      2\u001B[0m invoice_id \u001B[38;5;241m=\u001B[39m \u001B[38;5;28mint\u001B[39m(\u001B[38;5;28minput\u001B[39m(\u001B[38;5;124m\"\u001B[39m\u001B[38;5;124mRechnungs-ID (wird nicht verändert): \u001B[39m\u001B[38;5;124m\"\u001B[39m))\n\u001B[1;32m      4\u001B[0m \u001B[38;5;28mprint\u001B[39m(\u001B[38;5;124m\"\u001B[39m\u001B[38;5;130;01m\\n\u001B[39;00m\u001B[38;5;124mRechnungen vor dem Update:\u001B[39m\u001B[38;5;124m\"\u001B[39m)\n\u001B[0;32m----> 5\u001B[0m \u001B[38;5;28;01mfor\u001B[39;00m inv \u001B[38;5;129;01min\u001B[39;00m \u001B[43minvoice_dao\u001B[49m\u001B[38;5;241;43m.\u001B[39;49m\u001B[43mread_all_invoices\u001B[49m\u001B[43m(\u001B[49m\u001B[43m)\u001B[49m:\n\u001B[1;32m      6\u001B[0m     \u001B[38;5;28mprint\u001B[39m(\u001B[38;5;124mf\u001B[39m\u001B[38;5;124m\"\u001B[39m\u001B[38;5;124mInvoice-ID: \u001B[39m\u001B[38;5;132;01m{\u001B[39;00minv\u001B[38;5;241m.\u001B[39minvoice_id\u001B[38;5;132;01m}\u001B[39;00m\u001B[38;5;124m | Betrag: \u001B[39m\u001B[38;5;132;01m{\u001B[39;00minv\u001B[38;5;241m.\u001B[39mtotal_amount\u001B[38;5;132;01m}\u001B[39;00m\u001B[38;5;124m | Datum: \u001B[39m\u001B[38;5;132;01m{\u001B[39;00minv\u001B[38;5;241m.\u001B[39missue_date\u001B[38;5;132;01m}\u001B[39;00m\u001B[38;5;124m\"\u001B[39m)\n\u001B[1;32m      8\u001B[0m \u001B[38;5;28;01mtry\u001B[39;00m:\n",
      "File \u001B[0;32m~/PycharmProjects/PythonProjektarbeit/data_access/invoice_data_access.py:62\u001B[0m, in \u001B[0;36mInvoiceDataAccess.read_all_invoices\u001B[0;34m(self)\u001B[0m\n\u001B[1;32m     60\u001B[0m return_list \u001B[38;5;241m=\u001B[39m []\n\u001B[1;32m     61\u001B[0m \u001B[38;5;28;01mfor\u001B[39;00m invoice_id, issue_date, total_amount, booking_id \u001B[38;5;129;01min\u001B[39;00m invoices:\n\u001B[0;32m---> 62\u001B[0m     return_list\u001B[38;5;241m.\u001B[39mappend(\u001B[43mmodel\u001B[49m\u001B[38;5;241;43m.\u001B[39;49m\u001B[43mInvoice\u001B[49m\u001B[43m(\u001B[49m\u001B[43minvoice_id\u001B[49m\u001B[43m,\u001B[49m\u001B[43m \u001B[49m\u001B[43missue_date\u001B[49m\u001B[43m,\u001B[49m\u001B[43m \u001B[49m\u001B[43mtotal_amount\u001B[49m\u001B[43m,\u001B[49m\u001B[43m \u001B[49m\u001B[43mbooking_id\u001B[49m\u001B[43m)\u001B[49m)\n\u001B[1;32m     63\u001B[0m \u001B[38;5;28;01mreturn\u001B[39;00m return_list\n",
      "File \u001B[0;32m~/PycharmProjects/PythonProjektarbeit/model/invoice.py:11\u001B[0m, in \u001B[0;36mInvoice.__init__\u001B[0;34m(self, invoice_id, issue_date, total_amount, booking)\u001B[0m\n\u001B[1;32m      9\u001B[0m \u001B[38;5;28;01mdef\u001B[39;00m\u001B[38;5;250m \u001B[39m\u001B[38;5;21m__init__\u001B[39m(\u001B[38;5;28mself\u001B[39m, invoice_id: \u001B[38;5;28mint\u001B[39m, issue_date: date, total_amount: \u001B[38;5;28mint\u001B[39m, booking: Booking):\n\u001B[1;32m     10\u001B[0m     \u001B[38;5;28mself\u001B[39m\u001B[38;5;241m.\u001B[39m__invoice_id \u001B[38;5;241m=\u001B[39m invoice_id\n\u001B[0;32m---> 11\u001B[0m     \u001B[38;5;28;43mself\u001B[39;49m\u001B[38;5;241;43m.\u001B[39;49m\u001B[43missue_date\u001B[49m \u001B[38;5;241m=\u001B[39m issue_date\n\u001B[1;32m     12\u001B[0m     \u001B[38;5;28mself\u001B[39m\u001B[38;5;241m.\u001B[39mtotal_amount \u001B[38;5;241m=\u001B[39m total_amount\n\u001B[1;32m     13\u001B[0m     \u001B[38;5;28mself\u001B[39m\u001B[38;5;241m.\u001B[39mbooking \u001B[38;5;241m=\u001B[39m booking\n",
      "File \u001B[0;32m~/PycharmProjects/PythonProjektarbeit/model/invoice.py:42\u001B[0m, in \u001B[0;36mInvoice.issue_date\u001B[0;34m(self, value)\u001B[0m\n\u001B[1;32m     40\u001B[0m \u001B[38;5;66;03m# Validierung: kein Datum in der Vergangenheit\u001B[39;00m\n\u001B[1;32m     41\u001B[0m \u001B[38;5;28;01mif\u001B[39;00m parsed_date \u001B[38;5;241m<\u001B[39m date\u001B[38;5;241m.\u001B[39mtoday():\n\u001B[0;32m---> 42\u001B[0m     \u001B[38;5;28;01mraise\u001B[39;00m \u001B[38;5;167;01mValueError\u001B[39;00m(\u001B[38;5;124m\"\u001B[39m\u001B[38;5;124mIssue Date darf nicht in der Vergangenheit liegen\u001B[39m\u001B[38;5;124m\"\u001B[39m)\n\u001B[1;32m     44\u001B[0m \u001B[38;5;28mself\u001B[39m\u001B[38;5;241m.\u001B[39m__issue_date \u001B[38;5;241m=\u001B[39m parsed_date\n",
      "\u001B[0;31mValueError\u001B[0m: Issue Date darf nicht in der Vergangenheit liegen"
     ]
    }
   ],
   "execution_count": 11
  },
  {
   "metadata": {},
   "cell_type": "markdown",
   "source": "10.4 Update Room",
   "id": "9fa34a06b00b19f4"
  },
  {
   "metadata": {
    "ExecuteTime": {
     "end_time": "2025-06-11T09:24:26.476772100Z",
     "start_time": "2025-06-10T20:32:07.507263Z"
    }
   },
   "cell_type": "code",
   "source": [
    "room_id = int(input(\"Room-ID (wird nicht verändert): \"))\n",
    "\n",
    "print(\"\\nZimmer vor dem Update:\")\n",
    "for r in room_dao.show_room_details_by():\n",
    "    print(f\"Room-ID: {r.room_id} | Nummer: {r.room_number} | Preis: {r.price_per_night}\")\n",
    "\n",
    "try:\n",
    "    room_number = int(input(\"Neue Zimmernummer: \"))\n",
    "    price_per_night = int(input(\"Neuer Preis pro Nacht: \"))\n",
    "\n",
    "\n",
    "\n",
    "    success = admin_manager.update_room_admin(\n",
    "        room_id=room_id,\n",
    "        room_number=room_number,\n",
    "        price_per_night=price_per_night\n",
    "    )\n",
    "\n",
    "    print(\"\\n Zimmer wurde aktualisiert.\" if success else \"\\n Update fehlgeschlagen.\")\n",
    "\n",
    "except Exception as e:\n",
    "    print(f\"\\n️ Fehler beim Zimmer-Update: {e}\")"
   ],
   "id": "f20a5c6e2ea25539",
   "outputs": [
    {
     "name": "stdout",
     "output_type": "stream",
     "text": [
      "\n",
      "Zimmer vor dem Update:\n",
      "Room-ID: 1 | Nummer: 101 | Preis: 250.0\n",
      "Room-ID: 2 | Nummer: 102 | Preis: 400.0\n",
      "Room-ID: 3 | Nummer: 201 | Preis: 650.0\n",
      "Room-ID: 4 | Nummer: 301 | Preis: 900.0\n",
      "Room-ID: 5 | Nummer: 401 | Preis: 1500.0\n",
      "\n",
      "⚠️ Fehler beim Zimmer-Update: 'NoneType' object has no attribute 'update_room'\n"
     ]
    }
   ],
   "execution_count": 3
  },
  {
   "metadata": {},
   "cell_type": "markdown",
   "source": "10.5 Update RoomType",
   "id": "bfde0e5b47b4e574"
  },
  {
   "metadata": {
    "ExecuteTime": {
     "end_time": "2025-06-11T09:24:26.476772100Z",
     "start_time": "2025-06-10T20:37:56.312674Z"
    }
   },
   "cell_type": "code",
   "source": [
    "room_type_id = int(input(\"RoomType-ID (wird nicht verändert): \"))\n",
    "\n",
    "print(\"\\nZimmertypen vor dem Update:\")\n",
    "for rt in room_type_dao.read_all_room_types():\n",
    "    print(f\"RoomType-ID: {rt.room_type_id} | Beschreibung: {rt.description} | Max Gäste: {rt.max_guests}\")\n",
    "\n",
    "try:\n",
    "    description = input(\"Neue Beschreibung: \")\n",
    "    max_guests = int(input(\"Neue maximale Gästeanzahl: \"))\n",
    "\n",
    "    updated_rt = admin_manager.update_room_type_admin(\n",
    "        room_type_id=room_type_id,\n",
    "        description=description,\n",
    "        max_guests=max_guests\n",
    "    )\n",
    "\n",
    "    print(\"\\nZimmertypen nach dem Update:\")\n",
    "    for rt in room_type_dao.read_all_room_types():\n",
    "        print(f\"RoomType-ID: {rt.room_type_id} | Beschreibung: {rt.description} | Max Gäste: {rt.max_guests}\")\n",
    "\n",
    "\n",
    "except Exception as e:\n",
    "    print(f\"\\n️ Fehler beim Zimmertyp-Update: {e}\")"
   ],
   "id": "c2992f1e559c72c",
   "outputs": [
    {
     "name": "stdout",
     "output_type": "stream",
     "text": [
      "\n",
      "Zimmertypen vor dem Update:\n",
      "RoomType-ID: 1 | Beschreibung: Single | Max Gäste: 1\n",
      "RoomType-ID: 2 | Beschreibung: Double | Max Gäste: 2\n",
      "RoomType-ID: 3 | Beschreibung: Suite | Max Gäste: 4\n",
      "RoomType-ID: 4 | Beschreibung: Family Room | Max Gäste: 5\n",
      "RoomType-ID: 5 | Beschreibung: Penthouse | Max Gäste: 6\n",
      "\n",
      "⚠️ Fehler beim Zimmertyp-Update: 'NoneType' object has no attribute 'update_room_type'\n"
     ]
    }
   ],
   "execution_count": 6
  },
  {
   "metadata": {},
   "cell_type": "markdown",
   "source": "10.6 Update Booking",
   "id": "283b16ad4878e7ef"
  },
  {
   "metadata": {
    "ExecuteTime": {
     "end_time": "2025-06-14T11:49:34.351750Z",
     "start_time": "2025-06-14T11:49:01.986696Z"
    }
   },
   "cell_type": "code",
   "source": [
    "# 1. Benutzer wählt Buchung aus\n",
    "booking_id_to_update = int(input(\"Buchungs-ID (wird nicht verändert): \"))\n",
    "\n",
    "# 2. Buchungen vor dem Update anzeigen\n",
    "print(\"\\nBuchungen vor dem Update:\")\n",
    "for b in booking_manager.show_bookings():\n",
    "    print(f\"Booking-ID: {b.booking_id} | Room-ID: {b.room_id} | Hotel-ID: {b.hotel_id} | Zeitraum: {b.check_in_date} bis {b.check_out_date} | Storniert: {b.is_cancelled} | Betrag: {b.total_amount}\")\n",
    "\n",
    "try:\n",
    "    # 3. Eingabe der neuen Daten (nur Änderbares!)\n",
    "    check_in = input(\"Neues Check-in-Datum (YYYY-MM-DD): \")\n",
    "    check_out = input(\"Neues Check-out-Datum (YYYY-MM-DD): \")\n",
    "    is_cancelled = input(\"Storniert? (ja/nein): \").strip().lower() == \"ja\"\n",
    "    total_amount = int(input(\"Neuer Gesamtbetrag: \"))\n",
    "\n",
    "    # 4. Ursprüngliche Buchung laden → Fremdschlüssel (Gast) nicht veränderbar\n",
    "    original_booking = next((b for b in booking_manager.show_bookings() if b.booking_id == booking_id_to_update), None)\n",
    "    if not original_booking:\n",
    "        raise ValueError(\"Buchung mit dieser ID wurde nicht gefunden.\")\n",
    "\n",
    "    # 5. Update durchführen\n",
    "    success = admin_manager.update_booking_admin(\n",
    "        booking_id=booking_id_to_update,\n",
    "        check_in_date=check_in,\n",
    "        check_out_date=check_out,\n",
    "        is_cancelled=is_cancelled,\n",
    "        total_amount=total_amount,\n",
    "        guest_id=original_booking.guest  # Fremdschlüssel NICHT veränderbar\n",
    "    )\n",
    "\n",
    "    if success:\n",
    "        print(f\"\\n Buchung {booking_id_to_update} wurde erfolgreich aktualisiert.\")\n",
    "    else:\n",
    "        print(f\"\\n Aktualisierung fehlgeschlagen.\")\n",
    "\n",
    "except Exception as e:\n",
    "    print(f\"\\n Fehler bei der Aktualisierung: {e}\")\n",
    "\n",
    "# 6. Buchungen nach dem Update anzeigen\n",
    "print(\"\\nBuchungen nach dem Update:\")\n",
    "for b in booking_manager.show_bookings():\n",
    "    print(f\"Booking-ID: {b.booking_id} | Room-ID: {b.room_id} | Hotel-ID: {b.hotel_id} | Zeitraum: {b.check_in_date} bis {b.check_out_date} | Storniert: {b.is_cancelled} | Betrag: {b.total_amount}\")"
   ],
   "id": "684724b56b713829",
   "outputs": [
    {
     "name": "stdout",
     "output_type": "stream",
     "text": [
      "\n",
      "Buchungen vor dem Update:\n",
      "Booking-ID: 1 | Room-ID: 1 | Hotel-ID: 1 | Zeitraum: 2025-06-01 bis 2025-06-05 | Storniert: 0 | Betrag: 1000.0\n",
      "Booking-ID: 2 | Room-ID: 2 | Hotel-ID: 1 | Zeitraum: 2025-07-10 bis 2025-07-15 | Storniert: 0 | Betrag: 2000.0\n",
      "Booking-ID: 3 | Room-ID: 3 | Hotel-ID: 2 | Zeitraum: 2025-08-20 bis 2025-08-22 | Storniert: 0 | Betrag: 1300.0\n",
      "Booking-ID: 4 | Room-ID: 4 | Hotel-ID: 3 | Zeitraum: 2025-09-05 bis 2025-09-10 | Storniert: 1 | Betrag: 0.0\n",
      "Booking-ID: 5 | Room-ID: 5 | Hotel-ID: 4 | Zeitraum: 2025-10-01 bis 2025-10-07 | Storniert: 0 | Betrag: 9000.0\n",
      "Booking-ID: 6 | Room-ID: 1 | Hotel-ID: 1 | Zeitraum: 2025-12-17 bis 2025-12-19 | Storniert: 0 | Betrag: 240.0\n",
      "Booking-ID: 7 | Room-ID: 5 | Hotel-ID: 4 | Zeitraum: 2025-12-17 bis 2025-12-19 | Storniert: 0 | Betrag: 240.0\n",
      "Booking-ID: 8 | Room-ID: 5 | Hotel-ID: 4 | Zeitraum: 2025-12-20 bis 2025-12-22 | Storniert: 0 | Betrag: 240.0\n",
      "\n",
      "✅ Buchung 5 wurde erfolgreich aktualisiert.\n",
      "\n",
      "Buchungen nach dem Update:\n",
      "Booking-ID: 1 | Room-ID: 1 | Hotel-ID: 1 | Zeitraum: 2025-06-01 bis 2025-06-05 | Storniert: 0 | Betrag: 1000.0\n",
      "Booking-ID: 2 | Room-ID: 2 | Hotel-ID: 1 | Zeitraum: 2025-07-10 bis 2025-07-15 | Storniert: 0 | Betrag: 2000.0\n",
      "Booking-ID: 3 | Room-ID: 3 | Hotel-ID: 2 | Zeitraum: 2025-08-20 bis 2025-08-22 | Storniert: 0 | Betrag: 1300.0\n",
      "Booking-ID: 4 | Room-ID: 4 | Hotel-ID: 3 | Zeitraum: 2025-09-05 bis 2025-09-10 | Storniert: 1 | Betrag: 0.0\n",
      "Booking-ID: 5 | Room-ID: 5 | Hotel-ID: 4 | Zeitraum: 2026-10-10 bis 2026-10-12 | Storniert: 0 | Betrag: 1100.0\n",
      "Booking-ID: 6 | Room-ID: 1 | Hotel-ID: 1 | Zeitraum: 2025-12-17 bis 2025-12-19 | Storniert: 0 | Betrag: 240.0\n",
      "Booking-ID: 7 | Room-ID: 5 | Hotel-ID: 4 | Zeitraum: 2025-12-17 bis 2025-12-19 | Storniert: 0 | Betrag: 240.0\n",
      "Booking-ID: 8 | Room-ID: 5 | Hotel-ID: 4 | Zeitraum: 2025-12-20 bis 2025-12-22 | Storniert: 0 | Betrag: 240.0\n"
     ]
    }
   ],
   "execution_count": 5
  },
  {
   "metadata": {},
   "cell_type": "markdown",
   "source": "10.7 Update Hotel\n",
   "id": "91014c26bca04ca9"
  },
  {
   "metadata": {
    "ExecuteTime": {
     "end_time": "2025-06-11T09:24:26.476772100Z",
     "start_time": "2025-06-10T20:39:12.798107Z"
    }
   },
   "cell_type": "code",
   "source": [
    "hotel_id = int(input(\"Hotel-ID (wird nicht verändert): \"))\n",
    "\n",
    "print(\"\\nHotels vor dem Update:\")\n",
    "for h in hotel_dao.read_all_hotel():\n",
    "    print(f\"Hotel-ID: {h.hotel_id} | Name: {h.name} | Sterne: {h.stars}\")\n",
    "\n",
    "try:\n",
    "    name = input(\"Neuer Hotelname: \")\n",
    "    stars = int(input(\"Neue Sterneanzahl: \"))\n",
    "\n",
    "    # Address-ID bleibt unverändert\n",
    "    original_hotel = next((h for h in hotel_dao.read_all_hotel() if h.hotel_id == hotel_id), None)\n",
    "    if not original_hotel:\n",
    "        raise ValueError(\"Hotel nicht gefunden.\")\n",
    "\n",
    "    success = admin_manager.update_hotel_admin(\n",
    "        hotel_id=hotel_id,\n",
    "        name=name,\n",
    "        stars=stars,\n",
    "        address_id=original_hotel.address.address_id\n",
    "    )\n",
    "\n",
    "    print(\"\\n Hotel wurde aktualisiert.\" if success else \"\\n Update fehlgeschlagen.\")\n",
    "\n",
    "except Exception as e:\n",
    "    print(f\"\\n️ Fehler beim Hotel-Update: {e}\")"
   ],
   "id": "ea31242a5c217e69",
   "outputs": [
    {
     "name": "stdout",
     "output_type": "stream",
     "text": [
      "\n",
      "Hotels vor dem Update:\n",
      "Hotel-ID: 1 | Name: Hotel Baur au Lac | Sterne: 5\n",
      "Hotel-ID: 2 | Name: Four Seasons Hôtel des Bergues | Sterne: 5\n",
      "Hotel-ID: 3 | Name: Grand Hotel National | Sterne: 5\n",
      "Hotel-ID: 4 | Name: Eisenarm | Sterne: 5\n",
      "Hotel-ID: 5 | Name: Les Trois Rois | Sterne: 5\n",
      "Hotel-ID: 16 | Name: bronzehand | Sterne: 5\n",
      "Hotel-ID: 17 | Name: Hotel Bernblick | Sterne: 3\n",
      "Hotel-ID: 18 | Name: Hotel Bernblick | Sterne: 3\n",
      "Hotel-ID: 19 | Name: Hotel Bernblick | Sterne: 3\n",
      "\n",
      "⚠️ Fehler beim Hotel-Update: 'NoneType' object has no attribute 'update_hotel'\n"
     ]
    }
   ],
   "execution_count": 8
  },
  {
   "metadata": {},
   "cell_type": "markdown",
   "source": [
    "User Stories mit DB-Schemaänderung\n",
    "Die folgenden User Stories erfordern eine Änderung des Datenbankschemas, z.B. das\n",
    "Hinzufügen neuer Tabellen, die Definition neuer Beziehungen und die Generierung\n",
    "neuer Daten. Implementiert mindestens zwei der folgenden User Stories oder fügt\n",
    "eure eigenen User Stories hinzu, so dass ihr mindestens eine neue Tabelle, eine\n",
    "entsprechende Beziehung und Daten hinzufügen müsst."
   ],
   "id": "55b7b75bac1b2e1f"
  },
  {
   "metadata": {},
   "cell_type": "markdown",
   "source": [
    "1. Als Admin möchte ich alle Buchungen bearbeiten können, um\n",
    "fehlende Informationen zu ergänzen (z.B. Telefonnummer).\n"
   ],
   "id": "fd017722bb3f4e20"
  },
  {
   "metadata": {
    "ExecuteTime": {
     "end_time": "2025-06-13T11:28:28.401667Z",
     "start_time": "2025-06-13T11:28:28.386468Z"
    }
   },
   "cell_type": "code",
   "source": [
    "if admin_manager.get_logged_in_admin():\n",
    "\n",
    "    # 4. Gast aktualisieren – z. B. Gast mit ID 1\n",
    "    success = admin_manager.update_guest_admin(\n",
    "        guest_id=3,\n",
    "        firstname=\"Cesco\",\n",
    "        lastname=\"Krähenbühl\",\n",
    "        email=\"yannick@gmaill.com\",\n",
    "        phone_number=\"+41791234568\"\n",
    "    )\n",
    "    # Gäste anzeigen\n",
    "    guest_da.show_all_guests()\n",
    "\n",
    "else:\n",
    "    print(\"Zugriff verweigert – bitte zuerst als Admin einloggen.\")"
   ],
   "id": "cf839156907df5da",
   "outputs": [
    {
     "name": "stdout",
     "output_type": "stream",
     "text": [
      "ID: 1, Name: Hans Müller, Email: hans.mueller@example.ch, Telefon: None\n",
      "ID: 2, Name: Yannick Krähenbühl, Email: yannick@gmail.com, Telefon: +41791234569\n",
      "ID: 3, Name: Cesco Krähenbühl, Email: yannick@gmaill.com, Telefon: +41791234568\n",
      "ID: 4, Name: Elena Keller, Email: elena.keller@example.ch, Telefon: None\n",
      "ID: 5, Name: Marc Weber, Email: marc.weber@example.ch, Telefon: None\n"
     ]
    }
   ],
   "execution_count": 6
  },
  {
   "metadata": {},
   "cell_type": "markdown",
   "source": "X. Hilfsfunktion Bookings löschen.",
   "id": "f296ee823acbac26"
  },
  {
   "metadata": {},
   "cell_type": "code",
   "outputs": [],
   "execution_count": null,
   "source": [
    "# Beispiel: Buchung mit ID 19 löschen\n",
    "booking_id_to_delete = 6\n",
    "#\n",
    "# Vorher: Liste aller Buchungen anzeigen\n",
    "print(\"Buchungen vor dem Löschen:\")\n",
    "for b in booking_manager.show_bookings():\n",
    "    print(f\"Booking-ID: {b.booking_id} | Room-ID: {b.room_id} | Hotel-ID: {b.hotel_id} | Zeitraum: {b.check_in_date} bis {b.check_out_date}\")\n",
    "\n",
    "# Buchung löschen\n",
    "erfolgreich = booking_dao.delete_booking_by_id(booking_id_to_delete)\n",
    "\n",
    "if erfolgreich:\n",
    "    print(f\"\\nBuchung mit ID {booking_id_to_delete} wurde gelöscht.\")\n",
    "else:\n",
    "    print(f\"\\nKeine Buchung mit ID {booking_id_to_delete} gefunden – nichts gelöscht.\")\n",
    "\n",
    "#Liste nochmals anzeigen\n",
    "print(\"\\nBuchungen nach dem Löschen:\")\n",
    "for b in booking_manager.show_bookings():\n",
    "    print(f\"Booking-ID: {b.booking_id} | Room-ID: {b.room_id} | Hotel-ID: {b.hotel_id} | Zeitraum: {b.check_in_date} bis {b.check_out_date}\")"
   ],
   "id": "b293b42ee4f7fa85"
  },
  {
   "metadata": {},
   "cell_type": "markdown",
   "source": "Hilfsfunktion Admin erstellen\n",
   "id": "becd3fbb01abff52"
  },
  {
   "metadata": {
    "ExecuteTime": {
     "end_time": "2025-06-14T12:47:25.184982Z",
     "start_time": "2025-06-14T12:47:25.180692Z"
    }
   },
   "cell_type": "code",
   "source": [
    "admin = Admin(\n",
    "    admin_id=1,\n",
    "    username=\"Yannick44\",\n",
    "    password=\"Password9?\",\n",
    "    email=\"cesco8@gmail.com\",\n",
    "    vorname=\"Cesco\",\n",
    "    nachname=\"Meggiolaro\"\n",
    ")\n",
    "\n",
    "admin_dao.create_admin(admin)\n",
    "print(\"Admin erfolgreich erstellt.\")"
   ],
   "id": "404af4e666636838",
   "outputs": [
    {
     "name": "stdout",
     "output_type": "stream",
     "text": [
      "Admin erfolgreich erstellt.\n"
     ]
    }
   ],
   "execution_count": 4
  },
  {
   "metadata": {},
   "cell_type": "markdown",
   "source": "Alle Admins anzeigen",
   "id": "e45b373223505c38"
  },
  {
   "metadata": {
    "ExecuteTime": {
     "end_time": "2025-06-14T13:41:46.475022Z",
     "start_time": "2025-06-14T13:41:46.468101Z"
    }
   },
   "cell_type": "code",
   "source": [
    "admins = admin_dao.get_all_admins()\n",
    "\n",
    "for admin in admins:\n",
    "    print(f\"ID: {admin.admin_id}, Username: {admin.username}, Password {admin.password} Email: {admin.email}, Vorname: {admin.vorname}, Nachname: {admin.nachname}\")"
   ],
   "id": "efb072edc9bcb279",
   "outputs": [
    {
     "name": "stdout",
     "output_type": "stream",
     "text": [
      "ID: 1, Username: Yannick44, Password Password9? Email: cesco8@gmail.com, Vorname: Cesco, Nachname: Meggiolaro\n"
     ]
    }
   ],
   "execution_count": 7
  },
  {
   "metadata": {
    "ExecuteTime": {
     "end_time": "2025-06-14T15:40:06.076357Z",
     "start_time": "2025-06-14T15:40:06.071253Z"
    }
   },
   "cell_type": "code",
   "source": [
    "if admin_manager.get_logged_in_admin():\n",
    "    #Auswertung durchführen\n",
    "    df_counts = analytics.get_booking_counts_by_room_type()\n",
    "\n",
    "    #Ergebnis visualisieren\n",
    "    df_counts.plot(kind=\"bar\", x=\"room_type\", y=\"Anzahl_Buchungen\", legend=False)\n",
    "    plt.title(\"Belegungsrate pro Zimmertyp\")\n",
    "    plt.xlabel(\"Zimmertyp\")\n",
    "    plt.ylabel(\"Anzahl Buchungen\")\n",
    "    plt.xticks(rotation=45)\n",
    "    plt.tight_layout()\n",
    "    plt.show()\n",
    "else:\n",
    "    print(\"Zugriff verweigert – bitte zuerst als Admin einloggen.\")"
   ],
   "id": "6c4686d876f7bc96",
   "outputs": [
    {
     "name": "stdout",
     "output_type": "stream",
     "text": [
      "Zugriff verweigert – bitte zuerst als Admin einloggen.\n"
     ]
    }
   ],
   "execution_count": 10
  }
 ],
 "metadata": {
  "kernelspec": {
   "display_name": "Python 3",
   "language": "python",
   "name": "python3"
  },
  "language_info": {
   "codemirror_mode": {
    "name": "ipython",
    "version": 2
   },
   "file_extension": ".py",
   "mimetype": "text/x-python",
   "name": "python",
   "nbconvert_exporter": "python",
   "pygments_lexer": "ipython2",
   "version": "2.7.6"
  }
 },
 "nbformat": 4,
 "nbformat_minor": 5
}
