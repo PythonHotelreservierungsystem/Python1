{
 "cells": [
  {
   "metadata": {},
   "cell_type": "code",
   "outputs": [],
   "execution_count": null,
   "source": "",
   "id": "1246d30948be99c7"
  },
  {
   "metadata": {
    "ExecuteTime": {
     "end_time": "2025-06-03T23:25:19.696959Z",
     "start_time": "2025-06-03T23:25:19.694015Z"
    }
   },
   "cell_type": "code",
   "source": [
    "import os\n",
    "import sys\n",
    "\n",
    "proj_root = os.path.abspath(os.getcwd())\n",
    "if proj_root not in sys.path:\n",
    "    sys.path.insert(0, proj_root)"
   ],
   "id": "923b55e9423edc3",
   "outputs": [],
   "execution_count": 79
  },
  {
   "metadata": {
    "ExecuteTime": {
     "end_time": "2025-06-03T23:25:19.711556Z",
     "start_time": "2025-06-03T23:25:19.709020Z"
    }
   },
   "cell_type": "code",
   "source": [
    "# Zelle 2: HotelManager importieren und Instanz erstellen\n",
    "\n",
    "from business_logic.hotel_manager import HotelManager\n",
    "from data_access.hotel_data_access import HotelDataAccess\n",
    "import model  # enthält deine Klassen Hotel und Address\n",
    "\n",
    "# Pfad zur SQLite-Datenbank:\n",
    "db_path = os.path.join(proj_root, \"database\", \"hotel_reservation_sample.db\")\n",
    "\n",
    "# HotelManager mit dem Datenbankpfad erzeugen\n",
    "manager = HotelManager(HotelDataAccess(db_path))"
   ],
   "id": "65e7ed9e74b2e6ba",
   "outputs": [],
   "execution_count": 80
  },
  {
   "metadata": {},
   "cell_type": "markdown",
   "source": [
    "1. Als Gast möchte ich die verfügbaren Hotels durchsuchen, damit\n",
    "ich dasjenige auswählen kann, welches meinen Wünschen\n",
    "entspricht. Wünsche sind:\n"
   ],
   "id": "bc60409963280a3c"
  },
  {
   "metadata": {},
   "cell_type": "markdown",
   "source": [
    "1.1. Ich möchte alle Hotels in einer Stadt durchsuchen,\n",
    "damit ich das Hotel nach meinem bevorzugten Standort\n",
    "(Stadt) auswählen kann.\n"
   ],
   "id": "7c4b926815a27e7a"
  },
  {
   "metadata": {
    "ExecuteTime": {
     "end_time": "2025-06-03T23:25:19.755424Z",
     "start_time": "2025-06-03T23:25:19.721740Z"
    }
   },
   "cell_type": "code",
   "source": [
    "stadt = \"Basel\"  # Oder z. B. \"Zürich\", je nach Datenbankinhalt\n",
    "\n",
    "hotels = manager.show_hotels_by_city(stadt)\n",
    "\n",
    "if not hotels:\n",
    "    print(f\"Keine Hotels in {stadt} gefunden.\")\n",
    "else:\n",
    "    print(f\"Gefundene Hotels in {stadt}:\\n\")\n",
    "    for h in hotels:\n",
    "        print(f\"- {h.name} ({h.stars} Sterne) – Adresse: {h.address.street}, {h.address.zip_code} {h.address.city}\")"
   ],
   "id": "a65026be23045a64",
   "outputs": [
    {
     "ename": "AttributeError",
     "evalue": "'HotelDataAccess' object has no attribute '_db_path'",
     "output_type": "error",
     "traceback": [
      "\u001B[31m---------------------------------------------------------------------------\u001B[39m",
      "\u001B[31mAttributeError\u001B[39m                            Traceback (most recent call last)",
      "\u001B[36mCell\u001B[39m\u001B[36m \u001B[39m\u001B[32mIn[81]\u001B[39m\u001B[32m, line 3\u001B[39m\n\u001B[32m      1\u001B[39m stadt = \u001B[33m\"\u001B[39m\u001B[33mBasel\u001B[39m\u001B[33m\"\u001B[39m  \u001B[38;5;66;03m# Oder z. B. \"Zürich\", je nach Datenbankinhalt\u001B[39;00m\n\u001B[32m----> \u001B[39m\u001B[32m3\u001B[39m hotels = \u001B[43mmanager\u001B[49m\u001B[43m.\u001B[49m\u001B[43mshow_hotels_by_city\u001B[49m\u001B[43m(\u001B[49m\u001B[43mstadt\u001B[49m\u001B[43m)\u001B[49m\n\u001B[32m      5\u001B[39m \u001B[38;5;28;01mif\u001B[39;00m \u001B[38;5;129;01mnot\u001B[39;00m hotels:\n\u001B[32m      6\u001B[39m     \u001B[38;5;28mprint\u001B[39m(\u001B[33mf\u001B[39m\u001B[33m\"\u001B[39m\u001B[33mKeine Hotels in \u001B[39m\u001B[38;5;132;01m{\u001B[39;00mstadt\u001B[38;5;132;01m}\u001B[39;00m\u001B[33m gefunden.\u001B[39m\u001B[33m\"\u001B[39m)\n",
      "\u001B[36mFile \u001B[39m\u001B[32m~\\PycharmProjects\\PythonProjektarbeit\\business_logic\\hotel_manager.py:13\u001B[39m, in \u001B[36mHotelManager.show_hotels_by_city\u001B[39m\u001B[34m(self, city)\u001B[39m\n\u001B[32m     11\u001B[39m \u001B[38;5;28;01mdef\u001B[39;00m\u001B[38;5;250m \u001B[39m\u001B[34mshow_hotels_by_city\u001B[39m(\u001B[38;5;28mself\u001B[39m, city: \u001B[38;5;28mstr\u001B[39m) -> \u001B[38;5;28mlist\u001B[39m[model.Hotel]:\n\u001B[32m     12\u001B[39m     \u001B[38;5;66;03m#Gibt alle Hotels zurück, deren zugehörige Adresse in der angegebenen Stadt liegt\u001B[39;00m\n\u001B[32m---> \u001B[39m\u001B[32m13\u001B[39m     \u001B[38;5;28;01mreturn\u001B[39;00m \u001B[38;5;28;43mself\u001B[39;49m\u001B[43m.\u001B[49m\u001B[43m__hotel_da\u001B[49m\u001B[43m.\u001B[49m\u001B[43mshow_hotels_by_city\u001B[49m\u001B[43m(\u001B[49m\u001B[43mcity\u001B[49m\u001B[43m)\u001B[49m\n",
      "\u001B[36mFile \u001B[39m\u001B[32m~\\PycharmProjects\\PythonProjektarbeit\\data_access\\hotel_data_access.py:94\u001B[39m, in \u001B[36mHotelDataAccess.show_hotels_by_city\u001B[39m\u001B[34m(self, city)\u001B[39m\n\u001B[32m     93\u001B[39m \u001B[38;5;28;01mdef\u001B[39;00m\u001B[38;5;250m \u001B[39m\u001B[34mshow_hotels_by_city\u001B[39m(\u001B[38;5;28mself\u001B[39m, city: \u001B[38;5;28mstr\u001B[39m) -> \u001B[38;5;28mlist\u001B[39m[model.Hotel]:\n\u001B[32m---> \u001B[39m\u001B[32m94\u001B[39m     conn = sqlite3.connect(\u001B[38;5;28;43mself\u001B[39;49m\u001B[43m.\u001B[49m\u001B[43m_db_path\u001B[49m)\n\u001B[32m     95\u001B[39m     conn.row_factory = sqlite3.Row\n\u001B[32m     96\u001B[39m     cur = conn.cursor()\n",
      "\u001B[31mAttributeError\u001B[39m: 'HotelDataAccess' object has no attribute '_db_path'"
     ]
    }
   ],
   "execution_count": 81
  }
 ],
 "metadata": {
  "kernelspec": {
   "display_name": "Python 3",
   "language": "python",
   "name": "python3"
  },
  "language_info": {
   "codemirror_mode": {
    "name": "ipython",
    "version": 2
   },
   "file_extension": ".py",
   "mimetype": "text/x-python",
   "name": "python",
   "nbconvert_exporter": "python",
   "pygments_lexer": "ipython2",
   "version": "2.7.6"
  }
 },
 "nbformat": 4,
 "nbformat_minor": 5
}
