{
 "cells": [
  {
   "metadata": {},
   "cell_type": "code",
   "outputs": [],
   "execution_count": null,
   "source": "",
   "id": "1246d30948be99c7"
  },
  {
   "metadata": {
    "ExecuteTime": {
     "end_time": "2025-06-03T23:25:19.696959Z",
     "start_time": "2025-06-03T23:25:19.694015Z"
    }
   },
   "cell_type": "code",
   "source": [
    "import os\n",
    "import sys\n",
    "\n",
    "proj_root = os.path.abspath(os.getcwd())\n",
    "if proj_root not in sys.path:\n",
    "    sys.path.insert(0, proj_root)"
   ],
   "id": "923b55e9423edc3",
   "outputs": [],
   "execution_count": 79
  },
  {
   "metadata": {
    "ExecuteTime": {
     "end_time": "2025-06-03T23:25:19.711556Z",
     "start_time": "2025-06-03T23:25:19.709020Z"
    }
   },
   "cell_type": "code",
   "source": [
    "# Zelle 2: HotelManager importieren und Instanz erstellen\n",
    "\n",
    "from business_logic.hotel_manager import HotelManager\n",
    "from data_access.hotel_data_access import HotelDataAccess\n",
    "import model  # enthält deine Klassen Hotel und Address\n",
    "\n",
    "# Pfad zur SQLite-Datenbank:\n",
    "db_path = os.path.join(proj_root, \"database\", \"hotel_reservation_sample.db\")\n",
    "\n",
    "# HotelManager mit dem Datenbankpfad erzeugen\n",
    "manager = HotelManager(HotelDataAccess(db_path))"
   ],
   "id": "65e7ed9e74b2e6ba",
   "outputs": [],
   "execution_count": 80
  },
  {
   "metadata": {},
   "cell_type": "markdown",
   "source": [
    "1. Als Gast möchte ich die verfügbaren Hotels durchsuchen, damit\n",
    "ich dasjenige auswählen kann, welches meinen Wünschen\n",
    "entspricht. Wünsche sind:\n"
   ],
   "id": "bc60409963280a3c"
  },
  {
   "metadata": {},
   "cell_type": "markdown",
   "source": [
    "1.1. Ich möchte alle Hotels in einer Stadt durchsuchen,\n",
    "damit ich das Hotel nach meinem bevorzugten Standort\n",
    "(Stadt) auswählen kann.\n"
   ],
   "id": "7c4b926815a27e7a"
  },
  {
   "metadata": {
    "jupyter": {
     "is_executing": true
    }
   },
   "cell_type": "code",
   "source": [
    "stadt = \"Basel\"  # Oder z. B. \"Zürich\", je nach Datenbankinhalt\n",
    "\n",
    "hotels = manager.show_hotels_by_city(stadt)\n",
    "\n",
    "if not hotels:\n",
    "    print(f\"Keine Hotels in {stadt} gefunden.\")\n",
    "else:\n",
    "    print(f\"Gefundene Hotels in {stadt}:\\n\")\n",
    "    for h in hotels:\n",
    "        print(f\"- {h.name} ({h.stars} Sterne) – Adresse: {h.address.street}, {h.address.zip_code} {h.address.city}\")"
   ],
   "id": "a65026be23045a64",
   "outputs": [],
   "execution_count": null
  }
 ],
 "metadata": {
  "kernelspec": {
   "display_name": "Python 3",
   "language": "python",
   "name": "python3"
  },
  "language_info": {
   "codemirror_mode": {
    "name": "ipython",
    "version": 2
   },
   "file_extension": ".py",
   "mimetype": "text/x-python",
   "name": "python",
   "nbconvert_exporter": "python",
   "pygments_lexer": "ipython2",
   "version": "2.7.6"
  }
 },
 "nbformat": 4,
 "nbformat_minor": 5
}
