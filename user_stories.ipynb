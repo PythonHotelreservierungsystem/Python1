{
 "cells": [
  {
   "metadata": {
    "ExecuteTime": {
     "end_time": "2025-06-09T13:44:46.398666Z",
     "start_time": "2025-06-09T13:44:46.394025Z"
    }
   },
   "cell_type": "code",
   "source": [
    "import os\n",
    "import sys\n",
    "\n",
    "proj_root = os.path.abspath(os.getcwd())\n",
    "if proj_root not in sys.path:\n",
    "    sys.path.insert(0, proj_root)"
   ],
   "id": "ff5081aa0bfc3961",
   "outputs": [],
   "execution_count": 1
  },
  {
   "metadata": {
    "ExecuteTime": {
     "end_time": "2025-06-09T13:44:47.405071Z",
     "start_time": "2025-06-09T13:44:47.378909Z"
    }
   },
   "cell_type": "code",
   "source": [
    "# Zelle 2: HotelManager importieren und Instanz erstellen\n",
    "\n",
    "from business_logic.hotel_manager import HotelManager\n",
    "from data_access.hotel_data_access import HotelDataAccess\n",
    "from data_access.room_data_access import RoomDataAccess\n",
    "from data_access.booking_data_access import BookingDataAccess\n",
    "from business_logic.room_manager import RoomManager\n",
    "from data_access.facility_data_access import FacilityDataAccess\n",
    "from data_access.address_data_access import AddressDataAccess\n",
    "from business_logic.booking_manager import BookingManager\n",
    "from business_logic.invoice_manager import InvoiceManager\n",
    "from data_access.invoice_data_access import InvoiceDataAccess\n",
    "\n",
    "import model\n",
    "from model import hotel\n",
    "\n",
    "# Pfad zur SQLite-Datenbank\n",
    "db_path = os.path.join(proj_root, \"database\", \"hotel_reservation_sample.db\")\n",
    "\n",
    "# DataAccess-Objekte erzeugen\n",
    "hotel_dao = HotelDataAccess(db_path)\n",
    "room_dao = RoomDataAccess(db_path)\n",
    "booking_dao = BookingDataAccess(db_path)\n",
    "facility_dao = FacilityDataAccess(db_path)\n",
    "address_da = AddressDataAccess(db_path)\n",
    "invoice_dao = InvoiceDataAccess(db_path)\n",
    "\n",
    "# HotelManager mit dem Datenbankpfad erzeugen\n",
    "manager = HotelManager(hotel_data_access=hotel_dao, room_data_access=room_dao)\n",
    "room_manager = RoomManager(room_data_access=room_dao, facility_data_access=facility_dao)\n",
    "booking_manager = BookingManager(booking_da=booking_dao, room_manager=room_manager)\n",
    "invoice_manager = InvoiceManager(invoice_data_access=invoice_dao, booking_data_access=booking_dao)\n"
   ],
   "id": "8a0044eaf1c9fff3",
   "outputs": [],
   "execution_count": 2
  },
  {
   "metadata": {},
   "cell_type": "markdown",
   "source": [
    "1. Als Gast möchte ich die verfügbaren Hotels durchsuchen, damit\n",
    "ich dasjenige auswählen kann, welches meinen Wünschen\n",
    "entspricht. Wünsche sind:\n"
   ],
   "id": "be1376017e845974"
  },
  {
   "metadata": {},
   "cell_type": "markdown",
   "source": [
    "1.1. Ich möchte alle Hotels in einer Stadt durchsuchen,\n",
    "damit ich das Hotel nach meinem bevorzugten Standort\n",
    "(Stadt) auswählen kann.\n"
   ],
   "id": "a39d09b94dbbbdbd"
  },
  {
   "metadata": {
    "ExecuteTime": {
     "end_time": "2025-06-09T12:32:46.245897Z",
     "start_time": "2025-06-09T12:32:46.241385Z"
    }
   },
   "cell_type": "code",
   "source": [
    "# DAO auf die DB zeigen lassen\n",
    "dao = HotelDataAccess(\"database/hotel_reservation_sample.db\")\n",
    "manager = HotelManager(dao)\n",
    "\n",
    "# nach Stadt filtern im String\n",
    "hotels_in_WunschStadt = manager.show_hotels_by_city(\"Olten\")\n",
    "\n",
    "if not hotels_in_WunschStadt:\n",
    "    print(\"Keine Hotels in dieser Stadt gefunden.\")\n",
    "else:\n",
    "    for h in hotels_in_WunschStadt:\n",
    "        print(f\"{h.name} – {h.address.street}, {h.address.zip_code}, {h.address.city}\")"
   ],
   "id": "23da2000935ddfa",
   "outputs": [
    {
     "name": "stdout",
     "output_type": "stream",
     "text": [
      "Keine Hotels in dieser Stadt gefunden.\n"
     ]
    }
   ],
   "execution_count": 3
  },
  {
   "metadata": {},
   "cell_type": "markdown",
   "source": [
    "1.2. Ich möchte alle Hotels in einer Stadt nach der\n",
    "Anzahl der Sterne (z.B. mindestens 4 Sterne) durchsuchen."
   ],
   "id": "199d008f1d9615e6"
  },
  {
   "metadata": {
    "ExecuteTime": {
     "end_time": "2025-06-09T12:32:48.544590Z",
     "start_time": "2025-06-09T12:32:48.540833Z"
    }
   },
   "cell_type": "code",
   "source": [
    "dao = HotelDataAccess(\"database/hotel_reservation_sample.db\")\n",
    "manager = HotelManager(dao)\n",
    "\n",
    "# Stadt und min_stars angeben\n",
    "city = \"Basel\"\n",
    "min_stars = 5\n",
    "\n",
    "# 3) Methode aufrufen\n",
    "result = manager.show_hotels_by_city_and_min_stars(city, min_stars)\n",
    "\n",
    "# 4) Ausgabe, falls Treffer vorhanden\n",
    "if result:\n",
    "    print(f\"Gefundene Hotels in '{city}' mit mindestens {min_stars} Sternen:\")\n",
    "    for h in result:\n",
    "        print(f\"  • {h.name} ({h.stars} Sterne) – {h.address.street}, {h.address.zip_code}\")"
   ],
   "id": "a41d0b04b99670d7",
   "outputs": [
    {
     "name": "stdout",
     "output_type": "stream",
     "text": [
      "Gefundene Hotels in 'Basel' mit mindestens 5 Sternen:\n",
      "  • Les Trois Rois (5 Sterne) – Freiestrasse 10, 4051\n"
     ]
    }
   ],
   "execution_count": 4
  },
  {
   "metadata": {},
   "cell_type": "markdown",
   "source": [
    "1.3. Ich möchte alle Hotels in einer Stadt durchsuchen,\n",
    "die Zimmer haben, die meiner Gästezahl entsprechen (nur 1\n",
    "Zimmer pro Buchung)"
   ],
   "id": "799e8d18dd4d0c44"
  },
  {
   "metadata": {
    "ExecuteTime": {
     "end_time": "2025-06-09T12:32:51.048508Z",
     "start_time": "2025-06-09T12:32:51.042299Z"
    }
   },
   "cell_type": "code",
   "source": [
    "# 1) DAO-Objekte erstellen\n",
    "dao = HotelDataAccess(\"database/hotel_reservation_sample.db\")\n",
    "room_dao = RoomDataAccess(\"database/hotel_reservation_sample.db\")\n",
    "\n",
    "# 2) HotelManager mit beiden DAOs initialisieren\n",
    "manager = HotelManager(dao, room_dao)\n",
    "\n",
    "# 3) Stadt und Gästeanzahl angeben\n",
    "city = \"zürich\"\n",
    "guest_count = 1\n",
    "\n",
    "# 4) Methode aufrufen\n",
    "result = manager.find_hotels_by_city_and_guests(city, guest_count)\n",
    "\n",
    "# 5) Ausgabe, falls Treffer vorhanden\n",
    "if result:\n",
    "    print(f\"Gefundene Hotels in '{city}' mit Zimmern für mindestens {guest_count} Gäste:\")\n",
    "    for h in result:\n",
    "        print(f\"  • {h.name} – {h.address.street}, {h.address.zip_code}\")\n",
    "else:\n",
    "    print(f\"Keine Hotels in '{city}' mit Zimmern für mindestens {guest_count} Gäste gefunden.\")"
   ],
   "id": "7519f371d40530dd",
   "outputs": [
    {
     "name": "stdout",
     "output_type": "stream",
     "text": [
      "Gefundene Hotels in 'zürich' mit Zimmern für mindestens 1 Gäste:\n",
      "  • Hotel Baur au Lac – Bahnhofstrasse 1, 8001\n"
     ]
    }
   ],
   "execution_count": 5
  },
  {
   "metadata": {},
   "cell_type": "markdown",
   "source": [
    "1.4. Ich möchte alle Hotels in einer Stadt durchsuchen,\n",
    "die während meines Aufenthaltes (\"von\" (check_in_date)\n",
    "und \"bis\" (check_out_date)) Zimmer zur Verfügung haben,\n",
    "damit ich nur relevante Ergebnisse sehe."
   ],
   "id": "6a39adb784b66355"
  },
  {
   "metadata": {
    "ExecuteTime": {
     "end_time": "2025-06-09T12:32:54.367646Z",
     "start_time": "2025-06-09T12:32:54.361146Z"
    }
   },
   "cell_type": "code",
   "source": [
    "from datetime import date\n",
    "\n",
    "# Abfrageparameter definieren\n",
    "city = \"Genève\"                 ## Beispiel Buchung in DB in Genève ist von 2025, 8, 20 bis  2025, 8, 22\n",
    "check_in = date(2025, 8, 1)\n",
    "check_out = date(2025, 8, 17)\n",
    "\n",
    "# Verfügbare Hotels abrufen\n",
    "verfuegbare_hotels = manager.find_available_hotels_by_city_and_dates(city, check_in, check_out, booking_dao)\n",
    "\n",
    "# Ausgabe der Ergebnisse\n",
    "if verfuegbare_hotels:\n",
    "    print(f\"Verfügbare Hotels in '{city}' vom {check_in} bis {check_out}:\")\n",
    "    for h in verfuegbare_hotels:\n",
    "        print(f\"{h.name} – {h.address.street}, {h.address.zip_code}\")\n",
    "else:\n",
    "    print(f\"Keine verfügbaren Hotels in '{city}' vom {check_in} bis {check_out}.\")"
   ],
   "id": "1c736d7962f94227",
   "outputs": [
    {
     "name": "stdout",
     "output_type": "stream",
     "text": [
      "Verfügbare Hotels in 'Genève' vom 2025-08-01 bis 2025-08-17:\n",
      "Four Seasons Hôtel des Bergues – Rue du Rhône 42, 1204\n"
     ]
    }
   ],
   "execution_count": 6
  },
  {
   "metadata": {},
   "cell_type": "markdown",
   "source": [
    "1.5. Ich möchte Wünsche kombinieren können, z.B. die\n",
    "verfügbaren Zimmer zusammen mit meiner Gästezahl und der\n",
    "mindest Anzahl Sterne.\n"
   ],
   "id": "9325a05c5b4f1c75"
  },
  {
   "metadata": {
    "ExecuteTime": {
     "end_time": "2025-06-09T12:32:57.052373Z",
     "start_time": "2025-06-09T12:32:57.045989Z"
    }
   },
   "cell_type": "code",
   "source": [
    "from datetime import datetime\n",
    "\n",
    "# Parameter definieren --> Hotel in Genf hat 5 Sterne, Room für max 4 Leute uund booking von 2025-8-20 - 2025-8-22\n",
    "stadt = \"Genève\"\n",
    "check_in = datetime(2025, 8, 23)\n",
    "check_out = datetime(2025, 8, 24)\n",
    "min_sterne = 4\n",
    "gaesteanzahl = 2\n",
    "\n",
    "# Methode aufrufen\n",
    "verfuegbare_hotels = manager.find_hotels_by_criteria(\n",
    "    city=stadt,\n",
    "    check_in_date=check_in,\n",
    "    check_out_date=check_out,\n",
    "    min_stars=min_sterne,\n",
    "    guest_count=gaesteanzahl,\n",
    "    booking_da=booking_dao\n",
    ")\n",
    "\n",
    "# Ausgabe\n",
    "if verfuegbare_hotels:\n",
    "    print(f\"Verfügbare Hotels in '{stadt}' vom {check_in.date()} bis {check_out.date()} (mind. {min_sterne} Sterne, für {gaesteanzahl} Gäste):\")\n",
    "    for hotel in verfuegbare_hotels:\n",
    "        print(f\"  • {hotel.name} – {hotel.address.street}, {hotel.address.zip_code} {hotel.address.city}\")\n",
    "else:\n",
    "    print(f\"Keine passenden Hotels in '{stadt}' für die angegebenen Kriterien gefunden.\")"
   ],
   "id": "4d88b87bb0f860a3",
   "outputs": [
    {
     "name": "stdout",
     "output_type": "stream",
     "text": [
      "Verfügbare Hotels in 'Genève' vom 2025-08-23 bis 2025-08-24 (mind. 4 Sterne, für 2 Gäste):\n",
      "  • Four Seasons Hôtel des Bergues – Rue du Rhône 42, 1204 Genève\n"
     ]
    }
   ],
   "execution_count": 7
  },
  {
   "metadata": {},
   "cell_type": "markdown",
   "source": [
    "1.6. Ich möchte die folgenden Informationen pro Hotel\n",
    "sehen: Name, Adresse, Anzahl der Sterne."
   ],
   "id": "4a41c1c4a9cf172d"
  },
  {
   "metadata": {
    "ExecuteTime": {
     "end_time": "2025-06-09T12:32:59.933423Z",
     "start_time": "2025-06-09T12:32:59.928926Z"
    }
   },
   "cell_type": "code",
   "source": [
    "infos = manager.show_all_hotel_infos()\n",
    "\n",
    "print(\"Verfügbare Hotels:\")\n",
    "for eintrag in infos:\n",
    "    print(\" •\", eintrag)\n"
   ],
   "id": "4b98ad599af35f8a",
   "outputs": [
    {
     "name": "stdout",
     "output_type": "stream",
     "text": [
      "Verfügbare Hotels:\n",
      " • Hotel Baur au Lac – Bahnhofstrasse 1, 8001 Zürich (5 Sterne)\n",
      " • Four Seasons Hôtel des Bergues – Rue du Rhône 42, 1204 Genève (5 Sterne)\n",
      " • Grand Hotel National – Gassstrassse 7, 4657 Dulliken (5 Sterne)\n",
      " • Bellevue Palace – Marktgasse 59, 3011 Bern (5 Sterne)\n",
      " • Les Trois Rois – Freiestrasse 10, 4051 Basel (5 Sterne)\n",
      " • bronzehand – Gassstrassse 7, 4657 Dulliken (5 Sterne)\n",
      " • Hotel Bernblick – Lindenweg 8, 3012 Däniken (3 Sterne)\n"
     ]
    }
   ],
   "execution_count": 8
  },
  {
   "metadata": {},
   "cell_type": "markdown",
   "source": [
    "2. Als Gast möchte ich Details zu verschiedenen Zimmertypen\n",
    "(Single, Double, Suite usw.), die in einem Hotel verfügbar\n",
    "sind, sehen, einschliesslich der maximalen Anzahl von Gästen\n",
    "für dieses Zimmer, Beschreibung, Preis und Ausstattung, um eine\n",
    "fundierte Entscheidung zu treffen."
   ],
   "id": "7601fc75fa37a2cf"
  },
  {
   "metadata": {},
   "cell_type": "markdown",
   "source": [
    "2.1. Ich möchte die folgenden Informationen pro Zimmer\n",
    "sehen: Zimmertyp, max. Anzahl der Gäste, Beschreibung,\n",
    "Ausstattung, Preis pro Nacht und Gesamtpreis.\n"
   ],
   "id": "5c21c166da9e684d"
  },
  {
   "metadata": {
    "ExecuteTime": {
     "end_time": "2025-06-09T12:33:04.617948Z",
     "start_time": "2025-06-09T12:33:04.610641Z"
    }
   },
   "cell_type": "code",
   "source": [
    "from datetime import date\n",
    "\n",
    "# Optional: Check-in und Check-out setzen (für Gesamtpreisberechnung)\n",
    "check_in = date(2025, 7, 11)\n",
    "check_out = date(2025, 7, 15)\n",
    "\n",
    "# Zimmerdetails abrufen\n",
    "room_infos = room_manager.show_room_details()\n",
    "\n",
    "# Ausgabe\n",
    "for room in room_infos:\n",
    "    ausstattung = \", \".join([f.facility_name for f in room.facilities])\n",
    "\n",
    "    print(f\"Zimmer {room.room_number} – {room.room_type.description}\")\n",
    "    print(f\"  Max. Gäste     : {room.room_type.max_guests}\")\n",
    "    print(f\"  Ausstattung    : {ausstattung if ausstattung else 'Keine'}\")\n",
    "\n",
    "    # Preis pro Nacht\n",
    "    print(f\"  Preis pro Nacht: {room.price_per_night:.2f} CHF\")\n",
    "\n",
    "    # Optional: Gesamtpreis berechnen, wenn Check-in/Check-out gesetzt\n",
    "    if check_in and check_out and check_out > check_in:\n",
    "        nächte = (check_out - check_in).days\n",
    "        gesamtpreis = room.price_per_night * nächte\n",
    "        print(f\"  Gesamtpreis    : {gesamtpreis:.2f} CHF für {nächte} Nächte\")\n",
    "\n",
    "    print(\"-\" * 60)"
   ],
   "id": "1a02bf96293e0d83",
   "outputs": [
    {
     "name": "stdout",
     "output_type": "stream",
     "text": [
      "Zimmer 101 – Single\n",
      "  Max. Gäste     : 1\n",
      "  Ausstattung    : WiFi, TV\n",
      "  Preis pro Nacht: 250.00 CHF\n",
      "  Gesamtpreis    : 1000.00 CHF für 4 Nächte\n",
      "------------------------------------------------------------\n",
      "Zimmer 102 – Double\n",
      "  Max. Gäste     : 2\n",
      "  Ausstattung    : WiFi\n",
      "  Preis pro Nacht: 400.00 CHF\n",
      "  Gesamtpreis    : 1600.00 CHF für 4 Nächte\n",
      "------------------------------------------------------------\n",
      "Zimmer 201 – Suite\n",
      "  Max. Gäste     : 4\n",
      "  Ausstattung    : Air Conditioning\n",
      "  Preis pro Nacht: 650.00 CHF\n",
      "  Gesamtpreis    : 2600.00 CHF für 4 Nächte\n",
      "------------------------------------------------------------\n",
      "Zimmer 301 – Family Room\n",
      "  Max. Gäste     : 5\n",
      "  Ausstattung    : Mini Bar\n",
      "  Preis pro Nacht: 900.00 CHF\n",
      "  Gesamtpreis    : 3600.00 CHF für 4 Nächte\n",
      "------------------------------------------------------------\n",
      "Zimmer 401 – Penthouse\n",
      "  Max. Gäste     : 6\n",
      "  Ausstattung    : Keine\n",
      "  Preis pro Nacht: 1500.00 CHF\n",
      "  Gesamtpreis    : 6000.00 CHF für 4 Nächte\n",
      "------------------------------------------------------------\n"
     ]
    }
   ],
   "execution_count": 9
  },
  {
   "metadata": {},
   "cell_type": "markdown",
   "source": [
    "2.2. Ich möchte nur die verfügbaren Zimmer sehen, sofern\n",
    "ich meinen Aufenthalt (von – bis) spezifiziert habe.\n"
   ],
   "id": "65295520969e1203"
  },
  {
   "metadata": {
    "ExecuteTime": {
     "end_time": "2025-06-09T12:33:09.071921Z",
     "start_time": "2025-06-09T12:33:09.061074Z"
    }
   },
   "cell_type": "code",
   "source": [
    "from datetime import date\n",
    "\n",
    "check_in = date(2025, 8, 20)\n",
    "check_out = date(2025, 8, 22)\n",
    "\n",
    "verfuegbare_zimmer = room_manager.find_available_rooms_by_dates(\n",
    "    check_in_date=check_in,\n",
    "    check_out_date=check_out,\n",
    "    booking_dao=booking_dao\n",
    ")\n",
    "\n",
    "for room in verfuegbare_zimmer:\n",
    "    ausstattung = \", \".join([f.facility_name for f in room.facilities])\n",
    "    print(f\"Zimmer {room.room_number} – {room.room_type.description}\")\n",
    "    print(f\"  Hotel: {room.hotel.name}, Adresse: {room.hotel.address.street} {room.hotel.address.city}\")\n",
    "    print(f\"  Max. Gäste     : {room.room_type.max_guests}\")\n",
    "    print(f\"  Ausstattung    : {ausstattung if ausstattung else 'Keine'}\")\n",
    "    print(f\"  Preis pro Nacht: {room.price_per_night:.2f} CHF\")\n",
    "\n",
    "    # Optional: Gesamtpreis berechnen\n",
    "    if check_in and check_out and check_out > check_in:\n",
    "        nächte = (check_out - check_in).days\n",
    "        gesamtpreis = room.price_per_night * nächte\n",
    "        print(f\"  Gesamtpreis    : {gesamtpreis:.2f} CHF für {nächte} Nächte\")\n",
    "\n",
    "    print(\"-\" * 60)"
   ],
   "id": "f6c8bc37f65ad46e",
   "outputs": [
    {
     "name": "stdout",
     "output_type": "stream",
     "text": [
      "Zimmer 101 – Single\n",
      "  Hotel: Hotel Baur au Lac, Adresse: Bahnhofstrasse 1 Zürich\n",
      "  Max. Gäste     : 1\n",
      "  Ausstattung    : WiFi, TV\n",
      "  Preis pro Nacht: 250.00 CHF\n",
      "  Gesamtpreis    : 500.00 CHF für 2 Nächte\n",
      "------------------------------------------------------------\n",
      "Zimmer 102 – Double\n",
      "  Hotel: Hotel Baur au Lac, Adresse: Bahnhofstrasse 1 Zürich\n",
      "  Max. Gäste     : 2\n",
      "  Ausstattung    : WiFi\n",
      "  Preis pro Nacht: 400.00 CHF\n",
      "  Gesamtpreis    : 800.00 CHF für 2 Nächte\n",
      "------------------------------------------------------------\n",
      "Zimmer 301 – Family Room\n",
      "  Hotel: Grand Hotel National, Adresse: Gassstrassse 7 Dulliken\n",
      "  Max. Gäste     : 5\n",
      "  Ausstattung    : Mini Bar\n",
      "  Preis pro Nacht: 900.00 CHF\n",
      "  Gesamtpreis    : 1800.00 CHF für 2 Nächte\n",
      "------------------------------------------------------------\n",
      "Zimmer 401 – Penthouse\n",
      "  Hotel: Bellevue Palace, Adresse: Marktgasse 59 Bern\n",
      "  Max. Gäste     : 6\n",
      "  Ausstattung    : Keine\n",
      "  Preis pro Nacht: 1500.00 CHF\n",
      "  Gesamtpreis    : 3000.00 CHF für 2 Nächte\n",
      "------------------------------------------------------------\n"
     ]
    }
   ],
   "execution_count": 10
  },
  {
   "metadata": {},
   "cell_type": "markdown",
   "source": [
    "3. Als Admin des Buchungssystems möchte ich die Möglichkeit haben,\n",
    "Hotelinformationen zu pflegen, um aktuelle Informationen im\n",
    "System zu haben."
   ],
   "id": "91694e19e35d31fe"
  },
  {
   "metadata": {},
   "cell_type": "markdown",
   "source": "3.1. Ich möchte neue Hotels zum System hinzufügen\n",
   "id": "a0cc8842427ee2e1"
  },
  {
   "metadata": {},
   "cell_type": "code",
   "outputs": [],
   "execution_count": null,
   "source": [
    "from data_access.address_data_access import AddressDataAccess\n",
    "from model import Address\n",
    "\n",
    "# AddressDataAccess initialisieren\n",
    "address_dao = AddressDataAccess(db_path)\n",
    "\n",
    "# Adresse anlegen\n",
    "adresse = Address(\n",
    "    address_id=0,  # Platzhalter, wird von DB ersetzt\n",
    "    street=\"Lindenweg 8\",\n",
    "    city=\"Däniken\",\n",
    "    zip_code=3012\n",
    ")\n",
    "# Hotel erstellen\n",
    "try:\n",
    "    neues_hotel = manager.create_new_hotel(\n",
    "        name=\"Hotel Bernblick\",\n",
    "        stars=3,\n",
    "        address=adresse,\n",
    "        address_da=address_dao\n",
    "    )\n",
    "    print(\"Hotel erfolgreich erstellt:\")\n",
    "    print(f\"Hotel-ID: {neues_hotel.hotel_id}\")\n",
    "    print(f\"Address-ID: {neues_hotel.address.address_id}\")\n",
    "    print(f\"{neues_hotel.name} – {neues_hotel.address.street}, {neues_hotel.address.zip_code} {neues_hotel.address.city}\")\n",
    "except Exception as e:\n",
    "    print(\"Fehler beim Erstellen des Hotels:\", e)"
   ],
   "id": "5b510e2c76562fee"
  },
  {
   "metadata": {},
   "cell_type": "markdown",
   "source": "3.2. Ich möchte Hotels aus dem System entfernen",
   "id": "8242577601ff328c"
  },
  {
   "metadata": {},
   "cell_type": "code",
   "outputs": [],
   "execution_count": null,
   "source": [
    "# Beispiel: Hotel mit ID 15 löschen\n",
    "hotel_id_to_delete = 28\n",
    "\n",
    "# Vorher: Liste aller Hotels anzeigen\n",
    "print(\"Hotels vor dem Löschen:\")\n",
    "for h in manager.show_all_hotels_basic():\n",
    "    print(f\"Hotel-ID: {h.hotel_id} | Name: {h.name}\")\n",
    "\n",
    "# Hotel löschen\n",
    "erfolgreich = manager.delete_hotel(hotel_id_to_delete)\n",
    "\n",
    "# Rückmeldung\n",
    "if erfolgreich:\n",
    "    print(f\"\\nHotel mit ID {hotel_id_to_delete} wurde gelöscht.\")\n",
    "else:\n",
    "    print(f\"\\nKein Hotel mit ID {hotel_id_to_delete} gefunden – nichts gelöscht.\")\n",
    "\n",
    "# Danach: Liste nochmals anzeigen\n",
    "print(\"\\nHotels nach dem Löschen:\")\n",
    "for h in manager.show_all_hotels_basic():\n",
    "    print(f\"Hotel-ID: {h.hotel_id} | Name: {h.name}\")"
   ],
   "id": "efbec2fb76ab81b8"
  },
  {
   "metadata": {},
   "cell_type": "markdown",
   "source": [
    "3.3. Ich möchte die Informationen bestimmter Hotels\n",
    "aktualisieren, z. B. den Namen, die Sterne usw.\n"
   ],
   "id": "3b19e0b3e6e2a3d0"
  },
  {
   "metadata": {},
   "cell_type": "code",
   "outputs": [],
   "execution_count": null,
   "source": [
    "# Hotel-ID auswählen zum anpassen\n",
    "hotel_id = 16\n",
    "\n",
    "# Vorherige Daten anzeigen\n",
    "original_hotel = next((h for h in hotel_dao.read_all_hotel() if h.hotel_id == hotel_id), None)\n",
    "\n",
    "if not original_hotel:\n",
    "    print(f\"Hotel mit ID {hotel_id} wurde nicht gefunden.\")\n",
    "else:\n",
    "    print(\"Vorher:\")\n",
    "    print(f\"Name: {original_hotel.name}, Sterne: {original_hotel.stars}\")\n",
    "    print(f\"Adresse: {original_hotel.address.street}, {original_hotel.address.zip_code} {original_hotel.address.city}\")\n",
    "\n",
    "    # Neue Werte definieren\n",
    "    neuer_name = \"bronzehand\"\n",
    "    neue_sterne = 5\n",
    "    neue_adresse = model.Address(\n",
    "        address_id=original_hotel.address.address_id,\n",
    "        street=\"Gassstrassse 7\",\n",
    "        city=\"Dulliken\",\n",
    "        zip_code=4657\n",
    "    )\n",
    "    # Update durchführen\n",
    "    ok = manager.update_hotel_and_address(\n",
    "        hotel_id=hotel_id,\n",
    "        name=neuer_name,\n",
    "        stars=neue_sterne,\n",
    "        address=neue_adresse,\n",
    "        address_da=address_da\n",
    "    )\n",
    "    # Ergebnis anzeigen\n",
    "    if ok:\n",
    "        updated = next((h for h in hotel_dao.read_all_hotel() if h.hotel_id == hotel_id), None)\n",
    "        print(\"\\nNachher:\")\n",
    "        print(f\"Name: {updated.name}, Sterne: {updated.stars}\")\n",
    "        print(f\"Adresse: {updated.address.street}, {updated.address.zip_code} {updated.address.city}\")\n",
    "    else:\n",
    "        print(\"Update fehlgeschlagen.\")"
   ],
   "id": "1c0cbf24303740e7"
  },
  {
   "metadata": {},
   "cell_type": "markdown",
   "source": [
    "4. Als Gast möchte ich ein Zimmer in einem bestimmten Hotel\n",
    "buchen, um meinen Urlaub zu planen.\n"
   ],
   "id": "5e7b0ee51e69d616"
  },
  {
   "metadata": {},
   "cell_type": "code",
   "outputs": [],
   "execution_count": null,
   "source": [
    "from datetime import date\n",
    "from model import Guest, Room, RoomType, Hotel, Address\n",
    "\n",
    "# Dummy-Daten (IDs müssen existieren!)\n",
    "adresse = Address(address_id=1, street=\"Teststrasse 11\", city=\"Olten\", zip_code=4600)\n",
    "hotel = Hotel(hotel_id=1, name=\"Hotel Test\", stars=3, address=adresse)\n",
    "room_type = RoomType(room_type_id=1, description=\"Standard\", max_guests=2)\n",
    "zimmer = Room(room_id=1, room_number=\"101\", price_per_night=120.0, room_type=room_type, hotel=hotel)\n",
    "gast = Guest(guest_id=1, firstname=\"Max\", lastname=\"Muster\", email=\"max@muster.ch\")\n",
    "\n",
    "check_in = date(2025, 12, 17)\n",
    "check_out = date(2025, 12, 19)\n",
    "\n",
    "# 1. Buchungen vor dem Einfügen anzeigen\n",
    "print(\"Buchungen vor dem Einfügen:\")\n",
    "for b in booking_manager.show_bookings():\n",
    "    print(f\"Booking-ID: {b.booking_id}, Room-ID: {b.room_id}, Hotel-ID: {b.hotel_id}, Check-in: {b.check_in_date}, Check-out: {b.check_out_date}\")\n",
    "\n",
    "# 2. Verfügbarkeit prüfen und ggf. buchen\n",
    "verfuegbare_zimmer = room_manager.find_available_rooms_by_dates(check_in, check_out, booking_dao)\n",
    "neue_buchung = None\n",
    "\n",
    "if any(r.room_id == zimmer.room_id for r in verfuegbare_zimmer):\n",
    "    neue_buchung = booking_dao.create_booking(\n",
    "        guest_id=gast,\n",
    "        room_id=zimmer,\n",
    "        check_in_date=check_in,\n",
    "        check_out_date=check_out,\n",
    "        is_cancelled=False,\n",
    "        total_amount=zimmer.price_per_night * (check_out - check_in).days\n",
    "    )\n",
    "    print(\"\\nNeue Buchung erfolgreich erstellt:\")\n",
    "    print(f\"Booking-ID: {neue_buchung.booking_id}, Room-ID: {neue_buchung.room_id}, Zeitraum: {check_in} bis {check_out}\")\n",
    "else:\n",
    "    print(\"\\nZimmer ist im gewünschten Zeitraum nicht verfügbar.\")\n",
    "\n",
    "# 3. Buchungen nach dem Einfügen anzeigen\n",
    "print(\"\\nBuchungen nach dem Einfügen:\")\n",
    "for b in booking_manager.show_bookings():\n",
    "    print(f\"Booking-ID: {b.booking_id}, Room-ID: {b.room_id}, Hotel-ID: {b.hotel_id}, Check-in: {b.check_in_date}, Check-out: {b.check_out_date}\")"
   ],
   "id": "89584935943f14ca"
  },
  {
   "metadata": {},
   "cell_type": "markdown",
   "source": [
    "5. Als Gast möchte ich nach meinem Aufenthalt eine Rechnung\n",
    "erhalten, damit ich einen Zahlungsnachweis habe.\n",
    "Hint: Fügt einen Eintrag in der «Invoice» Tabelle hinzu.\n"
   ],
   "id": "6865cc690d44be0e"
  },
  {
   "metadata": {},
   "cell_type": "code",
   "outputs": [],
   "execution_count": null,
   "source": [
    "try:\n",
    "    booking_id = int(input(\"Booking-ID eingeben: \"))\n",
    "    invoice = invoice_manager.create_invoice_for_existing_booking(booking_id)\n",
    "\n",
    "    print(\"Rechnung erfolgreich erstellt:\")\n",
    "    print(f\"Rechnungs-ID: {invoice.invoice_id}\")\n",
    "    print(f\"Zu Buchung:   {invoice.booking}\")\n",
    "    print(f\"Betrag:       {invoice.total_amount} CHF\")\n",
    "    print(f\"Rechnungsdatum: {invoice.issue_date}\")\n",
    "except Exception as e:\n",
    "    print(f\"Fehler beim Erstellen der Rechnung: {e}\")"
   ],
   "id": "ad17f163fb556b1a"
  },
  {
   "metadata": {},
   "cell_type": "markdown",
   "source": [
    "6.Als Gast möchte ich meine Buchung stornieren, damit ich nicht\n",
    "belastet werde, wenn ich das Zimmer nicht mehr benötige.\n",
    "Hint: Sorgt für die entsprechende Invoice"
   ],
   "id": "90c5fdf1bdb48bda"
  },
  {
   "metadata": {
    "ExecuteTime": {
     "end_time": "2025-06-09T12:33:34.073005Z",
     "start_time": "2025-06-09T12:33:34.063320Z"
    }
   },
   "cell_type": "code",
   "source": [
    "# Booking-ID auswählen zum anpassen\n",
    "booking_id = 5\n",
    "\n",
    "# Vorherige Daten anzeigen\n",
    "original_booking = next((b for b in booking_manager.show_bookings() if b.booking_id == booking_id), None)\n",
    "\n",
    "if not original_booking:\n",
    "    print(f\"Booking mit ID {booking_id} wurde nicht gefunden.\")\n",
    "else:\n",
    "    print(\"Vorher:\")\n",
    "    print(f\"Guest: {original_booking.guest},\")\n",
    "    print(      f\" Check-In: {original_booking.check_in_date}, Check-Out: {original_booking.check_out_date}\")\n",
    "    print(f\"Storniert?: {original_booking.is_cancelled}, Gesamtbetrag {original_booking.total_amount}\")\n",
    "    #Ausschliessen, dass die Buchung vorher storniert war\n",
    "if not original_booking.is_cancelled:\n",
    "    # Neue Werte definieren\n",
    "    cancelled = True\n",
    "    # Update durchführen\n",
    "    ok = booking_manager.update_booking(\n",
    "        booking_id=booking_id,\n",
    "        check_in_date=original_booking.check_in_date,\n",
    "        check_out_date=original_booking.check_out_date,\n",
    "        is_cancelled=cancelled,\n",
    "        total_amount=original_booking.total_amount,\n",
    "        guest_id=original_booking.guest\n",
    "    )\n",
    "    # Ergebnis anzeigen\n",
    "    if ok:\n",
    "        gelöscht = invoice_dao.delete_invoice_by_booking_id(booking_id)\n",
    "        if gelöscht:\n",
    "            print(f\"Die zugehörige Rechnung zur Buchung {booking_id} wurde gelöscht\")\n",
    "        else:\n",
    "            print(f\"Es wurde keine Rechnung zur Buchung {booking_id} gefunden.\")\n",
    "\n",
    "        updated = next((b for b in booking_manager.show_bookings() if b.booking_id == booking_id), None)\n",
    "        print(\"\\nNachher:\"),\n",
    "        print(f\"Guest-ID: {updated.guest}, Check-In: {updated.check_in_date}, Check-Out: {updated.check_out_date}\")\n",
    "        print(f\"Storniert: {updated.is_cancelled}, {updated.total_amount} CHF\")\n",
    "    else:\n",
    "        print(\"Update fehlgeschlagen.\")\n",
    "else: print(\"Buchung ist bereits storniert.\")"
   ],
   "id": "95d32875ede18859",
   "outputs": [
    {
     "name": "stdout",
     "output_type": "stream",
     "text": [
      "Vorher:\n",
      "Guest: 5,\n",
      " Check-In: 2025-10-01, Check-Out: 2025-10-07\n",
      "Storniert?: 0, Gesamtbetrag 9000.0\n",
      "Die zugehörige Rechnung zur Buchung 5 wurde gelöscht\n",
      "\n",
      "Nachher:\n",
      "Guest-ID: 5, Check-In: 2025-10-01, Check-Out: 2025-10-07\n",
      "Storniert: 1, 9000.0 CHF\n"
     ]
    }
   ],
   "execution_count": 11
  },
  {
   "metadata": {},
   "cell_type": "markdown",
   "source": [
    "7. Als Gast möchte ich eine dynamische Preisgestaltung auf der\n",
    "Grundlage der Nachfrage sehen, damit ich ein Zimmer zum besten\n",
    "Preis buchen kann.\n",
    "Hint: Wendet in der Hochsaison höhere und in der Nebensaison\n",
    "niedrigere Tarife an\n"
   ],
   "id": "e91d986d5beb95c3"
  },
  {
   "metadata": {},
   "cell_type": "code",
   "outputs": [],
   "execution_count": null,
   "source": [
    "from datetime import date\n",
    "\n",
    "# beispielzimmer holen\n",
    "rooms = room_manager.show_room_details()\n",
    "room = rooms[2]  # Erstes Zimmer\n",
    "\n",
    "# Zeitraum definieren\n",
    "check_in = date(2025, 7, 10)\n",
    "check_out = date(2025, 7, 15)\n",
    "\n",
    "# Preisberechnung\n",
    "base_price = room.price_per_night\n",
    "num_nights = (check_out - check_in).days\n",
    "total_base_price = base_price * num_nights\n",
    "dynamic_price = room_manager.calculate_dynamic_price(room, check_in, check_out)\n",
    "\n",
    "# Ausgabe\n",
    "print(f\"Zimmernummer: {room.room_number}\")\n",
    "print(f\"Zeitraum: {check_in} bis {check_out} ({num_nights} Nächte)\")\n",
    "print(f\"Basispreis pro Nacht: {base_price:.2f} CHF\")\n",
    "print(f\"Gesamtpreis ohne Dynamik: {total_base_price:.2f} CHF\")\n",
    "print(f\"Dynamischer Gesamtpreis: {dynamic_price:.2f} CHF\")"
   ],
   "id": "ec47ad2756d3bda1"
  },
  {
   "metadata": {},
   "cell_type": "markdown",
   "source": "",
   "id": "27fcd25ee3a6d097"
  },
  {
   "metadata": {
    "ExecuteTime": {
     "end_time": "2025-06-09T13:44:51.766716Z",
     "start_time": "2025-06-09T13:44:51.571135Z"
    }
   },
   "cell_type": "code",
   "source": [
    "buchungen = booking_manager.show_all_bookings_with_all_hotels()\n",
    "\n",
    "for buchung in buchungen:\n",
    "    zimmer = buchung.room\n",
    "    hotel = zimmer.hotel\n",
    "    gast = buchung.guest\n",
    "\n",
    "    print(\"──────────────────────────────────────\")\n",
    "    print(f\"Hotel:       {hotel.name}\")\n",
    "    print(f\"Buchung-ID:  {buchung.booking_id}\")\n",
    "    print(f\"Zimmer:      {zimmer.room_number}\")\n",
    "    print(f\"Gast:        {gast.first_name} {gast.last_name}\")\n",
    "    print(f\"Check-in:    {buchung.check_in_date}\")\n",
    "    print(f\"Check-out:   {buchung.check_out_date}\")\n",
    "    print(f\"Storniert:   {'Ja' if buchung.is_cancelled else 'Nein'}\")\n",
    "    print(f\"Gesamtpreis: CHF {buchung.total_amount}\")"
   ],
   "id": "a31d4173d47f9f5",
   "outputs": [
    {
     "ename": "AttributeError",
     "evalue": "'Booking' object has no attribute 'room'",
     "output_type": "error",
     "traceback": [
      "\u001B[31m---------------------------------------------------------------------------\u001B[39m",
      "\u001B[31mAttributeError\u001B[39m                            Traceback (most recent call last)",
      "\u001B[36mCell\u001B[39m\u001B[36m \u001B[39m\u001B[32mIn[3]\u001B[39m\u001B[32m, line 4\u001B[39m\n\u001B[32m      1\u001B[39m buchungen = booking_manager.show_all_bookings_with_all_hotels()\n\u001B[32m      3\u001B[39m \u001B[38;5;28;01mfor\u001B[39;00m buchung \u001B[38;5;129;01min\u001B[39;00m buchungen:\n\u001B[32m----> \u001B[39m\u001B[32m4\u001B[39m     zimmer = \u001B[43mbuchung\u001B[49m\u001B[43m.\u001B[49m\u001B[43mroom\u001B[49m\n\u001B[32m      5\u001B[39m     hotel = zimmer.hotel\n\u001B[32m      6\u001B[39m     gast = buchung.guest\n",
      "\u001B[31mAttributeError\u001B[39m: 'Booking' object has no attribute 'room'"
     ]
    }
   ],
   "execution_count": 3
  },
  {
   "metadata": {},
   "cell_type": "markdown",
   "source": [
    "9. Als Admin möchte ich eine Liste der Zimmer mit ihrer\n",
    "Ausstattung sehen, damit ich sie besser bewerben kann.\n",
    "\n"
   ],
   "id": "e0e6d5cdf2f2af82"
  },
  {
   "metadata": {
    "ExecuteTime": {
     "end_time": "2025-06-09T14:25:37.678660Z",
     "start_time": "2025-06-09T14:25:37.669209Z"
    }
   },
   "cell_type": "code",
   "source": [
    "rooms = room_manager.get_rooms_with_facilities()\n",
    "\n",
    "for room in rooms:\n",
    "    print(f\"Zimmer {room.room_number}:\")\n",
    "    if room.facilities:\n",
    "        for facility in room.facilities:\n",
    "            print(f\"  - {facility.facility_name}\")\n",
    "    else:\n",
    "        print(\"  (Keine Ausstattung vorhanden)\")"
   ],
   "id": "ee0b224a67e6ba9f",
   "outputs": [
    {
     "name": "stdout",
     "output_type": "stream",
     "text": [
      "Zimmer 101:\n",
      "  - WiFi\n",
      "  - TV\n",
      "Zimmer 102:\n",
      "  - WiFi\n",
      "Zimmer 201:\n",
      "  - Air Conditioning\n",
      "Zimmer 301:\n",
      "  - Mini Bar\n",
      "Zimmer 401:\n",
      "  (Keine Ausstattung vorhanden)\n"
     ]
    }
   ],
   "execution_count": 4
  },
  {
   "metadata": {},
   "cell_type": "markdown",
   "source": "X. Hilfsfunktion Bookings löschen.",
   "id": "36046c1bdd6c6486"
  },
  {
   "metadata": {},
   "cell_type": "code",
   "outputs": [],
   "execution_count": null,
   "source": [
    "# Beispiel: Buchung mit ID 19 löschen\n",
    "booking_id_to_delete = 6\n",
    "#\n",
    "# Vorher: Liste aller Buchungen anzeigen\n",
    "print(\"Buchungen vor dem Löschen:\")\n",
    "for b in booking_manager.show_bookings():\n",
    "    print(f\"Booking-ID: {b.booking_id} | Room-ID: {b.room_id} | Hotel-ID: {b.hotel_id} | Zeitraum: {b.check_in_date} bis {b.check_out_date}\")\n",
    "\n",
    "# Buchung löschen\n",
    "erfolgreich = booking_dao.delete_booking_by_id(booking_id_to_delete)\n",
    "\n",
    "if erfolgreich:\n",
    "    print(f\"\\nBuchung mit ID {booking_id_to_delete} wurde gelöscht.\")\n",
    "else:\n",
    "    print(f\"\\nKeine Buchung mit ID {booking_id_to_delete} gefunden – nichts gelöscht.\")\n",
    "\n",
    "#Liste nochmals anzeigen\n",
    "print(\"\\nBuchungen nach dem Löschen:\")\n",
    "for b in booking_manager.show_bookings():\n",
    "    print(f\"Booking-ID: {b.booking_id} | Room-ID: {b.room_id} | Hotel-ID: {b.hotel_id} | Zeitraum: {b.check_in_date} bis {b.check_out_date}\")"
   ],
   "id": "e8d2da332ff8898c"
  }
 ],
 "metadata": {
  "kernelspec": {
   "display_name": "Python 3",
   "language": "python",
   "name": "python3"
  },
  "language_info": {
   "codemirror_mode": {
    "name": "ipython",
    "version": 2
   },
   "file_extension": ".py",
   "mimetype": "text/x-python",
   "name": "python",
   "nbconvert_exporter": "python",
   "pygments_lexer": "ipython2",
   "version": "2.7.6"
  }
 },
 "nbformat": 4,
 "nbformat_minor": 5
}
