{
 "cells": [
  {
   "metadata": {
    "ExecuteTime": {
     "end_time": "2025-06-09T12:24:21.642927Z",
     "start_time": "2025-06-09T12:24:21.639032Z"
    }
   },
   "cell_type": "code",
   "source": [
    "import os\n",
    "import sys\n",
    "\n",
    "proj_root = os.path.abspath(os.getcwd())\n",
    "if proj_root not in sys.path:\n",
    "    sys.path.insert(0, proj_root)"
   ],
   "id": "30158cb79e064966",
   "outputs": [],
   "execution_count": 21
  },
  {
   "metadata": {
    "ExecuteTime": {
     "end_time": "2025-06-09T12:24:22.564630Z",
     "start_time": "2025-06-09T12:24:22.558910Z"
    }
   },
   "cell_type": "code",
   "source": [
    "# Zelle 2: HotelManager importieren und Instanz erstellen\n",
    "\n",
    "from business_logic.hotel_manager import HotelManager\n",
    "from data_access.hotel_data_access import HotelDataAccess\n",
    "from data_access.room_data_access import RoomDataAccess\n",
    "from data_access.booking_data_access import BookingDataAccess\n",
    "from business_logic.room_manager import RoomManager\n",
    "from data_access.facility_data_access import FacilityDataAccess\n",
    "from data_access.address_data_access import AddressDataAccess\n",
    "from business_logic.booking_manager import BookingManager\n",
    "from business_logic.invoice_manager import InvoiceManager\n",
    "from data_access.invoice_data_access import InvoiceDataAccess\n",
    "\n",
    "import model\n",
    "from model import hotel\n",
    "\n",
    "# Pfad zur SQLite-Datenbank\n",
    "db_path = os.path.join(proj_root, \"database\", \"hotel_reservation_sample.db\")\n",
    "\n",
    "# DataAccess-Objekte erzeugen\n",
    "hotel_dao = HotelDataAccess(db_path)\n",
    "room_dao = RoomDataAccess(db_path)\n",
    "booking_dao = BookingDataAccess(db_path)\n",
    "facility_dao = FacilityDataAccess(db_path)\n",
    "address_da = AddressDataAccess(db_path)\n",
    "invoice_dao = InvoiceDataAccess(db_path)\n",
    "\n",
    "# HotelManager mit dem Datenbankpfad erzeugen\n",
    "manager = HotelManager(hotel_data_access=hotel_dao, room_data_access=room_dao)\n",
    "room_manager = RoomManager(room_data_access=room_dao, facility_data_access=facility_dao)\n",
    "booking_manager = BookingManager(booking_da=booking_dao, room_manager=room_manager)\n",
    "invoice_manager = InvoiceManager(invoice_data_access=invoice_dao, booking_data_access=booking_dao)\n"
   ],
   "id": "868ebf3063cd6833",
   "outputs": [],
   "execution_count": 22
  },
  {
   "metadata": {},
   "cell_type": "markdown",
   "source": [
    "1. Als Gast möchte ich die verfügbaren Hotels durchsuchen, damit\n",
    "ich dasjenige auswählen kann, welches meinen Wünschen\n",
    "entspricht. Wünsche sind:\n"
   ],
   "id": "432d64c15b7172a1"
  },
  {
   "metadata": {},
   "cell_type": "markdown",
   "source": [
    "1.1. Ich möchte alle Hotels in einer Stadt durchsuchen,\n",
    "damit ich das Hotel nach meinem bevorzugten Standort\n",
    "(Stadt) auswählen kann.\n"
   ],
   "id": "1954750b7ba4a064"
  },
  {
   "metadata": {
    "ExecuteTime": {
     "end_time": "2025-06-09T11:40:23.085147Z",
     "start_time": "2025-06-09T11:40:23.078761Z"
    }
   },
   "cell_type": "code",
   "source": [
    "# DAO auf die DB zeigen lassen\n",
    "dao = HotelDataAccess(\"database/hotel_reservation_sample.db\")\n",
    "manager = HotelManager(dao)\n",
    "\n",
    "# nach Stadt filtern im String\n",
    "hotels_in_WunschStadt = manager.show_hotels_by_city(\"Olten\")\n",
    "\n",
    "if not hotels_in_WunschStadt:\n",
    "    print(\"Keine Hotels in dieser Stadt gefunden.\")\n",
    "else:\n",
    "    for h in hotels_in_WunschStadt:\n",
    "        print(f\"{h.name} – {h.address.street}, {h.address.zip_code}, {h.address.city}\")"
   ],
   "id": "e7cbefdfb54bfa3a",
   "outputs": [
    {
     "name": "stdout",
     "output_type": "stream",
     "text": [
      "Keine Hotels in dieser Stadt gefunden.\n"
     ]
    }
   ],
   "execution_count": 3
  },
  {
   "metadata": {},
   "cell_type": "markdown",
   "source": [
    "1.2. Ich möchte alle Hotels in einer Stadt nach der\n",
    "Anzahl der Sterne (z.B. mindestens 4 Sterne) durchsuchen."
   ],
   "id": "c9860cb6c1e2dda4"
  },
  {
   "metadata": {
    "ExecuteTime": {
     "end_time": "2025-06-09T11:40:24.773762Z",
     "start_time": "2025-06-09T11:40:24.767486Z"
    }
   },
   "cell_type": "code",
   "source": [
    "dao = HotelDataAccess(\"database/hotel_reservation_sample.db\")\n",
    "manager = HotelManager(dao)\n",
    "\n",
    "# Stadt und min_stars angeben\n",
    "city = \"Basel\"\n",
    "min_stars = 5\n",
    "\n",
    "# 3) Methode aufrufen\n",
    "result = manager.show_hotels_by_city_and_min_stars(city, min_stars)\n",
    "\n",
    "# 4) Ausgabe, falls Treffer vorhanden\n",
    "if result:\n",
    "    print(f\"Gefundene Hotels in '{city}' mit mindestens {min_stars} Sternen:\")\n",
    "    for h in result:\n",
    "        print(f\"  • {h.name} ({h.stars} Sterne) – {h.address.street}, {h.address.zip_code}\")"
   ],
   "id": "c80fd9a1c1248732",
   "outputs": [
    {
     "name": "stdout",
     "output_type": "stream",
     "text": [
      "Gefundene Hotels in 'Basel' mit mindestens 5 Sternen:\n",
      "  • Les Trois Rois (5 Sterne) – Freiestrasse 10, 4051\n"
     ]
    }
   ],
   "execution_count": 4
  },
  {
   "metadata": {},
   "cell_type": "markdown",
   "source": [
    "1.3. Ich möchte alle Hotels in einer Stadt durchsuchen,\n",
    "die Zimmer haben, die meiner Gästezahl entsprechen (nur 1\n",
    "Zimmer pro Buchung)"
   ],
   "id": "d808b6ed95df045b"
  },
  {
   "metadata": {
    "ExecuteTime": {
     "end_time": "2025-06-09T11:40:26.162545Z",
     "start_time": "2025-06-09T11:40:26.153755Z"
    }
   },
   "cell_type": "code",
   "source": [
    "# 1) DAO-Objekte erstellen\n",
    "dao = HotelDataAccess(\"database/hotel_reservation_sample.db\")\n",
    "room_dao = RoomDataAccess(\"database/hotel_reservation_sample.db\")\n",
    "\n",
    "# 2) HotelManager mit beiden DAOs initialisieren\n",
    "manager = HotelManager(dao, room_dao)\n",
    "\n",
    "# 3) Stadt und Gästeanzahl angeben\n",
    "city = \"zürich\"\n",
    "guest_count = 1\n",
    "\n",
    "# 4) Methode aufrufen\n",
    "result = manager.find_hotels_by_city_and_guests(city, guest_count)\n",
    "\n",
    "# 5) Ausgabe, falls Treffer vorhanden\n",
    "if result:\n",
    "    print(f\"Gefundene Hotels in '{city}' mit Zimmern für mindestens {guest_count} Gäste:\")\n",
    "    for h in result:\n",
    "        print(f\"  • {h.name} – {h.address.street}, {h.address.zip_code}\")\n",
    "else:\n",
    "    print(f\"Keine Hotels in '{city}' mit Zimmern für mindestens {guest_count} Gäste gefunden.\")"
   ],
   "id": "c7fe475e2a48fa97",
   "outputs": [
    {
     "name": "stdout",
     "output_type": "stream",
     "text": [
      "Gefundene Hotels in 'zürich' mit Zimmern für mindestens 1 Gäste:\n",
      "  • Hotel Baur au Lac – Bahnhofstrasse 1, 8001\n"
     ]
    }
   ],
   "execution_count": 5
  },
  {
   "metadata": {},
   "cell_type": "markdown",
   "source": [
    "1.4. Ich möchte alle Hotels in einer Stadt durchsuchen,\n",
    "die während meines Aufenthaltes (\"von\" (check_in_date)\n",
    "und \"bis\" (check_out_date)) Zimmer zur Verfügung haben,\n",
    "damit ich nur relevante Ergebnisse sehe."
   ],
   "id": "6bc974708002e42"
  },
  {
   "metadata": {
    "ExecuteTime": {
     "end_time": "2025-06-09T11:40:28.025552Z",
     "start_time": "2025-06-09T11:40:28.013131Z"
    }
   },
   "cell_type": "code",
   "source": [
    "from datetime import date\n",
    "\n",
    "# Abfrageparameter definieren\n",
    "city = \"Genève\"                 ## Beispiel Buchung in DB in Genève ist von 2025, 8, 20 bis  2025, 8, 22\n",
    "check_in = date(2025, 8, 1)\n",
    "check_out = date(2025, 8, 17)\n",
    "\n",
    "# Verfügbare Hotels abrufen\n",
    "verfuegbare_hotels = manager.find_available_hotels_by_city_and_dates(city, check_in, check_out, booking_dao)\n",
    "\n",
    "# Ausgabe der Ergebnisse\n",
    "if verfuegbare_hotels:\n",
    "    print(f\"Verfügbare Hotels in '{city}' vom {check_in} bis {check_out}:\")\n",
    "    for h in verfuegbare_hotels:\n",
    "        print(f\"{h.name} – {h.address.street}, {h.address.zip_code}\")\n",
    "else:\n",
    "    print(f\"Keine verfügbaren Hotels in '{city}' vom {check_in} bis {check_out}.\")"
   ],
   "id": "abd5165961c6ae5b",
   "outputs": [
    {
     "name": "stdout",
     "output_type": "stream",
     "text": [
      "Verfügbare Hotels in 'Genève' vom 2025-08-01 bis 2025-08-17:\n",
      "Four Seasons Hôtel des Bergues – Rue du Rhône 42, 1204\n"
     ]
    }
   ],
   "execution_count": 6
  },
  {
   "metadata": {},
   "cell_type": "markdown",
   "source": [
    "1.5. Ich möchte Wünsche kombinieren können, z.B. die\n",
    "verfügbaren Zimmer zusammen mit meiner Gästezahl und der\n",
    "mindest Anzahl Sterne.\n"
   ],
   "id": "b8e0f455b7609d2e"
  },
  {
   "metadata": {
    "ExecuteTime": {
     "end_time": "2025-06-09T11:40:29.711683Z",
     "start_time": "2025-06-09T11:40:29.702531Z"
    }
   },
   "cell_type": "code",
   "source": [
    "from datetime import datetime\n",
    "\n",
    "# Parameter definieren --> Hotel in Genf hat 5 Sterne, Room für max 4 Leute uund booking von 2025-8-20 - 2025-8-22\n",
    "stadt = \"Genève\"\n",
    "check_in = datetime(2025, 8, 23)\n",
    "check_out = datetime(2025, 8, 24)\n",
    "min_sterne = 4\n",
    "gaesteanzahl = 2\n",
    "\n",
    "# Methode aufrufen\n",
    "verfuegbare_hotels = manager.find_hotels_by_criteria(\n",
    "    city=stadt,\n",
    "    check_in_date=check_in,\n",
    "    check_out_date=check_out,\n",
    "    min_stars=min_sterne,\n",
    "    guest_count=gaesteanzahl,\n",
    "    booking_da=booking_dao\n",
    ")\n",
    "\n",
    "# Ausgabe\n",
    "if verfuegbare_hotels:\n",
    "    print(f\"Verfügbare Hotels in '{stadt}' vom {check_in.date()} bis {check_out.date()} (mind. {min_sterne} Sterne, für {gaesteanzahl} Gäste):\")\n",
    "    for hotel in verfuegbare_hotels:\n",
    "        print(f\"  • {hotel.name} – {hotel.address.street}, {hotel.address.zip_code} {hotel.address.city}\")\n",
    "else:\n",
    "    print(f\"Keine passenden Hotels in '{stadt}' für die angegebenen Kriterien gefunden.\")"
   ],
   "id": "132e47021d696198",
   "outputs": [
    {
     "name": "stdout",
     "output_type": "stream",
     "text": [
      "Verfügbare Hotels in 'Genève' vom 2025-08-23 bis 2025-08-24 (mind. 4 Sterne, für 2 Gäste):\n",
      "  • Four Seasons Hôtel des Bergues – Rue du Rhône 42, 1204 Genève\n"
     ]
    }
   ],
   "execution_count": 7
  },
  {
   "metadata": {},
   "cell_type": "markdown",
   "source": [
    "1.6. Ich möchte die folgenden Informationen pro Hotel\n",
    "sehen: Name, Adresse, Anzahl der Sterne."
   ],
   "id": "ce6965683bae0608"
  },
  {
   "metadata": {
    "ExecuteTime": {
     "end_time": "2025-06-09T11:40:31.536964Z",
     "start_time": "2025-06-09T11:40:31.530593Z"
    }
   },
   "cell_type": "code",
   "source": [
    "infos = manager.show_all_hotel_infos()\n",
    "\n",
    "print(\"Verfügbare Hotels:\")\n",
    "for eintrag in infos:\n",
    "    print(\" •\", eintrag)\n"
   ],
   "id": "78bc85eefc38aeec",
   "outputs": [
    {
     "name": "stdout",
     "output_type": "stream",
     "text": [
      "Verfügbare Hotels:\n",
      " • Hotel Baur au Lac – Bahnhofstrasse 1, 8001 Zürich (5 Sterne)\n",
      " • Four Seasons Hôtel des Bergues – Rue du Rhône 42, 1204 Genève (5 Sterne)\n",
      " • Grand Hotel National – Gassstrassse 7, 4657 Dulliken (5 Sterne)\n",
      " • Bellevue Palace – Marktgasse 59, 3011 Bern (5 Sterne)\n",
      " • Les Trois Rois – Freiestrasse 10, 4051 Basel (5 Sterne)\n",
      " • bronzehand – Gassstrassse 7, 4657 Dulliken (5 Sterne)\n"
     ]
    }
   ],
   "execution_count": 8
  },
  {
   "metadata": {},
   "cell_type": "markdown",
   "source": [
    "2. Als Gast möchte ich Details zu verschiedenen Zimmertypen\n",
    "(Single, Double, Suite usw.), die in einem Hotel verfügbar\n",
    "sind, sehen, einschliesslich der maximalen Anzahl von Gästen\n",
    "für dieses Zimmer, Beschreibung, Preis und Ausstattung, um eine\n",
    "fundierte Entscheidung zu treffen."
   ],
   "id": "96a40109fab4eaae"
  },
  {
   "metadata": {},
   "cell_type": "markdown",
   "source": [
    "2.1. Ich möchte die folgenden Informationen pro Zimmer\n",
    "sehen: Zimmertyp, max. Anzahl der Gäste, Beschreibung,\n",
    "Ausstattung, Preis pro Nacht und Gesamtpreis.\n"
   ],
   "id": "5e3f8f1d63b15041"
  },
  {
   "metadata": {
    "ExecuteTime": {
     "end_time": "2025-06-09T11:40:33.645602Z",
     "start_time": "2025-06-09T11:40:33.633445Z"
    }
   },
   "cell_type": "code",
   "source": [
    "from datetime import date\n",
    "\n",
    "# Optional: Check-in und Check-out setzen (für Gesamtpreisberechnung)\n",
    "check_in = date(2025, 7, 11)\n",
    "check_out = date(2025, 7, 15)\n",
    "\n",
    "# Zimmerdetails abrufen\n",
    "room_infos = room_manager.show_room_details()\n",
    "\n",
    "# Ausgabe\n",
    "for room in room_infos:\n",
    "    ausstattung = \", \".join([f.facility_name for f in room.facilities])\n",
    "\n",
    "    print(f\"Zimmer {room.room_number} – {room.room_type.description}\")\n",
    "    print(f\"  Max. Gäste     : {room.room_type.max_guests}\")\n",
    "    print(f\"  Ausstattung    : {ausstattung if ausstattung else 'Keine'}\")\n",
    "\n",
    "    # Preis pro Nacht\n",
    "    print(f\"  Preis pro Nacht: {room.price_per_night:.2f} CHF\")\n",
    "\n",
    "    # Optional: Gesamtpreis berechnen, wenn Check-in/Check-out gesetzt\n",
    "    if check_in and check_out and check_out > check_in:\n",
    "        nächte = (check_out - check_in).days\n",
    "        gesamtpreis = room.price_per_night * nächte\n",
    "        print(f\"  Gesamtpreis    : {gesamtpreis:.2f} CHF für {nächte} Nächte\")\n",
    "\n",
    "    print(\"-\" * 60)"
   ],
   "id": "8296f2d505c1c2c3",
   "outputs": [
    {
     "name": "stdout",
     "output_type": "stream",
     "text": [
      "Zimmer 101 – Single\n",
      "  Max. Gäste     : 1\n",
      "  Ausstattung    : WiFi, TV\n",
      "  Preis pro Nacht: 250.00 CHF\n",
      "  Gesamtpreis    : 1000.00 CHF für 4 Nächte\n",
      "------------------------------------------------------------\n",
      "Zimmer 102 – Double\n",
      "  Max. Gäste     : 2\n",
      "  Ausstattung    : WiFi\n",
      "  Preis pro Nacht: 400.00 CHF\n",
      "  Gesamtpreis    : 1600.00 CHF für 4 Nächte\n",
      "------------------------------------------------------------\n",
      "Zimmer 201 – Suite\n",
      "  Max. Gäste     : 4\n",
      "  Ausstattung    : Air Conditioning\n",
      "  Preis pro Nacht: 650.00 CHF\n",
      "  Gesamtpreis    : 2600.00 CHF für 4 Nächte\n",
      "------------------------------------------------------------\n",
      "Zimmer 301 – Family Room\n",
      "  Max. Gäste     : 5\n",
      "  Ausstattung    : Mini Bar\n",
      "  Preis pro Nacht: 900.00 CHF\n",
      "  Gesamtpreis    : 3600.00 CHF für 4 Nächte\n",
      "------------------------------------------------------------\n",
      "Zimmer 401 – Penthouse\n",
      "  Max. Gäste     : 6\n",
      "  Ausstattung    : Keine\n",
      "  Preis pro Nacht: 1500.00 CHF\n",
      "  Gesamtpreis    : 6000.00 CHF für 4 Nächte\n",
      "------------------------------------------------------------\n"
     ]
    }
   ],
   "execution_count": 9
  },
  {
   "metadata": {},
   "cell_type": "markdown",
   "source": [
    "2.2. Ich möchte nur die verfügbaren Zimmer sehen, sofern\n",
    "ich meinen Aufenthalt (von – bis) spezifiziert habe.\n"
   ],
   "id": "48f1c33096ac0086"
  },
  {
   "metadata": {
    "ExecuteTime": {
     "end_time": "2025-06-09T11:40:36.098412Z",
     "start_time": "2025-06-09T11:40:36.083377Z"
    }
   },
   "cell_type": "code",
   "source": [
    "from datetime import date\n",
    "\n",
    "check_in = date(2025, 8, 20)\n",
    "check_out = date(2025, 8, 22)\n",
    "\n",
    "verfuegbare_zimmer = room_manager.find_available_rooms_by_dates(\n",
    "    check_in_date=check_in,\n",
    "    check_out_date=check_out,\n",
    "    booking_dao=booking_dao\n",
    ")\n",
    "\n",
    "for room in verfuegbare_zimmer:\n",
    "    ausstattung = \", \".join([f.facility_name for f in room.facilities])\n",
    "    print(f\"Zimmer {room.room_number} – {room.room_type.description}\")\n",
    "    print(f\"  Hotel: {room.hotel.name}, Adresse: {room.hotel.address.street} {room.hotel.address.city}\")\n",
    "    print(f\"  Max. Gäste     : {room.room_type.max_guests}\")\n",
    "    print(f\"  Ausstattung    : {ausstattung if ausstattung else 'Keine'}\")\n",
    "    print(f\"  Preis pro Nacht: {room.price_per_night:.2f} CHF\")\n",
    "\n",
    "    # Optional: Gesamtpreis berechnen\n",
    "    if check_in and check_out and check_out > check_in:\n",
    "        nächte = (check_out - check_in).days\n",
    "        gesamtpreis = room.price_per_night * nächte\n",
    "        print(f\"  Gesamtpreis    : {gesamtpreis:.2f} CHF für {nächte} Nächte\")\n",
    "\n",
    "    print(\"-\" * 60)"
   ],
   "id": "dd6e7cc44ecdc816",
   "outputs": [
    {
     "name": "stdout",
     "output_type": "stream",
     "text": [
      "Zimmer 101 – Single\n",
      "  Hotel: Hotel Baur au Lac, Adresse: Bahnhofstrasse 1 Zürich\n",
      "  Max. Gäste     : 1\n",
      "  Ausstattung    : WiFi, TV\n",
      "  Preis pro Nacht: 250.00 CHF\n",
      "  Gesamtpreis    : 500.00 CHF für 2 Nächte\n",
      "------------------------------------------------------------\n",
      "Zimmer 102 – Double\n",
      "  Hotel: Hotel Baur au Lac, Adresse: Bahnhofstrasse 1 Zürich\n",
      "  Max. Gäste     : 2\n",
      "  Ausstattung    : WiFi\n",
      "  Preis pro Nacht: 400.00 CHF\n",
      "  Gesamtpreis    : 800.00 CHF für 2 Nächte\n",
      "------------------------------------------------------------\n",
      "Zimmer 301 – Family Room\n",
      "  Hotel: Grand Hotel National, Adresse: Gassstrassse 7 Dulliken\n",
      "  Max. Gäste     : 5\n",
      "  Ausstattung    : Mini Bar\n",
      "  Preis pro Nacht: 900.00 CHF\n",
      "  Gesamtpreis    : 1800.00 CHF für 2 Nächte\n",
      "------------------------------------------------------------\n",
      "Zimmer 401 – Penthouse\n",
      "  Hotel: Bellevue Palace, Adresse: Marktgasse 59 Bern\n",
      "  Max. Gäste     : 6\n",
      "  Ausstattung    : Keine\n",
      "  Preis pro Nacht: 1500.00 CHF\n",
      "  Gesamtpreis    : 3000.00 CHF für 2 Nächte\n",
      "------------------------------------------------------------\n"
     ]
    }
   ],
   "execution_count": 10
  },
  {
   "metadata": {},
   "cell_type": "markdown",
   "source": [
    "3. Als Admin des Buchungssystems möchte ich die Möglichkeit haben,\n",
    "Hotelinformationen zu pflegen, um aktuelle Informationen im\n",
    "System zu haben."
   ],
   "id": "35e6c149e1a3ac22"
  },
  {
   "metadata": {},
   "cell_type": "markdown",
   "source": "3.1. Ich möchte neue Hotels zum System hinzufügen\n",
   "id": "ecb376d102223199"
  },
  {
   "metadata": {
    "ExecuteTime": {
     "end_time": "2025-06-09T11:40:38.616050Z",
     "start_time": "2025-06-09T11:40:38.597193Z"
    }
   },
   "cell_type": "code",
   "source": [
    "from data_access.address_data_access import AddressDataAccess\n",
    "from model import Address\n",
    "\n",
    "# AddressDataAccess initialisieren\n",
    "address_dao = AddressDataAccess(db_path)\n",
    "\n",
    "# Adresse anlegen\n",
    "adresse = Address(\n",
    "    address_id=0,  # Platzhalter, wird von DB ersetzt\n",
    "    street=\"Lindenweg 8\",\n",
    "    city=\"Däniken\",\n",
    "    zip_code=3012\n",
    ")\n",
    "# Hotel erstellen\n",
    "try:\n",
    "    neues_hotel = manager.create_new_hotel(\n",
    "        name=\"Hotel Bernblick\",\n",
    "        stars=3,\n",
    "        address=adresse,\n",
    "        address_da=address_dao\n",
    "    )\n",
    "    print(\"Hotel erfolgreich erstellt:\")\n",
    "    print(f\"Hotel-ID: {neues_hotel.hotel_id}\")\n",
    "    print(f\"Address-ID: {neues_hotel.address.address_id}\")\n",
    "    print(f\"{neues_hotel.name} – {neues_hotel.address.street}, {neues_hotel.address.zip_code} {neues_hotel.address.city}\")\n",
    "except Exception as e:\n",
    "    print(\"Fehler beim Erstellen des Hotels:\", e)"
   ],
   "id": "b7b4fcda9aa5801d",
   "outputs": [
    {
     "name": "stdout",
     "output_type": "stream",
     "text": [
      "Hotel erfolgreich erstellt:\n",
      "Hotel-ID: 17\n",
      "Address-ID: 10\n",
      "Hotel Bernblick – Lindenweg 8, 3012 Däniken\n"
     ]
    }
   ],
   "execution_count": 11
  },
  {
   "metadata": {},
   "cell_type": "markdown",
   "source": "3.2. Ich möchte Hotels aus dem System entfernen",
   "id": "eba4113f8461e609"
  },
  {
   "metadata": {
    "ExecuteTime": {
     "end_time": "2025-06-09T11:40:40.716453Z",
     "start_time": "2025-06-09T11:40:40.708975Z"
    }
   },
   "cell_type": "code",
   "source": [
    "# Beispiel: Hotel mit ID 15 löschen\n",
    "hotel_id_to_delete = 28\n",
    "\n",
    "# Vorher: Liste aller Hotels anzeigen\n",
    "print(\"Hotels vor dem Löschen:\")\n",
    "for h in manager.show_all_hotels_basic():\n",
    "    print(f\"Hotel-ID: {h.hotel_id} | Name: {h.name}\")\n",
    "\n",
    "# Hotel löschen\n",
    "erfolgreich = manager.delete_hotel(hotel_id_to_delete)\n",
    "\n",
    "# Rückmeldung\n",
    "if erfolgreich:\n",
    "    print(f\"\\nHotel mit ID {hotel_id_to_delete} wurde gelöscht.\")\n",
    "else:\n",
    "    print(f\"\\nKein Hotel mit ID {hotel_id_to_delete} gefunden – nichts gelöscht.\")\n",
    "\n",
    "# Danach: Liste nochmals anzeigen\n",
    "print(\"\\nHotels nach dem Löschen:\")\n",
    "for h in manager.show_all_hotels_basic():\n",
    "    print(f\"Hotel-ID: {h.hotel_id} | Name: {h.name}\")"
   ],
   "id": "59f5c2d22e463214",
   "outputs": [
    {
     "name": "stdout",
     "output_type": "stream",
     "text": [
      "Hotels vor dem Löschen:\n",
      "Hotel-ID: 1 | Name: Hotel Baur au Lac\n",
      "Hotel-ID: 2 | Name: Four Seasons Hôtel des Bergues\n",
      "Hotel-ID: 3 | Name: Grand Hotel National\n",
      "Hotel-ID: 4 | Name: Bellevue Palace\n",
      "Hotel-ID: 5 | Name: Les Trois Rois\n",
      "Hotel-ID: 16 | Name: bronzehand\n",
      "Hotel-ID: 17 | Name: Hotel Bernblick\n",
      "\n",
      "Kein Hotel mit ID 28 gefunden – nichts gelöscht.\n",
      "\n",
      "Hotels nach dem Löschen:\n",
      "Hotel-ID: 1 | Name: Hotel Baur au Lac\n",
      "Hotel-ID: 2 | Name: Four Seasons Hôtel des Bergues\n",
      "Hotel-ID: 3 | Name: Grand Hotel National\n",
      "Hotel-ID: 4 | Name: Bellevue Palace\n",
      "Hotel-ID: 5 | Name: Les Trois Rois\n",
      "Hotel-ID: 16 | Name: bronzehand\n",
      "Hotel-ID: 17 | Name: Hotel Bernblick\n"
     ]
    }
   ],
   "execution_count": 12
  },
  {
   "metadata": {},
   "cell_type": "markdown",
   "source": [
    "3.3. Ich möchte die Informationen bestimmter Hotels\n",
    "aktualisieren, z. B. den Namen, die Sterne usw.\n"
   ],
   "id": "99c96643e58b7a0c"
  },
  {
   "metadata": {
    "ExecuteTime": {
     "end_time": "2025-06-09T11:40:42.703877Z",
     "start_time": "2025-06-09T11:40:42.695072Z"
    }
   },
   "cell_type": "code",
   "source": [
    "# Hotel-ID auswählen zum anpassen\n",
    "hotel_id = 16\n",
    "\n",
    "# Vorherige Daten anzeigen\n",
    "original_hotel = next((h for h in hotel_dao.read_all_hotel() if h.hotel_id == hotel_id), None)\n",
    "\n",
    "if not original_hotel:\n",
    "    print(f\"Hotel mit ID {hotel_id} wurde nicht gefunden.\")\n",
    "else:\n",
    "    print(\"Vorher:\")\n",
    "    print(f\"Name: {original_hotel.name}, Sterne: {original_hotel.stars}\")\n",
    "    print(f\"Adresse: {original_hotel.address.street}, {original_hotel.address.zip_code} {original_hotel.address.city}\")\n",
    "\n",
    "    # Neue Werte definieren\n",
    "    neuer_name = \"bronzehand\"\n",
    "    neue_sterne = 5\n",
    "    neue_adresse = model.Address(\n",
    "        address_id=original_hotel.address.address_id,\n",
    "        street=\"Gassstrassse 7\",\n",
    "        city=\"Dulliken\",\n",
    "        zip_code=4657\n",
    "    )\n",
    "    # Update durchführen\n",
    "    ok = manager.update_hotel_and_address(\n",
    "        hotel_id=hotel_id,\n",
    "        name=neuer_name,\n",
    "        stars=neue_sterne,\n",
    "        address=neue_adresse,\n",
    "        address_da=address_da\n",
    "    )\n",
    "    # Ergebnis anzeigen\n",
    "    if ok:\n",
    "        updated = next((h for h in hotel_dao.read_all_hotel() if h.hotel_id == hotel_id), None)\n",
    "        print(\"\\nNachher:\")\n",
    "        print(f\"Name: {updated.name}, Sterne: {updated.stars}\")\n",
    "        print(f\"Adresse: {updated.address.street}, {updated.address.zip_code} {updated.address.city}\")\n",
    "    else:\n",
    "        print(\"Update fehlgeschlagen.\")"
   ],
   "id": "614306f022e2be1c",
   "outputs": [
    {
     "name": "stdout",
     "output_type": "stream",
     "text": [
      "Vorher:\n",
      "Name: bronzehand, Sterne: 5\n",
      "Adresse: Gassstrassse 7, 4657 Dulliken\n",
      "\n",
      "Nachher:\n",
      "Name: bronzehand, Sterne: 5\n",
      "Adresse: Gassstrassse 7, 4657 Dulliken\n"
     ]
    }
   ],
   "execution_count": 13
  },
  {
   "metadata": {},
   "cell_type": "markdown",
   "source": [
    "4. Als Gast möchte ich ein Zimmer in einem bestimmten Hotel\n",
    "buchen, um meinen Urlaub zu planen.\n"
   ],
   "id": "fb36e8539a9b17ca"
  },
  {
   "metadata": {
    "ExecuteTime": {
     "end_time": "2025-06-09T11:40:45.045330Z",
     "start_time": "2025-06-09T11:40:45.030104Z"
    }
   },
   "cell_type": "code",
   "source": [
    "from datetime import date\n",
    "from model import Guest, Room, RoomType, Hotel, Address\n",
    "\n",
    "# Dummy-Daten (IDs müssen existieren!)\n",
    "adresse = Address(address_id=1, street=\"Teststrasse 11\", city=\"Olten\", zip_code=4600)\n",
    "hotel = Hotel(hotel_id=1, name=\"Hotel Test\", stars=3, address=adresse)\n",
    "room_type = RoomType(room_type_id=1, description=\"Standard\", max_guests=2)\n",
    "zimmer = Room(room_id=1, room_number=\"101\", price_per_night=120.0, room_type=room_type, hotel=hotel)\n",
    "gast = Guest(guest_id=1, firstname=\"Max\", lastname=\"Muster\", email=\"max@muster.ch\")\n",
    "\n",
    "check_in = date(2025, 12, 17)\n",
    "check_out = date(2025, 12, 19)\n",
    "\n",
    "# 1. Buchungen vor dem Einfügen anzeigen\n",
    "print(\"Buchungen vor dem Einfügen:\")\n",
    "for b in booking_manager.show_bookings():\n",
    "    print(f\"Booking-ID: {b.booking_id}, Room-ID: {b.room_id}, Hotel-ID: {b.hotel_id}, Check-in: {b.check_in_date}, Check-out: {b.check_out_date}\")\n",
    "\n",
    "# 2. Verfügbarkeit prüfen und ggf. buchen\n",
    "verfuegbare_zimmer = room_manager.find_available_rooms_by_dates(check_in, check_out, booking_dao)\n",
    "neue_buchung = None\n",
    "\n",
    "if any(r.room_id == zimmer.room_id for r in verfuegbare_zimmer):\n",
    "    neue_buchung = booking_dao.create_booking(\n",
    "        guest_id=gast,\n",
    "        room_id=zimmer,\n",
    "        check_in_date=check_in,\n",
    "        check_out_date=check_out,\n",
    "        is_cancelled=False,\n",
    "        total_amount=zimmer.price_per_night * (check_out - check_in).days\n",
    "    )\n",
    "    print(\"\\nNeue Buchung erfolgreich erstellt:\")\n",
    "    print(f\"Booking-ID: {neue_buchung.booking_id}, Room-ID: {neue_buchung.room_id}, Zeitraum: {check_in} bis {check_out}\")\n",
    "else:\n",
    "    print(\"\\nZimmer ist im gewünschten Zeitraum nicht verfügbar.\")\n",
    "\n",
    "# 3. Buchungen nach dem Einfügen anzeigen\n",
    "print(\"\\nBuchungen nach dem Einfügen:\")\n",
    "for b in booking_manager.show_bookings():\n",
    "    print(f\"Booking-ID: {b.booking_id}, Room-ID: {b.room_id}, Hotel-ID: {b.hotel_id}, Check-in: {b.check_in_date}, Check-out: {b.check_out_date}\")"
   ],
   "id": "2d02ff8eabb2f22b",
   "outputs": [
    {
     "name": "stdout",
     "output_type": "stream",
     "text": [
      "Buchungen vor dem Einfügen:\n",
      "Booking-ID: 1, Room-ID: 1, Hotel-ID: 1, Check-in: 2025-06-01, Check-out: 2025-06-05\n",
      "Booking-ID: 2, Room-ID: 2, Hotel-ID: 1, Check-in: 2025-07-10, Check-out: 2025-07-15\n",
      "Booking-ID: 3, Room-ID: 3, Hotel-ID: 2, Check-in: 2025-08-20, Check-out: 2025-08-22\n",
      "Booking-ID: 4, Room-ID: 4, Hotel-ID: 3, Check-in: 2025-09-05, Check-out: 2025-09-10\n",
      "Booking-ID: 5, Room-ID: 5, Hotel-ID: 4, Check-in: 2025-10-01, Check-out: 2025-10-07\n",
      "Booking-ID: 6, Room-ID: 1, Hotel-ID: 1, Check-in: 2025-07-10, Check-out: 2025-07-15\n",
      "Booking-ID: 7, Room-ID: 1, Hotel-ID: 1, Check-in: 2025-07-10, Check-out: 2025-07-15\n",
      "Booking-ID: 8, Room-ID: 1, Hotel-ID: 1, Check-in: 2025-08-10, Check-out: 2025-08-15\n",
      "Booking-ID: 9, Room-ID: 1, Hotel-ID: 1, Check-in: 2025-10-10, Check-out: 2025-10-15\n",
      "Booking-ID: 10, Room-ID: 1, Hotel-ID: 1, Check-in: 2025-11-10, Check-out: 2025-11-15\n",
      "Booking-ID: 11, Room-ID: 2, Hotel-ID: 1, Check-in: 2025-11-10, Check-out: 2025-11-15\n",
      "Booking-ID: 12, Room-ID: 5, Hotel-ID: 4, Check-in: 2025-11-10, Check-out: 2025-11-15\n",
      "Booking-ID: 13, Room-ID: 4, Hotel-ID: 3, Check-in: 2025-11-10, Check-out: 2025-11-15\n",
      "Booking-ID: 14, Room-ID: 4, Hotel-ID: 3, Check-in: 2025-11-10, Check-out: 2025-11-15\n",
      "Booking-ID: 15, Room-ID: 3, Hotel-ID: 2, Check-in: 2025-12-10, Check-out: 2025-12-15\n",
      "Booking-ID: 16, Room-ID: 3, Hotel-ID: 2, Check-in: 2025-12-16, Check-out: 2025-12-20\n",
      "Booking-ID: 17, Room-ID: 3, Hotel-ID: 2, Check-in: 2025-12-17, Check-out: 2025-12-19\n",
      "Booking-ID: 18, Room-ID: 3, Hotel-ID: 2, Check-in: 2025-12-17, Check-out: 2025-12-19\n",
      "Booking-ID: 19, Room-ID: 1, Hotel-ID: 1, Check-in: 2025-12-17, Check-out: 2025-12-19\n",
      "\n",
      "Zimmer ist im gewünschten Zeitraum nicht verfügbar.\n",
      "\n",
      "Buchungen nach dem Einfügen:\n",
      "Booking-ID: 1, Room-ID: 1, Hotel-ID: 1, Check-in: 2025-06-01, Check-out: 2025-06-05\n",
      "Booking-ID: 2, Room-ID: 2, Hotel-ID: 1, Check-in: 2025-07-10, Check-out: 2025-07-15\n",
      "Booking-ID: 3, Room-ID: 3, Hotel-ID: 2, Check-in: 2025-08-20, Check-out: 2025-08-22\n",
      "Booking-ID: 4, Room-ID: 4, Hotel-ID: 3, Check-in: 2025-09-05, Check-out: 2025-09-10\n",
      "Booking-ID: 5, Room-ID: 5, Hotel-ID: 4, Check-in: 2025-10-01, Check-out: 2025-10-07\n",
      "Booking-ID: 6, Room-ID: 1, Hotel-ID: 1, Check-in: 2025-07-10, Check-out: 2025-07-15\n",
      "Booking-ID: 7, Room-ID: 1, Hotel-ID: 1, Check-in: 2025-07-10, Check-out: 2025-07-15\n",
      "Booking-ID: 8, Room-ID: 1, Hotel-ID: 1, Check-in: 2025-08-10, Check-out: 2025-08-15\n",
      "Booking-ID: 9, Room-ID: 1, Hotel-ID: 1, Check-in: 2025-10-10, Check-out: 2025-10-15\n",
      "Booking-ID: 10, Room-ID: 1, Hotel-ID: 1, Check-in: 2025-11-10, Check-out: 2025-11-15\n",
      "Booking-ID: 11, Room-ID: 2, Hotel-ID: 1, Check-in: 2025-11-10, Check-out: 2025-11-15\n",
      "Booking-ID: 12, Room-ID: 5, Hotel-ID: 4, Check-in: 2025-11-10, Check-out: 2025-11-15\n",
      "Booking-ID: 13, Room-ID: 4, Hotel-ID: 3, Check-in: 2025-11-10, Check-out: 2025-11-15\n",
      "Booking-ID: 14, Room-ID: 4, Hotel-ID: 3, Check-in: 2025-11-10, Check-out: 2025-11-15\n",
      "Booking-ID: 15, Room-ID: 3, Hotel-ID: 2, Check-in: 2025-12-10, Check-out: 2025-12-15\n",
      "Booking-ID: 16, Room-ID: 3, Hotel-ID: 2, Check-in: 2025-12-16, Check-out: 2025-12-20\n",
      "Booking-ID: 17, Room-ID: 3, Hotel-ID: 2, Check-in: 2025-12-17, Check-out: 2025-12-19\n",
      "Booking-ID: 18, Room-ID: 3, Hotel-ID: 2, Check-in: 2025-12-17, Check-out: 2025-12-19\n",
      "Booking-ID: 19, Room-ID: 1, Hotel-ID: 1, Check-in: 2025-12-17, Check-out: 2025-12-19\n"
     ]
    }
   ],
   "execution_count": 14
  },
  {
   "metadata": {},
   "cell_type": "markdown",
   "source": [
    "5. Als Gast möchte ich nach meinem Aufenthalt eine Rechnung\n",
    "erhalten, damit ich einen Zahlungsnachweis habe.\n",
    "Hint: Fügt einen Eintrag in der «Invoice» Tabelle hinzu.\n"
   ],
   "id": "a6e5a490a7165ae4"
  },
  {
   "metadata": {
    "ExecuteTime": {
     "end_time": "2025-06-09T11:40:49.356856Z",
     "start_time": "2025-06-09T11:40:47.795631Z"
    }
   },
   "cell_type": "code",
   "source": [
    "try:\n",
    "    booking_id = int(input(\"Booking-ID eingeben: \"))\n",
    "    invoice = invoice_manager.create_invoice_for_existing_booking(booking_id)\n",
    "\n",
    "    print(\"Rechnung erfolgreich erstellt:\")\n",
    "    print(f\"Rechnungs-ID: {invoice.invoice_id}\")\n",
    "    print(f\"Zu Buchung:   {invoice.booking}\")\n",
    "    print(f\"Betrag:       {invoice.total_amount} CHF\")\n",
    "    print(f\"Rechnungsdatum: {invoice.issue_date}\")\n",
    "except Exception as e:\n",
    "    print(f\"Fehler beim Erstellen der Rechnung: {e}\")"
   ],
   "id": "b7d767b03040bcb3",
   "outputs": [
    {
     "ename": "KeyboardInterrupt",
     "evalue": "Interrupted by user",
     "output_type": "error",
     "traceback": [
      "\u001B[31m---------------------------------------------------------------------------\u001B[39m",
      "\u001B[31mKeyboardInterrupt\u001B[39m                         Traceback (most recent call last)",
      "\u001B[36mCell\u001B[39m\u001B[36m \u001B[39m\u001B[32mIn[15]\u001B[39m\u001B[32m, line 2\u001B[39m\n\u001B[32m      1\u001B[39m \u001B[38;5;28;01mtry\u001B[39;00m:\n\u001B[32m----> \u001B[39m\u001B[32m2\u001B[39m     booking_id = \u001B[38;5;28mint\u001B[39m(\u001B[38;5;28;43minput\u001B[39;49m\u001B[43m(\u001B[49m\u001B[33;43m\"\u001B[39;49m\u001B[33;43mBooking-ID eingeben: \u001B[39;49m\u001B[33;43m\"\u001B[39;49m\u001B[43m)\u001B[49m)\n\u001B[32m      3\u001B[39m     invoice = invoice_manager.create_invoice_for_existing_booking(booking_id)\n\u001B[32m      5\u001B[39m     \u001B[38;5;28mprint\u001B[39m(\u001B[33m\"\u001B[39m\u001B[33mRechnung erfolgreich erstellt:\u001B[39m\u001B[33m\"\u001B[39m)\n",
      "\u001B[36mFile \u001B[39m\u001B[32m~\\PycharmProjects\\PythonProjektarbeit\\.venv\\Lib\\site-packages\\ipykernel\\kernelbase.py:1282\u001B[39m, in \u001B[36mKernel.raw_input\u001B[39m\u001B[34m(self, prompt)\u001B[39m\n\u001B[32m   1280\u001B[39m     msg = \u001B[33m\"\u001B[39m\u001B[33mraw_input was called, but this frontend does not support input requests.\u001B[39m\u001B[33m\"\u001B[39m\n\u001B[32m   1281\u001B[39m     \u001B[38;5;28;01mraise\u001B[39;00m StdinNotImplementedError(msg)\n\u001B[32m-> \u001B[39m\u001B[32m1282\u001B[39m \u001B[38;5;28;01mreturn\u001B[39;00m \u001B[38;5;28;43mself\u001B[39;49m\u001B[43m.\u001B[49m\u001B[43m_input_request\u001B[49m\u001B[43m(\u001B[49m\n\u001B[32m   1283\u001B[39m \u001B[43m    \u001B[49m\u001B[38;5;28;43mstr\u001B[39;49m\u001B[43m(\u001B[49m\u001B[43mprompt\u001B[49m\u001B[43m)\u001B[49m\u001B[43m,\u001B[49m\n\u001B[32m   1284\u001B[39m \u001B[43m    \u001B[49m\u001B[38;5;28;43mself\u001B[39;49m\u001B[43m.\u001B[49m\u001B[43m_parent_ident\u001B[49m\u001B[43m[\u001B[49m\u001B[33;43m\"\u001B[39;49m\u001B[33;43mshell\u001B[39;49m\u001B[33;43m\"\u001B[39;49m\u001B[43m]\u001B[49m\u001B[43m,\u001B[49m\n\u001B[32m   1285\u001B[39m \u001B[43m    \u001B[49m\u001B[38;5;28;43mself\u001B[39;49m\u001B[43m.\u001B[49m\u001B[43mget_parent\u001B[49m\u001B[43m(\u001B[49m\u001B[33;43m\"\u001B[39;49m\u001B[33;43mshell\u001B[39;49m\u001B[33;43m\"\u001B[39;49m\u001B[43m)\u001B[49m\u001B[43m,\u001B[49m\n\u001B[32m   1286\u001B[39m \u001B[43m    \u001B[49m\u001B[43mpassword\u001B[49m\u001B[43m=\u001B[49m\u001B[38;5;28;43;01mFalse\u001B[39;49;00m\u001B[43m,\u001B[49m\n\u001B[32m   1287\u001B[39m \u001B[43m\u001B[49m\u001B[43m)\u001B[49m\n",
      "\u001B[36mFile \u001B[39m\u001B[32m~\\PycharmProjects\\PythonProjektarbeit\\.venv\\Lib\\site-packages\\ipykernel\\kernelbase.py:1325\u001B[39m, in \u001B[36mKernel._input_request\u001B[39m\u001B[34m(self, prompt, ident, parent, password)\u001B[39m\n\u001B[32m   1322\u001B[39m \u001B[38;5;28;01mexcept\u001B[39;00m \u001B[38;5;167;01mKeyboardInterrupt\u001B[39;00m:\n\u001B[32m   1323\u001B[39m     \u001B[38;5;66;03m# re-raise KeyboardInterrupt, to truncate traceback\u001B[39;00m\n\u001B[32m   1324\u001B[39m     msg = \u001B[33m\"\u001B[39m\u001B[33mInterrupted by user\u001B[39m\u001B[33m\"\u001B[39m\n\u001B[32m-> \u001B[39m\u001B[32m1325\u001B[39m     \u001B[38;5;28;01mraise\u001B[39;00m \u001B[38;5;167;01mKeyboardInterrupt\u001B[39;00m(msg) \u001B[38;5;28;01mfrom\u001B[39;00m\u001B[38;5;250m \u001B[39m\u001B[38;5;28;01mNone\u001B[39;00m\n\u001B[32m   1326\u001B[39m \u001B[38;5;28;01mexcept\u001B[39;00m \u001B[38;5;167;01mException\u001B[39;00m:\n\u001B[32m   1327\u001B[39m     \u001B[38;5;28mself\u001B[39m.log.warning(\u001B[33m\"\u001B[39m\u001B[33mInvalid Message:\u001B[39m\u001B[33m\"\u001B[39m, exc_info=\u001B[38;5;28;01mTrue\u001B[39;00m)\n",
      "\u001B[31mKeyboardInterrupt\u001B[39m: Interrupted by user"
     ]
    }
   ],
   "execution_count": 15
  },
  {
   "metadata": {},
   "cell_type": "markdown",
   "source": [
    "6.Als Gast möchte ich meine Buchung stornieren, damit ich nicht\n",
    "belastet werde, wenn ich das Zimmer nicht mehr benötige.\n",
    "Hint: Sorgt für die entsprechende Invoice"
   ],
   "id": "920c33002238eb80"
  },
  {
   "metadata": {
    "ExecuteTime": {
     "end_time": "2025-06-09T10:28:41.465262Z",
     "start_time": "2025-06-09T10:28:41.454573Z"
    }
   },
   "cell_type": "code",
   "source": [
    "# Booking-ID auswählen zum anpassen\n",
    "booking_id = 5\n",
    "\n",
    "# Vorherige Daten anzeigen\n",
    "original_booking = next((b for b in booking_manager.show_bookings() if b.booking_id == booking_id), None)\n",
    "\n",
    "if not original_booking:\n",
    "    print(f\"Booking mit ID {booking_id} wurde nicht gefunden.\")\n",
    "else:\n",
    "    print(\"Vorher:\")\n",
    "    print(f\"Guest: {original_booking.guest},\")\n",
    "    print(      f\" Check-In: {original_booking.check_in_date}, Check-Out: {original_booking.check_out_date}\")\n",
    "    print(f\"Storniert?: {original_booking.is_cancelled}, Gesamtbetrag {original_booking.total_amount}\")\n",
    "    #Ausschliessen, dass die Buchung vorher storniert war\n",
    "if not original_booking.is_cancelled:\n",
    "    # Neue Werte definieren\n",
    "    cancelled = True\n",
    "    # Update durchführen\n",
    "    ok = booking_manager.update_booking(\n",
    "        booking_id=booking_id,\n",
    "        check_in_date=original_booking.check_in_date,\n",
    "        check_out_date=original_booking.check_out_date,\n",
    "        is_cancelled=cancelled,\n",
    "        total_amount=original_booking.total_amount,\n",
    "        guest_id=original_booking.guest\n",
    "    )\n",
    "    # Ergebnis anzeigen\n",
    "    if ok:\n",
    "        gelöscht = invoice_dao.delete_invoice_by_booking_id(booking_id)\n",
    "        if gelöscht:\n",
    "            print(f\"Die zugehörige Rechnung zur Buchung {booking_id} wurde gelöscht\")\n",
    "        else:\n",
    "            print(f\"Es wurde keine Rechnung zur Buchung {booking_id} gefunden.\")\n",
    "\n",
    "        updated = next((b for b in booking_manager.show_bookings() if b.booking_id == booking_id), None)\n",
    "        print(\"\\nNachher:\"),\n",
    "        print(f\"Guest-ID: {updated.guest}, Check-In: {updated.check_in_date}, Check-Out: {updated.check_out_date}\")\n",
    "        print(f\"Storniert: {updated.is_cancelled}, {updated.total_amount} CHF\")\n",
    "    else:\n",
    "        print(\"Update fehlgeschlagen.\")\n",
    "else: print(\"Buchung ist bereits storniert.\")"
   ],
   "id": "d16d408412546f0b",
   "outputs": [
    {
     "name": "stdout",
     "output_type": "stream",
     "text": [
      "Vorher:\n",
      "Guest: 5,\n",
      " Check-In: 2025-10-01, Check-Out: 2025-10-07\n",
      "Storniert?: 1, Gesamtbetrag 9000.0\n",
      "Buchung ist bereits storniert.\n"
     ]
    }
   ],
   "execution_count": 25
  },
  {
   "metadata": {},
   "cell_type": "markdown",
   "source": [
    "7. Als Gast möchte ich eine dynamische Preisgestaltung auf der\n",
    "Grundlage der Nachfrage sehen, damit ich ein Zimmer zum besten\n",
    "Preis buchen kann.\n",
    "Hint: Wendet in der Hochsaison höhere und in der Nebensaison\n",
    "niedrigere Tarife an\n"
   ],
   "id": "1de882b1f063526c"
  },
  {
   "metadata": {
    "ExecuteTime": {
     "end_time": "2025-06-09T11:52:12.496023Z",
     "start_time": "2025-06-09T11:52:12.482059Z"
    }
   },
   "cell_type": "code",
   "source": [
    "from datetime import date\n",
    "\n",
    "# beispielzimmer holen\n",
    "rooms = room_manager.show_room_details()\n",
    "room = rooms[2]  # Erstes Zimmer\n",
    "\n",
    "# Zeitraum definieren\n",
    "check_in = date(2025, 7, 10)\n",
    "check_out = date(2025, 7, 15)\n",
    "\n",
    "# Preisberechnung\n",
    "base_price = room.price_per_night\n",
    "num_nights = (check_out - check_in).days\n",
    "total_base_price = base_price * num_nights\n",
    "dynamic_price = room_manager.calculate_dynamic_price(room, check_in, check_out)\n",
    "\n",
    "# Ausgabe\n",
    "print(f\"Zimmernummer: {room.room_number}\")\n",
    "print(f\"Zeitraum: {check_in} bis {check_out} ({num_nights} Nächte)\")\n",
    "print(f\"Basispreis pro Nacht: {base_price:.2f} CHF\")\n",
    "print(f\"Gesamtpreis ohne Dynamik: {total_base_price:.2f} CHF\")\n",
    "print(f\"Dynamischer Gesamtpreis: {dynamic_price:.2f} CHF\")"
   ],
   "id": "b054d81e7ff7fcd7",
   "outputs": [
    {
     "name": "stdout",
     "output_type": "stream",
     "text": [
      "Zimmernummer: 201\n",
      "Zeitraum: 2025-07-10 bis 2025-07-15 (5 Nächte)\n",
      "Basispreis pro Nacht: 650.00 CHF\n",
      "Gesamtpreis ohne Dynamik: 3250.00 CHF\n",
      "Dynamischer Gesamtpreis: 3900.00 CHF\n"
     ]
    }
   ],
   "execution_count": 19
  },
  {
   "metadata": {},
   "cell_type": "markdown",
   "source": "X. Hilfsfunktion Bookings löschen.",
   "id": "9e3b574e706bdd39"
  },
  {
   "metadata": {},
   "cell_type": "code",
   "outputs": [],
   "execution_count": null,
   "source": [
    "# Beispiel: Buchung mit ID 19 löschen\n",
    "booking_id_to_delete = 6\n",
    "#\n",
    "# Vorher: Liste aller Buchungen anzeigen\n",
    "print(\"Buchungen vor dem Löschen:\")\n",
    "for b in booking_manager.show_bookings():\n",
    "    print(f\"Booking-ID: {b.booking_id} | Room-ID: {b.room_id} | Hotel-ID: {b.hotel_id} | Zeitraum: {b.check_in_date} bis {b.check_out_date}\")\n",
    "\n",
    "# Buchung löschen\n",
    "erfolgreich = booking_dao.delete_booking_by_id(booking_id_to_delete)\n",
    "\n",
    "if erfolgreich:\n",
    "    print(f\"\\nBuchung mit ID {booking_id_to_delete} wurde gelöscht.\")\n",
    "else:\n",
    "    print(f\"\\nKeine Buchung mit ID {booking_id_to_delete} gefunden – nichts gelöscht.\")\n",
    "\n",
    "#Liste nochmals anzeigen\n",
    "print(\"\\nBuchungen nach dem Löschen:\")\n",
    "for b in booking_manager.show_bookings():\n",
    "    print(f\"Booking-ID: {b.booking_id} | Room-ID: {b.room_id} | Hotel-ID: {b.hotel_id} | Zeitraum: {b.check_in_date} bis {b.check_out_date}\")"
   ],
   "id": "687e88d97ae2fd12"
  }
 ],
 "metadata": {
  "kernelspec": {
   "display_name": "Python 3",
   "language": "python",
   "name": "python3"
  },
  "language_info": {
   "codemirror_mode": {
    "name": "ipython",
    "version": 2
   },
   "file_extension": ".py",
   "mimetype": "text/x-python",
   "name": "python",
   "nbconvert_exporter": "python",
   "pygments_lexer": "ipython2",
   "version": "2.7.6"
  }
 },
 "nbformat": 4,
 "nbformat_minor": 5
}
