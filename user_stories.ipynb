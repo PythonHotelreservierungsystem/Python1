{
 "cells": [
  {
   "metadata": {
    "ExecuteTime": {
     "end_time": "2025-06-08T11:56:37.075342Z",
     "start_time": "2025-06-08T11:56:37.070819Z"
    }
   },
   "cell_type": "code",
   "source": [
    "import os\n",
    "import sys\n",
    "\n",
    "proj_root = os.path.abspath(os.getcwd())\n",
    "if proj_root not in sys.path:\n",
    "    sys.path.insert(0, proj_root)"
   ],
   "id": "923b55e9423edc3",
   "outputs": [],
   "execution_count": 1
  },
  {
   "metadata": {
    "ExecuteTime": {
     "end_time": "2025-06-08T11:56:37.703113Z",
     "start_time": "2025-06-08T11:56:37.681244Z"
    }
   },
   "cell_type": "code",
   "source": [
    "# Zelle 2: HotelManager importieren und Instanz erstellen\n",
    "\n",
    "from business_logic.hotel_manager import HotelManager\n",
    "from data_access.hotel_data_access import HotelDataAccess\n",
    "from data_access.room_data_access import RoomDataAccess\n",
    "from data_access.booking_data_access import BookingDataAccess\n",
    "from business_logic.room_manager import RoomManager\n",
    "from data_access.facility_data_access import FacilityDataAccess\n",
    "\n",
    "import model\n",
    "from model import hotel\n",
    "\n",
    "# Pfad zur SQLite-Datenbank:\n",
    "db_path = os.path.join(proj_root, \"database\", \"hotel_reservation_sample.db\")\n",
    "\n",
    "# DataAccess-Objekte erzeugen\n",
    "hotel_dao = HotelDataAccess(db_path)\n",
    "room_dao = RoomDataAccess(db_path)\n",
    "booking_dao = BookingDataAccess(db_path)\n",
    "facility_dao = FacilityDataAccess(db_path)\n",
    "\n",
    "# HotelManager mit dem Datenbankpfad erzeugen\n",
    "manager = HotelManager(hotel_data_access=hotel_dao, room_data_access=room_dao)\n",
    "room_manager = RoomManager(room_data_access=room_dao, facility_data_access=facility_dao)"
   ],
   "id": "543201797781bada",
   "outputs": [],
   "execution_count": 2
  },
  {
   "metadata": {},
   "cell_type": "markdown",
   "source": [
    "1. Als Gast möchte ich die verfügbaren Hotels durchsuchen, damit\n",
    "ich dasjenige auswählen kann, welches meinen Wünschen\n",
    "entspricht. Wünsche sind:\n"
   ],
   "id": "bc60409963280a3c"
  },
  {
   "metadata": {},
   "cell_type": "markdown",
   "source": [
    "1.1. Ich möchte alle Hotels in einer Stadt durchsuchen,\n",
    "damit ich das Hotel nach meinem bevorzugten Standort\n",
    "(Stadt) auswählen kann.\n"
   ],
   "id": "7c4b926815a27e7a"
  },
  {
   "metadata": {
    "ExecuteTime": {
     "end_time": "2025-06-08T11:18:00.394775Z",
     "start_time": "2025-06-08T11:18:00.389074Z"
    }
   },
   "cell_type": "code",
   "source": [
    "# DAO auf die DB zeigen lassen\n",
    "dao = HotelDataAccess(\"database/hotel_reservation_sample.db\")\n",
    "manager = HotelManager(dao)\n",
    "\n",
    "# nach Stadt filtern im String\n",
    "hotels_in_WunschStadt = manager.show_hotels_by_city(\"Olten\")\n",
    "\n",
    "if not hotels_in_WunschStadt:\n",
    "    print(\"Keine Hotels in dieser Stadt gefunden.\")\n",
    "else:\n",
    "    for h in hotels_in_WunschStadt:\n",
    "        print(f\"{h.name} – {h.address.street}, {h.address.zip_code}, {h.address.city}\")"
   ],
   "id": "f940e5fd2302a9ef",
   "outputs": [
    {
     "name": "stdout",
     "output_type": "stream",
     "text": [
      "Hotel Teststern – Testweg 5, 4600, Olten\n"
     ]
    }
   ],
   "execution_count": 3
  },
  {
   "metadata": {},
   "cell_type": "markdown",
   "source": [
    "1.2. Ich möchte alle Hotels in einer Stadt nach der\n",
    "Anzahl der Sterne (z.B. mindestens 4 Sterne) durchsuchen."
   ],
   "id": "302efa6d33ffcaea"
  },
  {
   "metadata": {
    "ExecuteTime": {
     "end_time": "2025-06-07T09:27:41.828458Z",
     "start_time": "2025-06-07T09:27:41.823321Z"
    }
   },
   "cell_type": "code",
   "source": [
    "dao = HotelDataAccess(\"database/hotel_reservation_sample.db\")\n",
    "manager = HotelManager(dao)\n",
    "\n",
    "# Stadt und min_stars angeben\n",
    "city = \"Basel\"\n",
    "min_stars = 5\n",
    "\n",
    "# 3) Methode aufrufen\n",
    "result = manager.show_hotels_by_city_and_min_stars(city, min_stars)\n",
    "\n",
    "# 4) Ausgabe, falls Treffer vorhanden\n",
    "if result:\n",
    "    print(f\"Gefundene Hotels in '{city}' mit mindestens {min_stars} Sternen:\")\n",
    "    for h in result:\n",
    "        print(f\"  • {h.name} ({h.stars} Sterne) – {h.address.street}, {h.address.zip_code}\")"
   ],
   "id": "bb02af4fbaab340b",
   "outputs": [
    {
     "name": "stdout",
     "output_type": "stream",
     "text": [
      "Gefundene Hotels in 'Basel' mit mindestens 5 Sternen:\n",
      "  • Les Trois Rois (5 Sterne) – Freiestrasse 10, 4051\n"
     ]
    }
   ],
   "execution_count": 9
  },
  {
   "metadata": {},
   "cell_type": "markdown",
   "source": [
    "1.3. Ich möchte alle Hotels in einer Stadt durchsuchen,\n",
    "die Zimmer haben, die meiner Gästezahl entsprechen (nur 1\n",
    "Zimmer pro Buchung)"
   ],
   "id": "f39a82e6f5d5a7ae"
  },
  {
   "metadata": {
    "ExecuteTime": {
     "end_time": "2025-06-07T09:27:41.860632Z",
     "start_time": "2025-06-07T09:27:41.854399Z"
    }
   },
   "cell_type": "code",
   "source": [
    "# 1) DAO-Objekte erstellen\n",
    "dao = HotelDataAccess(\"database/hotel_reservation_sample.db\")\n",
    "room_dao = RoomDataAccess(\"database/hotel_reservation_sample.db\")\n",
    "\n",
    "# 2) HotelManager mit beiden DAOs initialisieren\n",
    "manager = HotelManager(dao, room_dao)\n",
    "\n",
    "# 3) Stadt und Gästeanzahl angeben\n",
    "city = \"zürich\"\n",
    "guest_count = 1\n",
    "\n",
    "# 4) Methode aufrufen\n",
    "result = manager.find_hotels_by_city_and_guests(city, guest_count)\n",
    "\n",
    "# 5) Ausgabe, falls Treffer vorhanden\n",
    "if result:\n",
    "    print(f\"Gefundene Hotels in '{city}' mit Zimmern für mindestens {guest_count} Gäste:\")\n",
    "    for h in result:\n",
    "        print(f\"  • {h.name} – {h.address.street}, {h.address.zip_code}\")\n",
    "else:\n",
    "    print(f\"Keine Hotels in '{city}' mit Zimmern für mindestens {guest_count} Gäste gefunden.\")"
   ],
   "id": "b6bddd967c5f1fd1",
   "outputs": [
    {
     "name": "stdout",
     "output_type": "stream",
     "text": [
      "Gefundene Hotels in 'zürich' mit Zimmern für mindestens 1 Gäste:\n",
      "  • Hotel Baur au Lac – Bahnhofstrasse 1, 8001\n"
     ]
    }
   ],
   "execution_count": 10
  },
  {
   "metadata": {},
   "cell_type": "markdown",
   "source": [
    "1.4. Ich möchte alle Hotels in einer Stadt durchsuchen,\n",
    "die während meines Aufenthaltes (\"von\" (check_in_date)\n",
    "und \"bis\" (check_out_date)) Zimmer zur Verfügung haben,\n",
    "damit ich nur relevante Ergebnisse sehe."
   ],
   "id": "c42864b220eb1c98"
  },
  {
   "metadata": {
    "ExecuteTime": {
     "end_time": "2025-06-07T09:27:41.886399Z",
     "start_time": "2025-06-07T09:27:41.879634Z"
    }
   },
   "cell_type": "code",
   "source": [
    "from datetime import date\n",
    "\n",
    "# Abfrageparameter definieren\n",
    "city = \"Genève\"                 ## Beispiel Buchung in DB in Genève ist von 2025, 8, 20 bis  2025, 8, 22\n",
    "check_in = date(2025, 8, 1)\n",
    "check_out = date(2025, 8, 17)\n",
    "\n",
    "# Verfügbare Hotels abrufen\n",
    "verfuegbare_hotels = manager.find_available_hotels_by_city_and_dates(city, check_in, check_out, booking_dao)\n",
    "\n",
    "# Ausgabe der Ergebnisse\n",
    "if verfuegbare_hotels:\n",
    "    print(f\"Verfügbare Hotels in '{city}' vom {check_in} bis {check_out}:\")\n",
    "    for h in verfuegbare_hotels:\n",
    "        print(f\"{h.name} – {h.address.street}, {h.address.zip_code}\")\n",
    "else:\n",
    "    print(f\"Keine verfügbaren Hotels in '{city}' vom {check_in} bis {check_out}.\")"
   ],
   "id": "3fd4ea905d122662",
   "outputs": [
    {
     "name": "stdout",
     "output_type": "stream",
     "text": [
      "Verfügbare Hotels in 'Genève' vom 2025-08-01 bis 2025-08-17:\n",
      "Four Seasons Hôtel des Bergues – Rue du Rhône 42, 1204\n"
     ]
    }
   ],
   "execution_count": 11
  },
  {
   "metadata": {},
   "cell_type": "markdown",
   "source": [
    "1.5. Ich möchte Wünsche kombinieren können, z.B. die\n",
    "verfügbaren Zimmer zusammen mit meiner Gästezahl und der\n",
    "mindest Anzahl Sterne.\n"
   ],
   "id": "69d8718a10b51d88"
  },
  {
   "metadata": {
    "ExecuteTime": {
     "end_time": "2025-06-07T09:27:41.916981Z",
     "start_time": "2025-06-07T09:27:41.910543Z"
    }
   },
   "cell_type": "code",
   "source": [
    "from datetime import datetime\n",
    "\n",
    "# Parameter definieren --> Hotel in Genf hat 5 Sterne, Room für max 4 Leute uund booking von 2025-8-20 - 2025-8-22\n",
    "stadt = \"Genève\"\n",
    "check_in = datetime(2025, 8, 23)\n",
    "check_out = datetime(2025, 8, 24)\n",
    "min_sterne = 4\n",
    "gaesteanzahl = 2\n",
    "\n",
    "# Methode aufrufen\n",
    "verfuegbare_hotels = manager.find_hotels_by_criteria(\n",
    "    city=stadt,\n",
    "    check_in_date=check_in,\n",
    "    check_out_date=check_out,\n",
    "    min_stars=min_sterne,\n",
    "    guest_count=gaesteanzahl,\n",
    "    booking_da=booking_dao\n",
    ")\n",
    "\n",
    "# Ausgabe\n",
    "if verfuegbare_hotels:\n",
    "    print(f\"Verfügbare Hotels in '{stadt}' vom {check_in.date()} bis {check_out.date()} (mind. {min_sterne} Sterne, für {gaesteanzahl} Gäste):\")\n",
    "    for hotel in verfuegbare_hotels:\n",
    "        print(f\"  • {hotel.name} – {hotel.address.street}, {hotel.address.zip_code} {hotel.address.city}\")\n",
    "else:\n",
    "    print(f\"Keine passenden Hotels in '{stadt}' für die angegebenen Kriterien gefunden.\")"
   ],
   "id": "c079180f39841f2",
   "outputs": [
    {
     "name": "stdout",
     "output_type": "stream",
     "text": [
      "Verfügbare Hotels in 'Genève' vom 2025-08-23 bis 2025-08-24 (mind. 4 Sterne, für 2 Gäste):\n",
      "  • Four Seasons Hôtel des Bergues – Rue du Rhône 42, 1204 Genève\n"
     ]
    }
   ],
   "execution_count": 12
  },
  {
   "metadata": {},
   "cell_type": "markdown",
   "source": [
    "1.6. Ich möchte die folgenden Informationen pro Hotel\n",
    "sehen: Name, Adresse, Anzahl der Sterne."
   ],
   "id": "e5ce9c78d5ea4544"
  },
  {
   "metadata": {
    "ExecuteTime": {
     "end_time": "2025-06-08T11:44:10.856303Z",
     "start_time": "2025-06-08T11:44:10.848941Z"
    }
   },
   "cell_type": "code",
   "source": [
    "infos = manager.show_all_hotel_infos()\n",
    "\n",
    "print(\"Verfügbare Hotels:\")\n",
    "for eintrag in infos:\n",
    "    print(\" •\", eintrag)\n"
   ],
   "id": "b8cc7d4069d24d7d",
   "outputs": [
    {
     "name": "stdout",
     "output_type": "stream",
     "text": [
      "Verfügbare Hotels:\n",
      " • Hotel Baur au Lac – Bahnhofstrasse 1, 8001 Zürich (5 Sterne)\n",
      " • Four Seasons Hôtel des Bergues – Rue du Rhône 42, 1204 Genève (5 Sterne)\n",
      " • Grand Hotel National – Pilatusstrasse 15, 6003 Luzern (5 Sterne)\n",
      " • Bellevue Palace – Marktgasse 59, 3011 Bern (5 Sterne)\n",
      " • Les Trois Rois – Freiestrasse 10, 4051 Basel (5 Sterne)\n",
      " • Hotel Teststern – Testweg 5, 4600 Olten (4 Sterne)\n",
      " • Hotel Silberbein – Hauptstrasse 10, 4657 Dulliken (2 Sterne)\n"
     ]
    }
   ],
   "execution_count": 6
  },
  {
   "metadata": {},
   "cell_type": "markdown",
   "source": [
    "2. Als Gast möchte ich Details zu verschiedenen Zimmertypen\n",
    "(Single, Double, Suite usw.), die in einem Hotel verfügbar\n",
    "sind, sehen, einschliesslich der maximalen Anzahl von Gästen\n",
    "für dieses Zimmer, Beschreibung, Preis und Ausstattung, um eine\n",
    "fundierte Entscheidung zu treffen."
   ],
   "id": "c2c452ff8dc364c8"
  },
  {
   "metadata": {},
   "cell_type": "markdown",
   "source": [
    "2.1. Ich möchte die folgenden Informationen pro Zimmer\n",
    "sehen: Zimmertyp, max. Anzahl der Gäste, Beschreibung,\n",
    "Ausstattung, Preis pro Nacht und Gesamtpreis.\n"
   ],
   "id": "1e2fcabc0ae23c02"
  },
  {
   "metadata": {
    "ExecuteTime": {
     "end_time": "2025-06-08T11:57:03.786839Z",
     "start_time": "2025-06-08T11:57:03.524010Z"
    }
   },
   "cell_type": "code",
   "source": [
    "from datetime import date\n",
    "\n",
    "# Optional: Check-in und Check-out setzen (für Gesamtpreisberechnung)\n",
    "check_in = date(2025, 7, 11)\n",
    "check_out = date(2025, 7, 15)\n",
    "\n",
    "# Zimmerdetails abrufen\n",
    "room_infos = room_manager.show_room_details()\n",
    "\n",
    "# Ausgabe\n",
    "for room in room_infos:\n",
    "    ausstattung = \", \".join([f.facility_name for f in room.facilities])\n",
    "\n",
    "    print(f\"Zimmer {room.room_number} – {room.room_type.description}\")\n",
    "    print(f\"  Max. Gäste     : {room.room_type.max_guests}\")\n",
    "    print(f\"  Ausstattung    : {ausstattung if ausstattung else 'Keine'}\")\n",
    "\n",
    "    # Preis pro Nacht\n",
    "    print(f\"  Preis pro Nacht: {room.price_per_night:.2f} CHF\")\n",
    "\n",
    "    # Optional: Gesamtpreis berechnen, wenn Check-in/Check-out gesetzt\n",
    "    if check_in and check_out and check_out > check_in:\n",
    "        nächte = (check_out - check_in).days\n",
    "        gesamtpreis = room.price_per_night * nächte\n",
    "        print(f\"  Gesamtpreis    : {gesamtpreis:.2f} CHF für {nächte} Nächte\")\n",
    "\n",
    "    print(\"-\" * 60)"
   ],
   "id": "1436589f1b70f417",
   "outputs": [
    {
     "ename": "ValueError",
     "evalue": "Ungültige PLZ",
     "output_type": "error",
     "traceback": [
      "\u001B[31m---------------------------------------------------------------------------\u001B[39m",
      "\u001B[31mValueError\u001B[39m                                Traceback (most recent call last)",
      "\u001B[36mCell\u001B[39m\u001B[36m \u001B[39m\u001B[32mIn[4]\u001B[39m\u001B[32m, line 8\u001B[39m\n\u001B[32m      5\u001B[39m check_out = date(\u001B[32m2025\u001B[39m, \u001B[32m7\u001B[39m, \u001B[32m15\u001B[39m)\n\u001B[32m      7\u001B[39m \u001B[38;5;66;03m# Zimmerdetails abrufen\u001B[39;00m\n\u001B[32m----> \u001B[39m\u001B[32m8\u001B[39m room_infos = \u001B[43mroom_manager\u001B[49m\u001B[43m.\u001B[49m\u001B[43mshow_room_details\u001B[49m\u001B[43m(\u001B[49m\u001B[43m)\u001B[49m\n\u001B[32m     10\u001B[39m \u001B[38;5;66;03m# Ausgabe\u001B[39;00m\n\u001B[32m     11\u001B[39m \u001B[38;5;28;01mfor\u001B[39;00m room \u001B[38;5;129;01min\u001B[39;00m room_infos:\n",
      "\u001B[36mFile \u001B[39m\u001B[32m~\\PycharmProjects\\PythonProjektarbeit\\business_logic\\room_manager.py:17\u001B[39m, in \u001B[36mRoomManager.show_room_details\u001B[39m\u001B[34m(self)\u001B[39m\n\u001B[32m     16\u001B[39m \u001B[38;5;28;01mdef\u001B[39;00m\u001B[38;5;250m \u001B[39m\u001B[34mshow_room_details\u001B[39m(\u001B[38;5;28mself\u001B[39m) -> \u001B[38;5;28mlist\u001B[39m[Room]:\n\u001B[32m---> \u001B[39m\u001B[32m17\u001B[39m     rooms = \u001B[38;5;28;43mself\u001B[39;49m\u001B[43m.\u001B[49m\u001B[43m__room_da\u001B[49m\u001B[43m.\u001B[49m\u001B[43mshow_room_details\u001B[49m\u001B[43m(\u001B[49m\u001B[43m)\u001B[49m\n\u001B[32m     18\u001B[39m     \u001B[38;5;28;01mfor\u001B[39;00m room \u001B[38;5;129;01min\u001B[39;00m rooms:\n\u001B[32m     19\u001B[39m         \u001B[38;5;66;03m# Hole die Ausstattung zu jedem Zimmer\u001B[39;00m\n\u001B[32m     20\u001B[39m         room.facilities = \u001B[38;5;28mself\u001B[39m.__facility_da.get_facilities_by_room_id(room.room_id)\n",
      "\u001B[36mFile \u001B[39m\u001B[32m~\\PycharmProjects\\PythonProjektarbeit\\data_access\\room_data_access.py:67\u001B[39m, in \u001B[36mRoomDataAccess.show_room_details\u001B[39m\u001B[34m(self)\u001B[39m\n\u001B[32m     63\u001B[39m return_list = []\n\u001B[32m     65\u001B[39m \u001B[38;5;28;01mfor\u001B[39;00m room_id, room_number, price_per_night, type_id, description, max_guests, hotel_id, name, stars, address_id \u001B[38;5;129;01min\u001B[39;00m rooms:\n\u001B[32m     66\u001B[39m     \u001B[38;5;66;03m# ✅ Address-Objekt laden:\u001B[39;00m\n\u001B[32m---> \u001B[39m\u001B[32m67\u001B[39m     address = \u001B[38;5;28;43mself\u001B[39;49m\u001B[43m.\u001B[49m\u001B[43m__address_da\u001B[49m\u001B[43m.\u001B[49m\u001B[43mshow_address_by_id\u001B[49m\u001B[43m(\u001B[49m\u001B[43maddress_id\u001B[49m\u001B[43m)\u001B[49m\n\u001B[32m     69\u001B[39m     \u001B[38;5;66;03m# ✅ Hotel mit Address-Objekt erstellen:\u001B[39;00m\n\u001B[32m     70\u001B[39m     hotel = Hotel(hotel_id, name, stars, address)\n",
      "\u001B[36mFile \u001B[39m\u001B[32m~\\PycharmProjects\\PythonProjektarbeit\\data_access\\address_data_access.py:48\u001B[39m, in \u001B[36mAddressDataAccess.show_address_by_id\u001B[39m\u001B[34m(self, address_id)\u001B[39m\n\u001B[32m     46\u001B[39m \u001B[38;5;28;01mif\u001B[39;00m result:\n\u001B[32m     47\u001B[39m     (address_id,street,city,zip_code) = result\n\u001B[32m---> \u001B[39m\u001B[32m48\u001B[39m     \u001B[38;5;28;01mreturn\u001B[39;00m \u001B[43mmodel\u001B[49m\u001B[43m.\u001B[49m\u001B[43mAddress\u001B[49m\u001B[43m(\u001B[49m\n\u001B[32m     49\u001B[39m \u001B[43m        \u001B[49m\u001B[43maddress_id\u001B[49m\u001B[43m,\u001B[49m\u001B[43mstreet\u001B[49m\u001B[43m,\u001B[49m\u001B[43mcity\u001B[49m\u001B[43m,\u001B[49m\u001B[43mzip_code\u001B[49m\u001B[43m)\u001B[49m\n\u001B[32m     50\u001B[39m \u001B[38;5;28;01melse\u001B[39;00m:\n\u001B[32m     51\u001B[39m     \u001B[38;5;28;01mreturn\u001B[39;00m \u001B[38;5;28;01mNone\u001B[39;00m\n",
      "\u001B[36mFile \u001B[39m\u001B[32m~\\PycharmProjects\\PythonProjektarbeit\\model\\address.py:6\u001B[39m, in \u001B[36mAddress.__init__\u001B[39m\u001B[34m(self, address_id, street, city, zip_code)\u001B[39m\n\u001B[32m      4\u001B[39m \u001B[38;5;28mself\u001B[39m.street = street\n\u001B[32m      5\u001B[39m \u001B[38;5;28mself\u001B[39m.city = city\n\u001B[32m----> \u001B[39m\u001B[32m6\u001B[39m \u001B[38;5;28;43mself\u001B[39;49m\u001B[43m.\u001B[49m\u001B[43mzip_code\u001B[49m = zip_code\n\u001B[32m      8\u001B[39m \u001B[38;5;28;01mif\u001B[39;00m \u001B[38;5;129;01mnot\u001B[39;00m \u001B[38;5;28misinstance\u001B[39m(address_id, \u001B[38;5;28mint\u001B[39m):\n\u001B[32m      9\u001B[39m     \u001B[38;5;28;01mraise\u001B[39;00m \u001B[38;5;167;01mValueError\u001B[39;00m(\u001B[33m\"\u001B[39m\u001B[33maddress_id muss eine Zahl sein\u001B[39m\u001B[33m\"\u001B[39m)\n",
      "\u001B[36mFile \u001B[39m\u001B[32m~\\PycharmProjects\\PythonProjektarbeit\\model\\address.py:50\u001B[39m, in \u001B[36mAddress.zip_code\u001B[39m\u001B[34m(self, value)\u001B[39m\n\u001B[32m     48\u001B[39m     \u001B[38;5;28mself\u001B[39m.__zip_code = value\n\u001B[32m     49\u001B[39m \u001B[38;5;28;01melse\u001B[39;00m:\n\u001B[32m---> \u001B[39m\u001B[32m50\u001B[39m     \u001B[38;5;28;01mraise\u001B[39;00m \u001B[38;5;167;01mValueError\u001B[39;00m(\u001B[33m\"\u001B[39m\u001B[33mUngültige PLZ\u001B[39m\u001B[33m\"\u001B[39m)\n",
      "\u001B[31mValueError\u001B[39m: Ungültige PLZ"
     ]
    }
   ],
   "execution_count": 4
  },
  {
   "metadata": {},
   "cell_type": "markdown",
   "source": [
    "2.2. Ich möchte nur die verfügbaren Zimmer sehen, sofern\n",
    "ich meinen Aufenthalt (von – bis) spezifiziert habe.\n"
   ],
   "id": "ae0a74410f1614e1"
  },
  {
   "metadata": {},
   "cell_type": "code",
   "outputs": [],
   "execution_count": null,
   "source": [
    "from datetime import date\n",
    "\n",
    "check_in = date(2025, 8, 20)\n",
    "check_out = date(2025, 8, 22)\n",
    "\n",
    "verfuegbare_zimmer = room_manager.find_available_rooms_by_dates(\n",
    "    check_in_date=check_in,\n",
    "    check_out_date=check_out,\n",
    "    booking_dao=booking_dao\n",
    ")\n",
    "\n",
    "for room in verfuegbare_zimmer:\n",
    "    ausstattung = \", \".join([f.facility_name for f in room.facilities])\n",
    "    print(f\"Zimmer {room.room_number} – {room.room_type.description}\")\n",
    "    print(f\"  Hotel: {room.hotel.name}, Adresse: {room.hotel.address.street} {room.hotel.address.city}\")\n",
    "    print(f\"  Max. Gäste     : {room.room_type.max_guests}\")\n",
    "    print(f\"  Ausstattung    : {ausstattung if ausstattung else 'Keine'}\")\n",
    "    print(f\"  Preis pro Nacht: {room.price_per_night:.2f} CHF\")\n",
    "\n",
    "    # Optional: Gesamtpreis berechnen\n",
    "    if check_in and check_out and check_out > check_in:\n",
    "        nächte = (check_out - check_in).days\n",
    "        gesamtpreis = room.price_per_night * nächte\n",
    "        print(f\"  Gesamtpreis    : {gesamtpreis:.2f} CHF für {nächte} Nächte\")\n",
    "\n",
    "    print(\"-\" * 60)"
   ],
   "id": "b4fbaccfa0f0181f"
  },
  {
   "metadata": {},
   "cell_type": "markdown",
   "source": [
    "3. Als Admin des Buchungssystems möchte ich die Möglichkeit haben,\n",
    "Hotelinformationen zu pflegen, um aktuelle Informationen im\n",
    "System zu haben."
   ],
   "id": "740afd952833d3e3"
  },
  {
   "metadata": {},
   "cell_type": "markdown",
   "source": "3.1. Ich möchte neue Hotels zum System hinzufügen\n",
   "id": "4e5982180e16a311"
  },
  {
   "metadata": {
    "ExecuteTime": {
     "end_time": "2025-06-08T11:56:44.549879Z",
     "start_time": "2025-06-08T11:56:44.527638Z"
    }
   },
   "cell_type": "code",
   "source": [
    "from data_access.address_data_access import AddressDataAccess\n",
    "from model import Address\n",
    "\n",
    "# AddressDataAccess initialisieren\n",
    "address_dao = AddressDataAccess(db_path)\n",
    "\n",
    "# Adresse anlegen\n",
    "adresse = Address(\n",
    "    address_id=0,  # Platzhalter, wird von DB ersetzt\n",
    "    street=\"Lindenweg 8\",\n",
    "    city=\"Däniken\",\n",
    "    zip_code=3012\n",
    ")\n",
    "# Hotel erstellen\n",
    "try:\n",
    "    neues_hotel = manager.create_new_hotel(\n",
    "        name=\"Hotel Bernblick\",\n",
    "        stars=3,\n",
    "        address=adresse,\n",
    "        address_da=address_dao\n",
    "    )\n",
    "    print(\"✅ Hotel erfolgreich erstellt:\")\n",
    "    print(f\"Hotel-ID: {neues_hotel.hotel_id}\")\n",
    "    print(f\"Address-ID: {neues_hotel.address.address_id}\")\n",
    "    print(f\"{neues_hotel.name} – {neues_hotel.address.street}, {neues_hotel.address.zip_code} {neues_hotel.address.city}\")\n",
    "except Exception as e:\n",
    "    print(\"❌ Fehler beim Erstellen des Hotels:\", e)"
   ],
   "id": "83f89aeab753baf",
   "outputs": [
    {
     "name": "stdout",
     "output_type": "stream",
     "text": [
      "✅ Hotel erfolgreich erstellt:\n",
      "Hotel-ID: 16\n",
      "Address-ID: 8\n",
      "Hotel Bernblick – Lindenweg 8, 3012 Däniken\n"
     ]
    }
   ],
   "execution_count": 3
  }
 ],
 "metadata": {
  "kernelspec": {
   "display_name": "Python 3",
   "language": "python",
   "name": "python3"
  },
  "language_info": {
   "codemirror_mode": {
    "name": "ipython",
    "version": 2
   },
   "file_extension": ".py",
   "mimetype": "text/x-python",
   "name": "python",
   "nbconvert_exporter": "python",
   "pygments_lexer": "ipython2",
   "version": "2.7.6"
  }
 },
 "nbformat": 4,
 "nbformat_minor": 5
}
