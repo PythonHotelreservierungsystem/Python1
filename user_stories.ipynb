{
 "cells": [
  {
   "metadata": {
    "ExecuteTime": {
     "end_time": "2025-06-06T19:09:08.768228Z",
     "start_time": "2025-06-06T19:09:08.763844Z"
    }
   },
   "cell_type": "code",
   "source": [
    "import os\n",
    "import sys\n",
    "\n",
    "proj_root = os.path.abspath(os.getcwd())\n",
    "if proj_root not in sys.path:\n",
    "    sys.path.insert(0, proj_root)"
   ],
   "id": "923b55e9423edc3",
   "outputs": [],
   "execution_count": 1
  },
  {
   "metadata": {
    "ExecuteTime": {
     "end_time": "2025-06-06T19:09:10.581799Z",
     "start_time": "2025-06-06T19:09:10.549905Z"
    }
   },
   "cell_type": "code",
   "source": [
    "# Zelle 2: HotelManager importieren und Instanz erstellen\n",
    "\n",
    "from business_logic.hotel_manager import HotelManager\n",
    "from data_access.hotel_data_access import HotelDataAccess\n",
    "from data_access.room_data_access import RoomDataAccess\n",
    "from data_access.booking_data_access import BookingDataAccess\n",
    "\n",
    "import model\n",
    "from model import hotel\n",
    "\n",
    "# Pfad zur SQLite-Datenbank:\n",
    "db_path = os.path.join(proj_root, \"database\", \"hotel_reservation_sample.db\")\n",
    "\n",
    "# DataAccess-Objekte erzeugen\n",
    "hotel_dao = HotelDataAccess(db_path)\n",
    "room_dao = RoomDataAccess(db_path)\n",
    "booking_dao = BookingDataAccess(db_path)\n",
    "\n",
    "# HotelManager mit dem Datenbankpfad erzeugen\n",
    "manager = HotelManager(hotel_data_access=hotel_dao, room_data_access=room_dao)"
   ],
   "id": "65e7ed9e74b2e6ba",
   "outputs": [],
   "execution_count": 2
  },
  {
   "metadata": {},
   "cell_type": "markdown",
   "source": [
    "1. Als Gast möchte ich die verfügbaren Hotels durchsuchen, damit\n",
    "ich dasjenige auswählen kann, welches meinen Wünschen\n",
    "entspricht. Wünsche sind:\n"
   ],
   "id": "bc60409963280a3c"
  },
  {
   "metadata": {},
   "cell_type": "markdown",
   "source": [
    "1.1. Ich möchte alle Hotels in einer Stadt durchsuchen,\n",
    "damit ich das Hotel nach meinem bevorzugten Standort\n",
    "(Stadt) auswählen kann.\n"
   ],
   "id": "7c4b926815a27e7a"
  },
  {
   "metadata": {
    "ExecuteTime": {
     "end_time": "2025-06-06T15:39:15.775393Z",
     "start_time": "2025-06-06T15:39:15.768171Z"
    }
   },
   "cell_type": "code",
   "source": [
    "# DAO auf die DB zeigen lassen\n",
    "dao = HotelDataAccess(\"database/hotel_reservation_sample.db\")\n",
    "manager = HotelManager(dao)\n",
    "\n",
    "# nach Stadt filtern im String\n",
    "hotels_in_WunschStadt = manager.show_hotels_by_city(\"Basel\")\n",
    "\n",
    "if not hotels_in_WunschStadt:\n",
    "    print(\"Keine Hotels in dieser Stadt gefunden.\")\n",
    "else:\n",
    "    for h in hotels_in_WunschStadt:\n",
    "        print(f\"{h.name} – {h.address.street}, {h.address.zip_code}, {h.address.city}\")"
   ],
   "id": "a65026be23045a64",
   "outputs": [
    {
     "name": "stdout",
     "output_type": "stream",
     "text": [
      "Les Trois Rois – Freiestrasse 10, 4051, Basel\n"
     ]
    }
   ],
   "execution_count": 4
  },
  {
   "metadata": {},
   "cell_type": "markdown",
   "source": [
    "1.2. Ich möchte alle Hotels in einer Stadt nach der\n",
    "Anzahl der Sterne (z.B. mindestens 4 Sterne) durchsuchen."
   ],
   "id": "302efa6d33ffcaea"
  },
  {
   "metadata": {
    "ExecuteTime": {
     "end_time": "2025-06-06T15:39:17.517728Z",
     "start_time": "2025-06-06T15:39:17.511979Z"
    }
   },
   "cell_type": "code",
   "source": [
    "dao = HotelDataAccess(\"database/hotel_reservation_sample.db\")\n",
    "manager = HotelManager(dao)\n",
    "\n",
    "# Stadt und min_stars angeben\n",
    "city = \"Basel\"\n",
    "min_stars = 5\n",
    "\n",
    "# 3) Methode aufrufen\n",
    "result = manager.show_hotels_by_city_and_min_stars(city, min_stars)\n",
    "\n",
    "# 4) Ausgabe, falls Treffer vorhanden\n",
    "if result:\n",
    "    print(f\"Gefundene Hotels in '{city}' mit mindestens {min_stars} Sternen:\")\n",
    "    for h in result:\n",
    "        print(f\"  • {h.name} ({h.stars} Sterne) – {h.address.street}, {h.address.zip_code}\")"
   ],
   "id": "bb02af4fbaab340b",
   "outputs": [
    {
     "name": "stdout",
     "output_type": "stream",
     "text": [
      "Gefundene Hotels in 'Basel' mit mindestens 5 Sternen:\n",
      "  • Les Trois Rois (5 Sterne) – Freiestrasse 10, 4051\n"
     ]
    }
   ],
   "execution_count": 5
  },
  {
   "metadata": {},
   "cell_type": "markdown",
   "source": [
    "1.3. Ich möchte alle Hotels in einer Stadt durchsuchen,\n",
    "die Zimmer haben, die meiner Gästezahl entsprechen (nur 1\n",
    "Zimmer pro Buchung)"
   ],
   "id": "f39a82e6f5d5a7ae"
  },
  {
   "metadata": {
    "ExecuteTime": {
     "end_time": "2025-06-06T15:39:20.023613Z",
     "start_time": "2025-06-06T15:39:20.017018Z"
    }
   },
   "cell_type": "code",
   "source": [
    "# 1) DAO-Objekte erstellen\n",
    "dao = HotelDataAccess(\"database/hotel_reservation_sample.db\")\n",
    "room_dao = RoomDataAccess(\"database/hotel_reservation_sample.db\")\n",
    "\n",
    "# 2) HotelManager mit beiden DAOs initialisieren\n",
    "manager = HotelManager(dao, room_dao)\n",
    "\n",
    "# 3) Stadt und Gästeanzahl angeben\n",
    "city = \"zürich\"\n",
    "guest_count = 1\n",
    "\n",
    "# 4) Methode aufrufen\n",
    "result = manager.find_hotels_by_city_and_guests(city, guest_count)\n",
    "\n",
    "# 5) Ausgabe, falls Treffer vorhanden\n",
    "if result:\n",
    "    print(f\"Gefundene Hotels in '{city}' mit Zimmern für mindestens {guest_count} Gäste:\")\n",
    "    for h in result:\n",
    "        print(f\"  • {h.name} – {h.address.street}, {h.address.zip_code}\")\n",
    "else:\n",
    "    print(f\"Keine Hotels in '{city}' mit Zimmern für mindestens {guest_count} Gäste gefunden.\")"
   ],
   "id": "b6bddd967c5f1fd1",
   "outputs": [
    {
     "name": "stdout",
     "output_type": "stream",
     "text": [
      "Gefundene Hotels in 'zürich' mit Zimmern für mindestens 1 Gäste:\n",
      "  • Hotel Baur au Lac – Bahnhofstrasse 1, 8001\n"
     ]
    }
   ],
   "execution_count": 6
  },
  {
   "metadata": {},
   "cell_type": "markdown",
   "source": [
    "1.4. Ich möchte alle Hotels in einer Stadt durchsuchen,\n",
    "die während meines Aufenthaltes (\"von\" (check_in_date)\n",
    "und \"bis\" (check_out_date)) Zimmer zur Verfügung haben,\n",
    "damit ich nur relevante Ergebnisse sehe."
   ],
   "id": "c42864b220eb1c98"
  },
  {
   "metadata": {
    "ExecuteTime": {
     "end_time": "2025-06-06T19:09:16.374028Z",
     "start_time": "2025-06-06T19:09:16.367470Z"
    }
   },
   "cell_type": "code",
   "source": [
    "from datetime import date\n",
    "\n",
    "# Abfrageparameter definieren\n",
    "city = \"Genève\"                 ## Beispiel Buchung in DB in Genève ist von 2025, 8, 20 bis  2025, 8, 22\n",
    "check_in = date(2025, 8, 1)\n",
    "check_out = date(2025, 8, 17)\n",
    "\n",
    "# Verfügbare Hotels abrufen\n",
    "verfuegbare_hotels = manager.find_available_hotels_by_city_and_dates(city, check_in, check_out, booking_dao)\n",
    "\n",
    "# Ausgabe der Ergebnisse\n",
    "if verfuegbare_hotels:\n",
    "    print(f\"Verfügbare Hotels in '{city}' vom {check_in} bis {check_out}:\")\n",
    "    for h in verfuegbare_hotels:\n",
    "        print(f\"{h.name} – {h.address.street}, {h.address.zip_code}\")\n",
    "else:\n",
    "    print(f\"Keine verfügbaren Hotels in '{city}' vom {check_in} bis {check_out}.\")"
   ],
   "id": "3fd4ea905d122662",
   "outputs": [
    {
     "name": "stdout",
     "output_type": "stream",
     "text": [
      "Verfügbare Hotels in 'Genève' vom 2025-08-01 bis 2025-08-17:\n",
      "Four Seasons Hôtel des Bergues – Rue du Rhône 42, 1204\n"
     ]
    }
   ],
   "execution_count": 3
  },
  {
   "metadata": {},
   "cell_type": "markdown",
   "source": [
    "1.5. Ich möchte Wünsche kombinieren können, z.B. die\n",
    "verfügbaren Zimmer zusammen mit meiner Gästezahl und der\n",
    "mindest Anzahl Sterne.\n"
   ],
   "id": "69d8718a10b51d88"
  },
  {
   "metadata": {},
   "cell_type": "code",
   "outputs": [],
   "execution_count": null,
   "source": "",
   "id": "c079180f39841f2"
  }
 ],
 "metadata": {
  "kernelspec": {
   "display_name": "Python 3",
   "language": "python",
   "name": "python3"
  },
  "language_info": {
   "codemirror_mode": {
    "name": "ipython",
    "version": 2
   },
   "file_extension": ".py",
   "mimetype": "text/x-python",
   "name": "python",
   "nbconvert_exporter": "python",
   "pygments_lexer": "ipython2",
   "version": "2.7.6"
  }
 },
 "nbformat": 4,
 "nbformat_minor": 5
}
