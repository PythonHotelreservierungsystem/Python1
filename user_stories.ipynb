{
 "cells": [
  {
   "metadata": {
    "ExecuteTime": {
     "end_time": "2025-06-04T23:14:51.559020Z",
     "start_time": "2025-06-04T23:14:51.555438Z"
    }
   },
   "cell_type": "code",
   "source": [
    "import os\n",
    "import sys\n",
    "\n",
    "proj_root = os.path.abspath(os.getcwd())\n",
    "if proj_root not in sys.path:\n",
    "    sys.path.insert(0, proj_root)"
   ],
   "id": "923b55e9423edc3",
   "outputs": [],
   "execution_count": 26
  },
  {
   "metadata": {
    "ExecuteTime": {
     "end_time": "2025-06-04T23:14:51.577050Z",
     "start_time": "2025-06-04T23:14:51.573154Z"
    }
   },
   "cell_type": "code",
   "source": [
    "# Zelle 2: HotelManager importieren und Instanz erstellen\n",
    "\n",
    "from business_logic.hotel_manager import HotelManager\n",
    "from data_access.hotel_data_access import HotelDataAccess\n",
    "\n",
    "import model\n",
    "from model import hotel\n",
    "\n",
    "# Pfad zur SQLite-Datenbank:\n",
    "db_path = os.path.join(proj_root, \"database\", \"hotel_reservation_sample.db\")\n",
    "\n",
    "# HotelManager mit dem Datenbankpfad erzeugen\n",
    "manager = HotelManager(HotelDataAccess(db_path))"
   ],
   "id": "65e7ed9e74b2e6ba",
   "outputs": [],
   "execution_count": 27
  },
  {
   "metadata": {},
   "cell_type": "markdown",
   "source": [
    "1. Als Gast möchte ich die verfügbaren Hotels durchsuchen, damit\n",
    "ich dasjenige auswählen kann, welches meinen Wünschen\n",
    "entspricht. Wünsche sind:\n"
   ],
   "id": "bc60409963280a3c"
  },
  {
   "metadata": {},
   "cell_type": "markdown",
   "source": [
    "1.1. Ich möchte alle Hotels in einer Stadt durchsuchen,\n",
    "damit ich das Hotel nach meinem bevorzugten Standort\n",
    "(Stadt) auswählen kann.\n"
   ],
   "id": "7c4b926815a27e7a"
  },
  {
   "metadata": {
    "ExecuteTime": {
     "end_time": "2025-06-04T23:14:51.592862Z",
     "start_time": "2025-06-04T23:14:51.587650Z"
    }
   },
   "cell_type": "code",
   "source": [
    "# DAO auf die DB zeigen lassen\n",
    "dao = HotelDataAccess(\"database/hotel_reservation_sample.db\")\n",
    "manager = HotelManager(dao)\n",
    "\n",
    "# nach Stadt filtern im String\n",
    "hotels_in_WunschStadt = manager.show_hotels_by_city(\"Basel\")\n",
    "\n",
    "if not hotels_in_WunschStadt:\n",
    "    print(\"Keine Hotels in dieser Stadt gefunden.\")\n",
    "else:\n",
    "    for h in hotels_in_WunschStadt:\n",
    "        print(f\"{h.name} – {h.address.street}, {h.address.zip_code}\")"
   ],
   "id": "a65026be23045a64",
   "outputs": [
    {
     "name": "stdout",
     "output_type": "stream",
     "text": [
      "Les Trois Rois – Freiestrasse 10, 4051\n"
     ]
    }
   ],
   "execution_count": 28
  },
  {
   "metadata": {},
   "cell_type": "markdown",
   "source": [
    "1.2. Ich möchte alle Hotels in einer Stadt nach der\n",
    "Anzahl der Sterne (z.B. mindestens 4 Sterne) durchsuchen."
   ],
   "id": "302efa6d33ffcaea"
  },
  {
   "metadata": {
    "ExecuteTime": {
     "end_time": "2025-06-04T23:15:08.707179Z",
     "start_time": "2025-06-04T23:15:08.700117Z"
    }
   },
   "cell_type": "code",
   "source": [
    "dao = HotelDataAccess(\"database/hotel_reservation_sample.db\")\n",
    "manager = HotelManager(dao)\n",
    "\n",
    "# Stadt und min_stars angeben\n",
    "city = \"Basel\"\n",
    "min_stars = 5\n",
    "\n",
    "# 3) Methode aufrufen\n",
    "result = manager.show_hotels_by_city_and_min_stars(city, min_stars)\n",
    "\n",
    "# 4) Ausgabe, falls Treffer vorhanden\n",
    "if result:\n",
    "    print(f\"Gefundene Hotels in '{city}' mit mindestens {min_stars} Sternen:\")\n",
    "    for h in result:\n",
    "        print(f\"  • {h.name} ({h.stars} Sterne) – {h.address.street}, {h.address.zip_code}\")"
   ],
   "id": "bb02af4fbaab340b",
   "outputs": [
    {
     "name": "stdout",
     "output_type": "stream",
     "text": [
      "Gefundene Hotels in 'Basel' mit mindestens 5 Sternen:\n",
      "  • Les Trois Rois (5 Sterne) – Freiestrasse 10, 4051\n"
     ]
    }
   ],
   "execution_count": 32
  }
 ],
 "metadata": {
  "kernelspec": {
   "display_name": "Python 3",
   "language": "python",
   "name": "python3"
  },
  "language_info": {
   "codemirror_mode": {
    "name": "ipython",
    "version": 2
   },
   "file_extension": ".py",
   "mimetype": "text/x-python",
   "name": "python",
   "nbconvert_exporter": "python",
   "pygments_lexer": "ipython2",
   "version": "2.7.6"
  }
 },
 "nbformat": 4,
 "nbformat_minor": 5
}
