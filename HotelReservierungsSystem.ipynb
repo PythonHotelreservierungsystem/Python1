{
 "cells": [
  {
   "cell_type": "code",
   "id": "initial_id",
   "metadata": {
    "collapsed": true,
    "ExecuteTime": {
     "end_time": "2025-05-12T09:39:33.415270Z",
     "start_time": "2025-05-12T09:39:33.403030Z"
    }
   },
   "source": "print(\"Hello World\")",
   "outputs": [
    {
     "name": "stdout",
     "output_type": "stream",
     "text": [
      "Hello World\n"
     ]
    }
   ],
   "execution_count": 1
  },
  {
   "metadata": {
    "ExecuteTime": {
     "end_time": "2025-05-12T09:50:01.791197Z",
     "start_time": "2025-05-12T09:50:01.762067Z"
    }
   },
   "cell_type": "code",
   "source": [
    "from model.address import Address\n",
    "\n",
    "new_address = Address(11, \"Bachstrasse 12\", \"Olten\", 4600)\n",
    "\n",
    "print(new_address)"
   ],
   "id": "8b5f98f7088208b0",
   "outputs": [
    {
     "name": "stdout",
     "output_type": "stream",
     "text": [
      "Address(id=11, street=Bachstrasse 12, city=Olten, zip_code=4600)\n"
     ]
    }
   ],
   "execution_count": 1
  }
 ],
 "metadata": {
  "kernelspec": {
   "display_name": "Python 3",
   "language": "python",
   "name": "python3"
  },
  "language_info": {
   "codemirror_mode": {
    "name": "ipython",
    "version": 2
   },
   "file_extension": ".py",
   "mimetype": "text/x-python",
   "name": "python",
   "nbconvert_exporter": "python",
   "pygments_lexer": "ipython2",
   "version": "2.7.6"
  }
 },
 "nbformat": 4,
 "nbformat_minor": 5
}
