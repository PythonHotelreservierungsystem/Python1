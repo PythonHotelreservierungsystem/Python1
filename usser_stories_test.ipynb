{
 "cells": [
  {
   "cell_type": "code",
   "id": "initial_id",
   "metadata": {
    "collapsed": true,
    "ExecuteTime": {
     "end_time": "2025-06-03T23:32:30.113795Z",
     "start_time": "2025-06-03T23:32:30.110193Z"
    }
   },
   "source": [
    "import os\n",
    "import sys\n",
    "\n",
    "proj_root = os.path.abspath(os.getcwd())\n",
    "if proj_root not in sys.path:\n",
    "    sys.path.insert(0, proj_root)"
   ],
   "outputs": [],
   "execution_count": 1
  },
  {
   "metadata": {
    "ExecuteTime": {
     "end_time": "2025-06-03T23:38:26.312901Z",
     "start_time": "2025-06-03T23:38:26.309803Z"
    }
   },
   "cell_type": "code",
   "source": [
    "from business_logic.hotel_manager import HotelManager\n",
    "from data_access.hotel_data_access import HotelDataAccess\n",
    "import model  # falls deine Hotel- und Address-Klassen hier liegen\n",
    "\n",
    "# Pfad zur SQLite-Datenbank\n",
    "db_path = os.path.join(proj_root, \"database\", \"hotel_reservation_sample.db\")\n",
    "\n",
    "# HotelManager mit dem Datenbankpfad erzeugen\n",
    "manager = HotelManager(HotelDataAccess(db_path))\n"
   ],
   "id": "656297c0cb2e8430",
   "outputs": [],
   "execution_count": 7
  },
  {
   "metadata": {
    "ExecuteTime": {
     "end_time": "2025-06-03T23:38:28.916388Z",
     "start_time": "2025-06-03T23:38:28.868783Z"
    }
   },
   "cell_type": "code",
   "source": [
    "stadt = \"Basel\"  # Oder z. B. \"Zürich\", je nach Inhalt der DB\n",
    "\n",
    "hotels = manager.show_hotels_by_city(stadt)\n",
    "\n",
    "if not hotels:\n",
    "    print(f\"Keine Hotels in {stadt} gefunden.\")\n",
    "else:\n",
    "    print(f\"Gefundene Hotels in {stadt}:\\n\")\n",
    "    for h in hotels:\n",
    "        print(f\"- {h.name} ({h.stars} Sterne) – Adresse: {h.address.street}, {h.address.zip_code} {h.address.city}\")"
   ],
   "id": "cae58737bbb5c20",
   "outputs": [
    {
     "ename": "TypeError",
     "evalue": "expected str, bytes or os.PathLike object, not HotelDataAccess",
     "output_type": "error",
     "traceback": [
      "\u001B[31m---------------------------------------------------------------------------\u001B[39m",
      "\u001B[31mTypeError\u001B[39m                                 Traceback (most recent call last)",
      "\u001B[36mCell\u001B[39m\u001B[36m \u001B[39m\u001B[32mIn[8]\u001B[39m\u001B[32m, line 3\u001B[39m\n\u001B[32m      1\u001B[39m stadt = \u001B[33m\"\u001B[39m\u001B[33mBasel\u001B[39m\u001B[33m\"\u001B[39m  \u001B[38;5;66;03m# Oder z. B. \"Zürich\", je nach Inhalt der DB\u001B[39;00m\n\u001B[32m----> \u001B[39m\u001B[32m3\u001B[39m hotels = \u001B[43mmanager\u001B[49m\u001B[43m.\u001B[49m\u001B[43mshow_hotels_by_city\u001B[49m\u001B[43m(\u001B[49m\u001B[43mstadt\u001B[49m\u001B[43m)\u001B[49m\n\u001B[32m      5\u001B[39m \u001B[38;5;28;01mif\u001B[39;00m \u001B[38;5;129;01mnot\u001B[39;00m hotels:\n\u001B[32m      6\u001B[39m     \u001B[38;5;28mprint\u001B[39m(\u001B[33mf\u001B[39m\u001B[33m\"\u001B[39m\u001B[33mKeine Hotels in \u001B[39m\u001B[38;5;132;01m{\u001B[39;00mstadt\u001B[38;5;132;01m}\u001B[39;00m\u001B[33m gefunden.\u001B[39m\u001B[33m\"\u001B[39m)\n",
      "\u001B[36mFile \u001B[39m\u001B[32m~\\PycharmProjects\\PythonProjektarbeit\\business_logic\\hotel_manager.py:13\u001B[39m, in \u001B[36mHotelManager.show_hotels_by_city\u001B[39m\u001B[34m(self, city)\u001B[39m\n\u001B[32m     11\u001B[39m \u001B[38;5;28;01mdef\u001B[39;00m\u001B[38;5;250m \u001B[39m\u001B[34mshow_hotels_by_city\u001B[39m(\u001B[38;5;28mself\u001B[39m, city: \u001B[38;5;28mstr\u001B[39m) -> \u001B[38;5;28mlist\u001B[39m[model.Hotel]:\n\u001B[32m     12\u001B[39m     \u001B[38;5;66;03m#Gibt alle Hotels zurück, deren zugehörige Adresse in der angegebenen Stadt liegt\u001B[39;00m\n\u001B[32m---> \u001B[39m\u001B[32m13\u001B[39m     \u001B[38;5;28;01mreturn\u001B[39;00m \u001B[38;5;28;43mself\u001B[39;49m\u001B[43m.\u001B[49m\u001B[43m__hotel_da\u001B[49m\u001B[43m.\u001B[49m\u001B[43mshow_hotels_by_city\u001B[49m\u001B[43m(\u001B[49m\u001B[43mcity\u001B[49m\u001B[43m)\u001B[49m\n",
      "\u001B[36mFile \u001B[39m\u001B[32m~\\PycharmProjects\\PythonProjektarbeit\\data_access\\hotel_data_access.py:31\u001B[39m, in \u001B[36mHotelDataAccess.show_hotels_by_city\u001B[39m\u001B[34m(self, city)\u001B[39m\n\u001B[32m     18\u001B[39m \u001B[38;5;28;01mdef\u001B[39;00m\u001B[38;5;250m \u001B[39m\u001B[34mshow_hotels_by_city\u001B[39m(\u001B[38;5;28mself\u001B[39m, city: \u001B[38;5;28mstr\u001B[39m) -> \u001B[38;5;28mlist\u001B[39m[model.Hotel]:\n\u001B[32m     19\u001B[39m     sql = \u001B[33m\"\"\"\u001B[39m\n\u001B[32m     20\u001B[39m \u001B[33m        SELECT h.hotel_id,\u001B[39m\n\u001B[32m     21\u001B[39m \u001B[33m               h.name,\u001B[39m\n\u001B[32m   (...)\u001B[39m\u001B[32m     29\u001B[39m \u001B[33m        WHERE LOWER(a.city) = LOWER(?)\u001B[39m\n\u001B[32m     30\u001B[39m \u001B[33m    \u001B[39m\u001B[33m\"\"\"\u001B[39m\n\u001B[32m---> \u001B[39m\u001B[32m31\u001B[39m     rows = \u001B[38;5;28;43mself\u001B[39;49m\u001B[43m.\u001B[49m\u001B[43mfetchall\u001B[49m\u001B[43m(\u001B[49m\u001B[43msql\u001B[49m\u001B[43m,\u001B[49m\u001B[43m \u001B[49m\u001B[43m(\u001B[49m\u001B[43mcity\u001B[49m\u001B[43m,\u001B[49m\u001B[43m)\u001B[49m\u001B[43m)\u001B[49m  \u001B[38;5;66;03m# nutzt BaseDataAccess-Funktion\u001B[39;00m\n\u001B[32m     33\u001B[39m     hotels = []\n\u001B[32m     34\u001B[39m     \u001B[38;5;28;01mfor\u001B[39;00m row \u001B[38;5;129;01min\u001B[39;00m rows:\n",
      "\u001B[36mFile \u001B[39m\u001B[32m~\\PycharmProjects\\PythonProjektarbeit\\data_access\\base_data_access.py:36\u001B[39m, in \u001B[36mBaseDataAccess.fetchall\u001B[39m\u001B[34m(self, sql, params)\u001B[39m\n\u001B[32m     33\u001B[39m \u001B[38;5;28;01mif\u001B[39;00m params \u001B[38;5;129;01mis\u001B[39;00m \u001B[38;5;28;01mNone\u001B[39;00m:\n\u001B[32m     34\u001B[39m     \u001B[38;5;66;03m# leeres tuple für sql parameter wenn params None ist\u001B[39;00m\n\u001B[32m     35\u001B[39m     params = ()\n\u001B[32m---> \u001B[39m\u001B[32m36\u001B[39m \u001B[38;5;28;01mwith\u001B[39;00m \u001B[38;5;28;43mself\u001B[39;49m\u001B[43m.\u001B[49m\u001B[43m_connect\u001B[49m\u001B[43m(\u001B[49m\u001B[43m)\u001B[49m \u001B[38;5;28;01mas\u001B[39;00m conn:\n\u001B[32m     37\u001B[39m     \u001B[38;5;28;01mtry\u001B[39;00m:\n\u001B[32m     38\u001B[39m         cursor = conn.execute(sql, params)\n",
      "\u001B[36mFile \u001B[39m\u001B[32m~\\PycharmProjects\\PythonProjektarbeit\\data_access\\base_data_access.py:17\u001B[39m, in \u001B[36mBaseDataAccess._connect\u001B[39m\u001B[34m(self)\u001B[39m\n\u001B[32m     14\u001B[39m \u001B[38;5;28;01mdef\u001B[39;00m\u001B[38;5;250m \u001B[39m\u001B[34m_connect\u001B[39m(\u001B[38;5;28mself\u001B[39m):\n\u001B[32m     15\u001B[39m     \u001B[38;5;66;03m# Mit detect_types=sqlite3.PARSE_DECLTYPES wird\u001B[39;00m\n\u001B[32m     16\u001B[39m     \u001B[38;5;66;03m# der Verbindung gesagt die registrierten Adapter und Konverter zu verwenden\u001B[39;00m\n\u001B[32m---> \u001B[39m\u001B[32m17\u001B[39m     \u001B[38;5;28;01mreturn\u001B[39;00m \u001B[43msqlite3\u001B[49m\u001B[43m.\u001B[49m\u001B[43mconnect\u001B[49m\u001B[43m(\u001B[49m\u001B[38;5;28;43mself\u001B[39;49m\u001B[43m.\u001B[49m\u001B[43m__connection_str\u001B[49m\u001B[43m,\u001B[49m\u001B[43m \u001B[49m\u001B[43mdetect_types\u001B[49m\u001B[43m=\u001B[49m\u001B[43msqlite3\u001B[49m\u001B[43m.\u001B[49m\u001B[43mPARSE_DECLTYPES\u001B[49m\u001B[43m)\u001B[49m\n",
      "\u001B[31mTypeError\u001B[39m: expected str, bytes or os.PathLike object, not HotelDataAccess"
     ]
    }
   ],
   "execution_count": 8
  }
 ],
 "metadata": {
  "kernelspec": {
   "display_name": "Python 3",
   "language": "python",
   "name": "python3"
  },
  "language_info": {
   "codemirror_mode": {
    "name": "ipython",
    "version": 2
   },
   "file_extension": ".py",
   "mimetype": "text/x-python",
   "name": "python",
   "nbconvert_exporter": "python",
   "pygments_lexer": "ipython2",
   "version": "2.7.6"
  }
 },
 "nbformat": 4,
 "nbformat_minor": 5
}
