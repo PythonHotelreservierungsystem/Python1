{
 "cells": [
  {
   "cell_type": "code",
   "id": "initial_id",
   "metadata": {
    "collapsed": true,
    "ExecuteTime": {
     "end_time": "2025-05-19T19:27:29.654584Z",
     "start_time": "2025-05-19T19:27:29.648609Z"
    }
   },
   "source": [
    "import os\n",
    "print(\"[DEBUG] Working directory:\", os.getcwd())"
   ],
   "outputs": [
    {
     "name": "stdout",
     "output_type": "stream",
     "text": [
      "[DEBUG] Working directory: /Users/cesco/PycharmProjects/PythonProjektarbeit\n"
     ]
    }
   ],
   "execution_count": 1
  },
  {
   "metadata": {
    "ExecuteTime": {
     "end_time": "2025-05-19T19:59:29.854545Z",
     "start_time": "2025-05-19T19:59:29.843229Z"
    }
   },
   "cell_type": "code",
   "source": [
    "from data_access import BaseDataAccess\n",
    "if __name__ == \"__main__\":\n",
    "        # Nur Test: hier wird der Konstruktor aufgerufen\n",
    "        BaseDataAccess()"
   ],
   "id": "7af68d6a934b5cbf",
   "outputs": [],
   "execution_count": 3
  }
 ],
 "metadata": {
  "kernelspec": {
   "display_name": "Python 3",
   "language": "python",
   "name": "python3"
  },
  "language_info": {
   "codemirror_mode": {
    "name": "ipython",
    "version": 2
   },
   "file_extension": ".py",
   "mimetype": "text/x-python",
   "name": "python",
   "nbconvert_exporter": "python",
   "pygments_lexer": "ipython2",
   "version": "2.7.6"
  }
 },
 "nbformat": 4,
 "nbformat_minor": 5
}
